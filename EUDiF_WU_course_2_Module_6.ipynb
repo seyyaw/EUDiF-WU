{
  "cells": [
    {
      "cell_type": "markdown",
      "metadata": {
        "id": "view-in-github",
        "colab_type": "text"
      },
      "source": [
        "<a href=\"https://colab.research.google.com/github/seyyaw/EUDiF-WU/blob/main/EUDiF_WU_course_2_Module_6.ipynb\" target=\"_parent\"><img src=\"https://colab.research.google.com/assets/colab-badge.svg\" alt=\"Open In Colab\"/></a>"
      ]
    },
    {
      "cell_type": "code",
      "execution_count": null,
      "metadata": {
        "id": "Z5y6q67oJXD5",
        "outputId": "5d6087da-6e0c-4099-ffe2-c902e4bf4520"
      },
      "outputs": [
        {
          "data": {
            "text/html": [
              "<style>\n",
              "table {display: block;}\n",
              "td {\n",
              "font-size: 20px\n",
              "}\n",
              ".rendered_html { font-size: 20px; }\n",
              "*{ line-height: 200%; }\n",
              "</style>\n"
            ],
            "text/plain": [
              "<IPython.core.display.HTML object>"
            ]
          },
          "metadata": {},
          "output_type": "display_data"
        }
      ],
      "source": [
        "%%html\n",
        "<style>\n",
        "table {display: block;}\n",
        "td {\n",
        "font-size: 20px\n",
        "}\n",
        ".rendered_html { font-size: 20px; }\n",
        "*{ line-height: 200%; }\n",
        "</style>"
      ]
    },
    {
      "cell_type": "markdown",
      "metadata": {
        "id": "fNyR6--jJXD8"
      },
      "source": [
        "<div class=\"footer\">\n",
        "   <p><img src='https://drive.google.com/uc?id=1XOmyYOFsSY5hBLYYHB64TYWWQpvP86Zg'></p>\n",
        "</div>"
      ]
    },
    {
      "cell_type": "markdown",
      "metadata": {
        "id": "UL2BjHR-15g1"
      },
      "source": [
        "# Course Name"
      ]
    },
    {
      "cell_type": "markdown",
      "metadata": {
        "id": "sXmlJli2JXD9"
      },
      "source": [
        "<font color='blue' size='14'>EUDiF WU Course 2: - Introduction to programming for agribusiness and environment</font> \n",
        "\n",
        "---\n",
        "---"
      ]
    },
    {
      "cell_type": "markdown",
      "metadata": {
        "id": "0_pW2UmPRpTv"
      },
      "source": [
        "# Module 6"
      ]
    },
    {
      "cell_type": "markdown",
      "metadata": {
        "id": "ycBWGNF-JXE6"
      },
      "source": [
        "<font color='blue' size='14'> Module 6:  Introduction to Python programming II </font>\n",
        "\n"
      ]
    },
    {
      "cell_type": "markdown",
      "metadata": {
        "id": "iOZcv5yxMnbO"
      },
      "source": [
        "# Objective\n",
        "---\n",
        "-\tExplain how to `create` and `use lists`, discuss `indexing`, adding, and `removing elements from a list`\n",
        "-\tIntroduce the concept of `data structures`, `classes`, and how to `create objects`\n",
        "-\tLearn the basics of `searching` and `pattern matching` using `regular expressions`\n",
        "-\tIntroduce about `errors`, `bugs` and how to `catch exceptions`\n",
        "---"
      ]
    },
    {
      "cell_type": "markdown",
      "metadata": {
        "id": "cad7-2SeJXE7"
      },
      "source": [
        "## List and indexing"
      ]
    },
    {
      "cell_type": "markdown",
      "metadata": {
        "id": "7yZd8zMFJXE7"
      },
      "source": [
        "Entries in a list are ordered naturally, the first added will be in inserted in the first position (`index`). Indexing in Python starts with 0, so the first item will be at index 0 while the last will be at `length of items -1`. Items can be accessed by their index position."
      ]
    },
    {
      "cell_type": "code",
      "execution_count": null,
      "metadata": {
        "id": "t91380saJXE7",
        "outputId": "455ac5f3-ef5b-4031-ab3e-3a2d441dc88f"
      },
      "outputs": [
        {
          "name": "stdout",
          "output_type": "stream",
          "text": [
            "The list has 6 Items\n",
            "The first item is 100\n",
            "The last item is 99\n"
          ]
        }
      ],
      "source": [
        "mylists = [100, 56, 76, 34, 56, 99]\n",
        "print ('The list has '+  str(len(mylists)) + ' Items')\n",
        "print(\"The first item is \" + str(mylists[0]))\n",
        "print(\"The last item is \" + str(mylists[len(mylists)-1]))"
      ]
    },
    {
      "cell_type": "markdown",
      "metadata": {
        "id": "NooXLDCWJXE7"
      },
      "source": [
        "### Inserting in a list"
      ]
    },
    {
      "cell_type": "markdown",
      "metadata": {
        "id": "oRhbdmOfJXE7"
      },
      "source": [
        "it is possible to add an item in a list, by `specifying the position` using the `insert()` function or  at `the end of the list `using the `append()` function. **Be aware that, if you call these functions more than one times, it will keep on adding the values**. The `extend()`function is used to extend two lists"
      ]
    },
    {
      "cell_type": "code",
      "execution_count": null,
      "metadata": {
        "id": "JZN325nLJXE8",
        "outputId": "f692636e-635b-477b-cf5b-1501dc705721"
      },
      "outputs": [
        {
          "name": "stdout",
          "output_type": "stream",
          "text": [
            "[100, 56, 44, 76, 34, 56, 99]\n",
            "[100, 56, 44, 76, 34, 56, 99, '14']\n"
          ]
        }
      ],
      "source": [
        "mylists.insert(2,44)\n",
        "print(mylists)\n",
        "mylists.append('14')\n",
        "print (mylists)"
      ]
    },
    {
      "cell_type": "code",
      "execution_count": null,
      "metadata": {
        "id": "h36Mxqx6JXE8",
        "outputId": "b5b6da03-b602-4d83-d67c-6ab5982d03dc"
      },
      "outputs": [
        {
          "name": "stdout",
          "output_type": "stream",
          "text": [
            "There are  8  corns in total\n",
            "these are the corns ['blue corn plant', 'flint corn plant', 'white field corn plant', 'yellow field corn plant', 'white popcorn plant', 'yellow popcorn plant', 'white sweet corn plant', 'yellow sweet corn plant']\n"
          ]
        }
      ],
      "source": [
        "field_corn_plant=[\"blue corn plant\",\"flint corn plant\",\"white field corn plant\",\"yellow field corn plant\"]\n",
        "popcorn_plant=[\"white popcorn plant\",\"yellow popcorn plant\"]\n",
        "sweet_corn_plant = [\"white sweet corn plant\",\"yellow sweet corn plant\"]\n",
        "corns = []\n",
        "corns.extend(field_corn_plant)\n",
        "corns.extend(popcorn_plant)\n",
        "corns.extend(sweet_corn_plant)\n",
        "print('There are ', len(corns), ' corns in total')\n",
        "print('these are the corns', corns)"
      ]
    },
    {
      "cell_type": "markdown",
      "metadata": {
        "id": "xu7oS0GSJXE8"
      },
      "source": [
        "### Removing from the list"
      ]
    },
    {
      "cell_type": "markdown",
      "metadata": {
        "id": "nJpRPbEtJXE8"
      },
      "source": [
        "We can use, `remove()`, `pop()`, `del`, and `clear()` methods.\n",
        "The **remove()** method will remove the element if it exist in the list. **pop()** and **del** will remove using the index while **clear()** method is used to clear the whole list"
      ]
    },
    {
      "cell_type": "code",
      "execution_count": null,
      "metadata": {
        "id": "U237wuF0JXE8",
        "outputId": "4deac9ae-c7e0-49e0-b7fc-0d15510f43c4"
      },
      "outputs": [
        {
          "name": "stdout",
          "output_type": "stream",
          "text": [
            "===========\n",
            "['blue corn plant', 'flint corn plant', 'white field corn plant', 'yellow field corn plant', 'white popcorn plant', 'yellow popcorn plant', 'white sweet corn plant', 'yellow sweet corn plant']\n",
            "8\n",
            "===========\n"
          ]
        }
      ],
      "source": [
        "print(\"===========\")\n",
        "print(corns)\n",
        "print(len(corns))\n",
        "print(\"===========\")\n"
      ]
    },
    {
      "cell_type": "code",
      "execution_count": null,
      "metadata": {
        "id": "l-WQztzAMnbU",
        "outputId": "d3e8d0cf-6c16-4a7f-8480-5c82fd57cf24"
      },
      "outputs": [
        {
          "name": "stdout",
          "output_type": "stream",
          "text": [
            "===========\n",
            "['blue corn plant', 'flint corn plant', 'yellow field corn plant', 'white popcorn plant', 'yellow popcorn plant', 'white sweet corn plant', 'yellow sweet corn plant']\n",
            "===========\n"
          ]
        }
      ],
      "source": [
        "corns.remove(\"white field corn plant\")\n",
        "print(\"===========\")\n",
        "print(corns)\n",
        "print(\"===========\")\n"
      ]
    },
    {
      "cell_type": "code",
      "execution_count": null,
      "metadata": {
        "id": "VbeYvlIbMnbU",
        "outputId": "28ae5052-1247-4329-c7b1-675362171071"
      },
      "outputs": [
        {
          "name": "stdout",
          "output_type": "stream",
          "text": [
            "['blue corn plant', 'flint corn plant', 'yellow field corn plant', 'white popcorn plant', 'yellow popcorn plant', 'yellow sweet corn plant']\n",
            "===========\n",
            "['flint corn plant', 'yellow field corn plant', 'white popcorn plant', 'yellow popcorn plant', 'yellow sweet corn plant']\n",
            "===========\n"
          ]
        }
      ],
      "source": [
        "corns.pop(5)\n",
        "print(corns)\n",
        "print(\"===========\")\n",
        "del corns[0]\n",
        "print(corns)\n",
        "print(\"===========\")\n"
      ]
    },
    {
      "cell_type": "code",
      "execution_count": null,
      "metadata": {
        "id": "flgiEb9qMnbV",
        "outputId": "44d2e034-ae71-41fc-d0e1-d7d9a09d639c"
      },
      "outputs": [
        {
          "name": "stdout",
          "output_type": "stream",
          "text": [
            "===========\n",
            "0\n"
          ]
        }
      ],
      "source": [
        "corns.clear()\n",
        "print(\"===========\")\n",
        "print(len(corns))"
      ]
    },
    {
      "cell_type": "markdown",
      "metadata": {
        "id": "-rGy2jeeJXE9"
      },
      "source": [
        "<font color='red' size='24'> Quiz </font>\n",
        "1. If use use the pop() method to delete an item but the index is not available, what happened. If you insert an item in index larger than the existing ones, what happen. For example, the list has 10 elements, what does pop(11) and insert(12,'element') do"
      ]
    },
    {
      "cell_type": "markdown",
      "metadata": {
        "id": "FwMp51AUJXE9"
      },
      "source": [
        "## Data structures, classes, and objects in Python"
      ]
    },
    {
      "cell_type": "markdown",
      "metadata": {
        "id": "LczddvWRJXE9"
      },
      "source": [
        "The main data structure in Python are managed by lists, tuples, sets, and dictionaries, as we have discussed above. They are used to manipulate and interact with data. We will discuss advanced libraries for the basic data manipulation, such as using `Numpy` in the coming modules. For now, we will focus on how to use the basic data structures in a class."
      ]
    },
    {
      "cell_type": "markdown",
      "metadata": {
        "id": "UKLQ33EYJXE9"
      },
      "source": [
        "### Python Classes and Objects"
      ]
    },
    {
      "cell_type": "markdown",
      "metadata": {
        "id": "XO7HgOGmJXE-"
      },
      "source": [
        "With the basic data structures, we have demonstrated what to attain using Python. However, to build a full-fledge application, we need to `create a more organized structure` which can be materialized using Python `classes and objects`. A `class` is a user-defined `blueprint` or `prototype` from which `objects` are created. Classes provide a means of bundling data and functionality together, creating well-defined structure. "
      ]
    },
    {
      "cell_type": "markdown",
      "metadata": {
        "id": "e3cR_GKoMnbV"
      },
      "source": [
        "Creating a new class allows to define a `new type of object`. The object can hold multiple related-attributes. Each class `instance`, which is called an `object`, will maintain its state using the attributes. In addition to attributes, classes will have also different methods. A class should be independent and can stand by itself, attaining a specific goal or objective. If a class is trying to accomplish multiple tasks at a time, it should be split into multiple classes.\n",
        "\n",
        "In a way, the class creates a `user-defined data structure`, on top of built-in Python data structures. The class will holds its own data members and member functions, which can be accessed and used by creating an instance of that class. A class is like a `blueprint` for an object."
      ]
    },
    {
      "cell_type": "markdown",
      "metadata": {
        "id": "5F7bzeagJXE-"
      },
      "source": [
        "A class has the following syntax\n",
        "\n",
        "```\n",
        "class className:\n",
        "    atrribute1:\n",
        "    # Statement-1\n",
        "    .\n",
        "    .\n",
        "    .\n",
        "    # Statement-N\n",
        "  ```\n"
      ]
    },
    {
      "cell_type": "markdown",
      "metadata": {
        "id": "CDRbSerxMnbW"
      },
      "source": [
        "Classes are created by keyword class.\n",
        "* Attributes are the variables that belong to a class.\n",
        "* Attributes are always public and can be accessed using the dot (.) operator. Eg.: `className.atrribute1`"
      ]
    },
    {
      "cell_type": "code",
      "execution_count": null,
      "metadata": {
        "id": "q76JUIVIJXE-"
      },
      "outputs": [],
      "source": [
        "class dog:\n",
        "    age = 0,\n",
        "    color = 'red',\n",
        "    breed = 'african',\n",
        "    def eat():\n",
        "        pass\n",
        "    "
      ]
    },
    {
      "cell_type": "markdown",
      "metadata": {
        "id": "tTHqBtIPJXE-"
      },
      "source": [
        "### [Class Objects](https://www.geeksforgeeks.org/python-classes-and-objects/)"
      ]
    },
    {
      "cell_type": "markdown",
      "metadata": {
        "id": "T4fJlCcSMnbW"
      },
      "source": [
        "An Object is an instance of a Class. A class is like a blueprint while an instance is a copy of the class with actual values. It’s not an idea anymore, it’s an actual dog, like a dog of breed pug who’s seven years old. You can have many dogs to create many different instances, but without the class as a guide, you would be lost, not knowing what information is required.\n",
        "An object consists of : "
      ]
    },
    {
      "cell_type": "markdown",
      "metadata": {
        "id": "W7wCaCpMJXE_"
      },
      "source": [
        "* `State`: It is represented by the attributes of an object. It also reflects the properties of an object.\n",
        "* `Behavior`: It is represented by the methods of an object. It also reflects the response of an object to other objects.\n",
        "* `Identity`: It gives a unique name to an object and enables one object to interact with other objects.\n",
        "<img src='https://drive.google.com/uc?id=112fqXAUvKftI2BeFikWDz0CnXSImxBO9'>"
      ]
    },
    {
      "cell_type": "markdown",
      "metadata": {
        "id": "S_urqVsTJXE_"
      },
      "source": [
        "## Object instantiation"
      ]
    },
    {
      "cell_type": "markdown",
      "metadata": {
        "id": "knWPOhoJJXE_"
      },
      "source": [
        "Once classes are defined, they can be instantiated to create an actual entity. A class can have multiple objects or instances. \n",
        "<img src='https://drive.google.com/uc?id=1ce5JhrrmcBjh08OYam-sPYhiPNOv_Huf'>"
      ]
    },
    {
      "cell_type": "code",
      "execution_count": null,
      "metadata": {
        "id": "4ZglnXxgJXE_",
        "outputId": "a65ed703-995f-4eca-a231-17e8ee609891",
        "scrolled": true
      },
      "outputs": [
        {
          "name": "stdout",
          "output_type": "stream",
          "text": [
            "mammal\n",
            "I'm a mammal\n",
            "I'm a dog\n"
          ]
        }
      ],
      "source": [
        "class Dog:\n",
        "    attr1 = \"mammal\"\n",
        "    attr2 = \"dog\"\n",
        "    def fun(self):\n",
        "        print(\"I'm a\", self.attr1)\n",
        "        print(\"I'm a\", self.attr2)\n",
        "bobie = Dog()\n",
        "print(bobie.attr1)\n",
        "bobie.fun()"
      ]
    },
    {
      "cell_type": "markdown",
      "metadata": {
        "id": "LcMDcvs0JXFA"
      },
      "source": [
        "### The Python self"
      ]
    },
    {
      "cell_type": "markdown",
      "metadata": {
        "id": "-B1amNu3JXFA"
      },
      "source": [
        "Python class methods must have an extra first parameter in the method definition. We do not give a value for this parameter when we call the method, Python provides it. That is what we call a `self`. The `self` syntax is used to access instance or class variables."
      ]
    },
    {
      "cell_type": "markdown",
      "metadata": {
        "id": "rC-DozivJXFA"
      },
      "source": [
        "### Class and Instance Variables"
      ]
    },
    {
      "cell_type": "markdown",
      "metadata": {
        "id": "dLWIapvbJXFA"
      },
      "source": [
        "`Instance variables` are for data, unique to each instance or object, that are created or instantiated after the class is defined.  But `class variables` are for attributes and methods shared by all instances of the class, they are created or defined when the class is constructed. Instance variables are variables whose value is assigned inside a constructor or method with self whereas class variables are variables whose value is assigned in the class."
      ]
    },
    {
      "cell_type": "code",
      "execution_count": null,
      "metadata": {
        "id": "6UtPJi-NJXFA"
      },
      "outputs": [],
      "source": [
        "class Dog:\n",
        "    animal = 'dog'            \n",
        "    def __init__(self, breed, color):   \n",
        "        self.breed = breed\n",
        "        self.color = color        "
      ]
    },
    {
      "cell_type": "code",
      "execution_count": null,
      "metadata": {
        "id": "rNwci1eiMnbY",
        "outputId": "b4920649-1bd9-4652-dcd4-e549f2003372"
      },
      "outputs": [
        {
          "name": "stdout",
          "output_type": "stream",
          "text": [
            "bobbie details:\n",
            "bobbie is a \u001b[31mdog\u001b[0m\n",
            "Breed:  Pug\n",
            "Color:  brown\n"
          ]
        }
      ],
      "source": [
        "# Objects of Dog class\n",
        "bobbie = Dog(\"Pug\", \"brown\")\n",
        "buche = Dog(\"Bulldog\", \"black\")\n",
        " \n",
        "print('bobbie details:')  \n",
        "print('bobbie is a', \"\\x1b[31m\"+bobbie.animal+\"\\x1b[0m\")\n",
        "print('Breed: ', bobbie.breed)\n",
        "print('Color: ', bobbie.color)\n",
        " "
      ]
    },
    {
      "cell_type": "code",
      "execution_count": null,
      "metadata": {
        "id": "eHq6HQ7FMnbZ",
        "outputId": "85cd9be5-b862-4e3b-c126-563633099e97"
      },
      "outputs": [
        {
          "name": "stdout",
          "output_type": "stream",
          "text": [
            "\n",
            "buche details:\n",
            "buche is a \u001b[31mdog\u001b[0m\n",
            "Breed:  Bulldog\n",
            "Color:  black\n"
          ]
        }
      ],
      "source": [
        "print('\\nbuche details:')  \n",
        "print('buche is a', \"\\x1b[31m\"+buche.animal+\"\\x1b[0m\")\n",
        "print('Breed: ', buche.breed)\n",
        "print('Color: ', buche.color)\n"
      ]
    },
    {
      "cell_type": "code",
      "execution_count": null,
      "metadata": {
        "id": "XBVdSJ9pMnbZ",
        "outputId": "c8b2c842-4b8c-4d88-be29-eeac2daac1ed"
      },
      "outputs": [
        {
          "name": "stdout",
          "output_type": "stream",
          "text": [
            "\n",
            "Accessing class variable using class name\n",
            "\u001b[31mdog\u001b[0m\n"
          ]
        }
      ],
      "source": [
        "# Class variables can be accessed using class\n",
        "# name also\n",
        "print(\"\\nAccessing class variable using class name\")\n",
        "print(\"\\x1b[31m\"+Dog.animal+\"\\x1b[0m\") "
      ]
    },
    {
      "cell_type": "markdown",
      "metadata": {
        "id": "l7NWg7TWJXFB"
      },
      "source": [
        "<font color='red' size='24'> Quiz </font>\n",
        "1. You are creating a class for farm management in Ethiopia. The class should have some attributes such as size of land, soil type, country, and the name owner. Which attributes can be class variable and which attributes are instance variables"
      ]
    },
    {
      "cell_type": "markdown",
      "metadata": {
        "id": "a7cEPjlNJXFB"
      },
      "source": [
        "## Regular expression, matching, searching"
      ]
    },
    {
      "cell_type": "markdown",
      "metadata": {
        "id": "IwtkMbDoJXFB"
      },
      "source": [
        "A regular expression, which is also knowns as `RE`, `regex`, `regexs`, is a `pattern` describing some text.  Most letters and characters will simply match themselves. For example, the regular expression `test` will match the\n",
        "string `test` exactly. \n",
        "There are exceptions to this rule; some characters are special metacharacters, and do not match themselves\n",
        "\n",
        "These are the metacharacters: ``` . ^ $ * + ? { } [ ] \\ | ( )```"
      ]
    },
    {
      "cell_type": "markdown",
      "metadata": {
        "id": "F3ZrjRY6JXFB"
      },
      "source": [
        "1. **[** and **]**:  used for specifying a character class, ranges indicated by `-`. [a-x] --> matches a to x, [0-9] --> matches 0 to 9\n",
        "1. **^**: negation, for example `[^5]` matches any character except 5\n",
        "1. **\\**:  escape all the metacharacters so you can still match them in patterns. `\\[` matches `[` while ` \\\\ `matches `\\`.\n",
        "1. **\\w**: matches any alphanumeric character. "
      ]
    },
    {
      "cell_type": "markdown",
      "metadata": {
        "id": "wRnSHUQLJXFB"
      },
      "source": [
        "* `\\d` Matches any decimal digit; this is equivalent to the class [0-9].\n",
        "* `\\D` Matches any non-digit character; this is equivalent to the class [^0-9].\n",
        "* `\\s` Matches any whitespace character; this is equivalent to the class [ \\t\\n\\r\\f\\v].\n",
        "* `\\S` Matches any non-whitespace character; this is equivalent to the class [^ \\t\\n\\r\\f\\v].\n",
        "* `\\w` Matches any alphanumeric character; this is equivalent to the class [a-zA-Z0-9_]."
      ]
    },
    {
      "cell_type": "markdown",
      "metadata": {
        "id": "ae4iasQqMnba"
      },
      "source": [
        "* `\\W` Matches any non-alphanumeric character; this is equivalent to the class [^a-zA-Z0-9_].\n",
        "* `.` Matches any character (except newline character)\n",
        "* `^` Matches starts with\n",
        "* `$` Matches ends with\n",
        "* `|` Matches either or"
      ]
    },
    {
      "cell_type": "markdown",
      "metadata": {
        "id": "3nORyROwJXFC"
      },
      "source": [
        "The `re` module provides an interface to the regular expression engine, allowing you to compile REs into objects and then perform matches with them."
      ]
    },
    {
      "cell_type": "code",
      "execution_count": null,
      "metadata": {
        "id": "J3N8tfQaJXFC",
        "outputId": "54d877ec-4555-4b38-8bb7-91873cf7dd7b"
      },
      "outputs": [
        {
          "name": "stdout",
          "output_type": "stream",
          "text": [
            "['t', 'e', 's', 't']\n",
            "['e', 's', 't']\n"
          ]
        }
      ],
      "source": [
        "import re\n",
        "p = re.compile('[a-z]')\n",
        "print(p.findall(\"test\"))\n",
        "print(p.findall(\"Test\"))"
      ]
    },
    {
      "cell_type": "code",
      "execution_count": null,
      "metadata": {
        "id": "9VfYPp2TJXFC",
        "outputId": "82084ee9-1575-4685-a44b-2dc772feaf87"
      },
      "outputs": [
        {
          "name": "stdout",
          "output_type": "stream",
          "text": [
            "['አዲስ', 'አዲስ']\n"
          ]
        }
      ],
      "source": [
        "text = \"\"\"በአዲስ አበባ ከተማ ትናንት ረቡዕ ሰኔ 01/2014 ዓ.ም. በጎርፍ የተወሰደ ታዳጊ በአደጋ ጊዜ ሠራተኞች እና በነዋሪ እየተፈለገ ነው ተባለ።\n",
        "\n",
        "የአዲስ አበባ እሳትና አደጋ ስጋት ሥራ አመራር ኮሚሽን የሕዝብ ግንኙነት ባለሙያ አቶ ንጋቱ ማሞ ረቡዕ ዕለት ጉለሌ ክፍለ ከተማ ላዛሪስ ትምህርት ቤት አካባቢ በጎርፍ የተወሰደ ታዳጊ እየተፈለገ መሆኑን ለቢቢሲ ተናግረዋል። \"\"\"\n",
        "p=re.compile('አዲስ')\n",
        "print(p.findall(text))"
      ]
    },
    {
      "cell_type": "markdown",
      "metadata": {
        "id": "WhaPbeTwJXFC"
      },
      "source": [
        "## Repeating Things"
      ]
    },
    {
      "cell_type": "markdown",
      "metadata": {
        "id": "H_BrbfmQJXFD"
      },
      "source": [
        "The first metacharacter for repeating things is `*`. `*` doesn’t match the literal character '*'; instead, it specifies that the previous character can be matched zero or more times, instead of exactly once. The `+` meta character looks for patterns that occurs once or more times in the search space."
      ]
    },
    {
      "cell_type": "code",
      "execution_count": null,
      "metadata": {
        "id": "gdzFpgLDJXFD",
        "outputId": "0b56102f-ada3-47d2-da61-8ca7afa64081"
      },
      "outputs": [
        {
          "name": "stdout",
          "output_type": "stream",
          "text": [
            "['47880', '0']\n",
            "['ሰው', 'ሰጠው']\n"
          ]
        }
      ],
      "source": [
        "p = re.compile('[\\d]+')\n",
        "print(p.findall(\"This is my lucky number 47880. It ends with 0\"))\n",
        "p = re.compile('ሰ.?ው') # Zero or one occurrences of character bewteen ሰ and ው\n",
        "print(p.findall(\"ብዙ ሰው ለሱ ሰጠው\"))"
      ]
    },
    {
      "cell_type": "code",
      "execution_count": null,
      "metadata": {
        "id": "wD0M53zHJXFD",
        "outputId": "48cd04b2-cb14-445b-e311-f4082c6f71a8"
      },
      "outputs": [
        {
          "name": "stdout",
          "output_type": "stream",
          "text": [
            "['ጤና']\n"
          ]
        }
      ],
      "source": [
        "print(re.findall(\"^ጤና\", \"ጤና ይስጥልን!\"))"
      ]
    },
    {
      "cell_type": "code",
      "execution_count": null,
      "metadata": {
        "id": "nLSLV_HIJXFD",
        "outputId": "bd797f23-c0a7-4055-f1bb-b8e111e80880"
      },
      "outputs": [
        {
          "name": "stdout",
          "output_type": "stream",
          "text": [
            "['ይስጥልን!']\n"
          ]
        }
      ],
      "source": [
        "print(re.findall(\"ይስጥልን!$\", \"ጤና ይስጥልን!\"))"
      ]
    },
    {
      "cell_type": "code",
      "execution_count": null,
      "metadata": {
        "id": "jQcDFIlqJXFE",
        "outputId": "b591c609-4860-4ea7-a490-3c83e91c8cf3"
      },
      "outputs": [
        {
          "name": "stdout",
          "output_type": "stream",
          "text": [
            "[]\n"
          ]
        }
      ],
      "source": [
        "print(re.findall(\"ይስጥልን$\", \"ጤና ይስጥልን!\"))"
      ]
    },
    {
      "cell_type": "code",
      "execution_count": null,
      "metadata": {
        "id": "kmaJBENsJXFE",
        "outputId": "273da774-f207-472b-f7ee-d07c3b30d6f7"
      },
      "outputs": [
        {
          "name": "stdout",
          "output_type": "stream",
          "text": [
            "['አቶ በለጠ']\n"
          ]
        }
      ],
      "source": [
        "print(re.findall(\"አቶ\\s[ሀ-ፖ]+\", \"ጤና ይስጥልን! አቶ በለጠ\"))"
      ]
    },
    {
      "cell_type": "markdown",
      "metadata": {
        "id": "2aEus-rvJXFE"
      },
      "source": [
        "<font color='red' size='24'> Quiz </font>\n",
        "1. Write a regular expression that will match Ethiopian phone number"
      ]
    },
    {
      "cell_type": "markdown",
      "metadata": {
        "id": "jCuIovsxJXFE"
      },
      "source": [
        "## Errors and Exceptions in Python"
      ]
    },
    {
      "cell_type": "markdown",
      "metadata": {
        "id": "Cs-lMA8NJXFF"
      },
      "source": [
        "Errors can happen when the syntax is not conforming the python rules. This are called `compile time` errors. Errors can also occur during `tun time`, if there are some logical fallacies such as file is not found, getting strings instead of numbers and so on. Compile time errors are usually easy, as they can be easy caught by the compiler or interpretor. IDEs also indicate the type of errors, for example if wrong indentation is provided. \n",
        "For run time errors, we have to try to catch them during running the program so that the program will continue functioning even if there are some errors. It can also suggest the user to fix the error, hence proper error catching is essential."
      ]
    },
    {
      "cell_type": "code",
      "execution_count": null,
      "metadata": {
        "id": "Nn0WEPPfJXFF",
        "outputId": "eb1d102c-5ef1-45dc-a505-efa1100880ed"
      },
      "outputs": [
        {
          "name": "stdout",
          "output_type": "stream",
          "text": [
            "Enter Cost of the asset 18000\n",
            "Enter Salvage value 1200\n",
            "Enter the useful life of asset 4\n",
            "Your asset depreciate at the ammount of  4200.0 each year\n"
          ]
        }
      ],
      "source": [
        "try:\n",
        "    asset =  input('Enter Cost of the asset ')\n",
        "    salvage = input('Enter Salvage value ')\n",
        "    life = input(\"Enter the useful life of asset \")\n",
        "\n",
        "    dprate = (int(asset) - int(salvage))/int(life)\n",
        "    print (\"Your asset depreciate at the ammount of \", dprate, \"each year\")\n",
        "except Exception as e: \n",
        "    print(str(e))\n"
      ]
    },
    {
      "cell_type": "markdown",
      "metadata": {
        "id": "L9ymV5opJXFF"
      },
      "source": [
        "In the above example, the program print the errors if for example the user enters wrong values such as the string in stead of numbers or 0 for useful life of asset"
      ]
    },
    {
      "cell_type": "markdown",
      "metadata": {
        "id": "2n9D3m_WSPdk"
      },
      "source": [
        "# Module 9"
      ]
    },
    {
      "cell_type": "markdown",
      "metadata": {
        "id": "erCTojHtJXFG"
      },
      "source": [
        "<font color='blue' size='14'> Module 9:\tData visualization I </font>\n",
        "## Objectives\n",
        "---\n",
        "-\tIntroduce the main concepts of data visualization using simple tables or formatted outputs\n",
        "-\tIntroduce Numpy and its functionality for data visualization\n",
        "-\tLearn how to display figures and graphs\n",
        "-\tIntroduce basic visualization using matplotlib\n",
        "---"
      ]
    },
    {
      "cell_type": "markdown",
      "metadata": {
        "id": "2x70tn2hQXL2"
      },
      "source": [
        "# References\n",
        "\n",
        "1. [Introduction to Jupyter Notebooks](https://www.section.io/engineering-education/introduction-to-jupyter-notebooks/)\n",
        "1. [Regular Expression HOWTO](https://fossies.org/linux/python-docs-pdf-a4/howto-regex.pdf)\n"
      ]
    }
  ],
  "metadata": {
    "celltoolbar": "Slideshow",
    "colab": {
      "collapsed_sections": [
        "ZkvVkyG_vjDV",
        "hh7VDSsoOS9d",
        "R5i8w-F94h-B"
      ],
      "provenance": [],
      "toc_visible": true,
      "include_colab_link": true
    },
    "kernelspec": {
      "display_name": "Python 3",
      "language": "python",
      "name": "python3"
    },
    "language_info": {
      "codemirror_mode": {
        "name": "ipython",
        "version": 3
      },
      "file_extension": ".py",
      "mimetype": "text/x-python",
      "name": "python",
      "nbconvert_exporter": "python",
      "pygments_lexer": "ipython3",
      "version": "3.8.8"
    }
  },
  "nbformat": 4,
  "nbformat_minor": 0
}