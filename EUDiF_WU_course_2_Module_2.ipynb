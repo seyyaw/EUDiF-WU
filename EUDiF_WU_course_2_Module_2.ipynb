{
  "cells": [
    {
      "cell_type": "markdown",
      "metadata": {
        "id": "view-in-github",
        "colab_type": "text"
      },
      "source": [
        "<a href=\"https://colab.research.google.com/github/seyyaw/EUDiF-WU/blob/main/EUDiF_WU_course_2_Module_2.ipynb\" target=\"_parent\"><img src=\"https://colab.research.google.com/assets/colab-badge.svg\" alt=\"Open In Colab\"/></a>"
      ]
    },
    {
      "cell_type": "markdown",
      "metadata": {
        "id": "lAX7Qu30JXDx"
      },
      "source": []
    },
    {
      "cell_type": "markdown",
      "source": [
        ">[Course Name](#scrollTo=UL2BjHR-15g1)\n",
        "\n",
        ">[Teacher Info](#scrollTo=fezJrJv-JXD9)\n",
        "\n",
        ">[Overview](#scrollTo=ASWzukV3JXD_)\n",
        "\n",
        ">>[Target group](#scrollTo=qRZaZCXhYtrf)\n",
        "\n",
        ">>[Prerequisite](#scrollTo=6DS7nHyTJXEB)\n",
        "\n",
        ">>[Learning Objectives and Outcomes](#scrollTo=JEMAv2nqJXEC)\n",
        "\n",
        ">>>[Learning Objectives](#scrollTo=WbLH0ntIJXEC)\n",
        "\n",
        ">>>[Learning Outcomes](#scrollTo=FLfZhqfGJXED)\n",
        "\n",
        ">>>[Assessment](#scrollTo=2aguTuC9JXEE)\n",
        "\n",
        ">>>[Credits](#scrollTo=LO59YPx6JXEE)\n",
        "\n",
        ">[Module 3](#scrollTo=ZkvVkyG_vjDV)\n",
        "\n",
        ">>[Operating systems and terminals](#scrollTo=tOcSXfueJXEF)\n",
        "\n",
        ">>[Operating systems](#scrollTo=hh7VDSsoOS9d)\n",
        "\n",
        ">>[Terminals and user interfaces](#scrollTo=R5i8w-F94h-B)\n",
        "\n",
        ">>>[Accessing Ubuntu Terminals](#scrollTo=mMprwW0sJXEH)\n",
        "\n",
        ">>>[Accessing Terminals in Windows](#scrollTo=cDYhYBQrIDHg)\n",
        "\n",
        ">>>[File System Navigation](#scrollTo=ZZUSKoFUJXEk)\n",
        "\n",
        ">>>[View, Create, Edit, and Delete Files and Directories](#scrollTo=-6IFfNWjJXEk)\n",
        "\n",
        ">[Module 4:](#scrollTo=DKgBk1_6ACtN)\n",
        "\n",
        ">>[Programming enviroments for Python](#scrollTo=zJ__XwoIbPyN)\n",
        "\n",
        ">>[Requirements for a Good IDE](#scrollTo=CoOB4GFff1Ns)\n",
        "\n",
        ">>>[Save and Reload Source Code](#scrollTo=zrLGpwHFJXEm)\n",
        "\n",
        ">>>[Execution from Within the Environment](#scrollTo=qYioAplQJXEn)\n",
        "\n",
        ">>>[Debugging Support](#scrollTo=F7hnlFLAJXEn)\n",
        "\n",
        ">>>[Syntax Highlighting](#scrollTo=9bU29NDpJXEo)\n",
        "\n",
        ">>>[Automatic Code Formatting](#scrollTo=HSxhkNoMJXEo)\n",
        "\n",
        ">>[Python IDEs](#scrollTo=LUTugF57f1Ej)\n",
        "\n",
        ">>[Python Installation](#scrollTo=QhhUVYIyJXEp)\n",
        "\n",
        ">>>[Installing Python on Windows](#scrollTo=t6HSWacTJXEp)\n",
        "\n",
        ">>>[Install Python on Mac OS X](#scrollTo=_p2HQVcsJXEp)\n",
        "\n",
        ">>>[Installing Python Using Anaconda](#scrollTo=lRBwKv7-JXEp)\n",
        "\n",
        ">>[Installing Packages](#scrollTo=j63-UlBZJXEq)\n",
        "\n",
        ">>[Shell Commands in Jupyter Notebook](#scrollTo=DBgyOMxLJXEq)\n",
        "\n",
        ">[Module 5:](#scrollTo=XnqHo6qyQXd1)\n",
        "\n"
      ],
      "metadata": {
        "colab_type": "toc",
        "id": "CpEIsRdSp08M"
      }
    },
    {
      "cell_type": "code",
      "execution_count": null,
      "metadata": {
        "id": "Z5y6q67oJXD5",
        "outputId": "5d6087da-6e0c-4099-ffe2-c902e4bf4520"
      },
      "outputs": [
        {
          "data": {
            "text/html": [
              "<style>\n",
              "table {display: block;}\n",
              "td {\n",
              "font-size: 20px\n",
              "}\n",
              ".rendered_html { font-size: 20px; }\n",
              "*{ line-height: 200%; }\n",
              "</style>\n"
            ],
            "text/plain": [
              "<IPython.core.display.HTML object>"
            ]
          },
          "metadata": {},
          "output_type": "display_data"
        }
      ],
      "source": [
        "%%html\n",
        "<style>\n",
        "table {display: block;}\n",
        "td {\n",
        "font-size: 20px\n",
        "}\n",
        ".rendered_html { font-size: 20px; }\n",
        "*{ line-height: 200%; }\n",
        "</style>"
      ]
    },
    {
      "cell_type": "markdown",
      "metadata": {
        "id": "fNyR6--jJXD8"
      },
      "source": [
        "<div class=\"footer\">\n",
        "   <p><img src='https://drive.google.com/uc?id=1XOmyYOFsSY5hBLYYHB64TYWWQpvP86Zg'></p>\n",
        "</div>"
      ]
    },
    {
      "cell_type": "markdown",
      "metadata": {
        "id": "UL2BjHR-15g1"
      },
      "source": [
        "# Course Name"
      ]
    },
    {
      "cell_type": "markdown",
      "metadata": {
        "id": "sXmlJli2JXD9"
      },
      "source": [
        "<font color='blue' size='14'>EUDiF WU Course 2: - Introduction to programming for agribusiness and environment</font> \n",
        "\n",
        "<div class=\"footer\">\n",
        "   <p><img src='https://drive.google.com/uc?id=1XOmyYOFsSY5hBLYYHB64TYWWQpvP86Zg'></p>\n",
        "</div>\n",
        "---\n",
        "---"
      ]
    },
    {
      "cell_type": "markdown",
      "metadata": {
        "id": "fezJrJv-JXD9"
      },
      "source": [
        "# Teacher Info"
      ]
    },
    {
      "cell_type": "markdown",
      "metadata": {
        "id": "ShIQH-GTJXD9"
      },
      "source": [
        "---\n",
        "<font color='blue' size='14'> Dr. Seid Muhie Yimam </font>\n",
        "\n",
        "Universität Hamburg<br>\n",
        "House of Computing and Data Science (HCDS)<br>\n",
        "Albert Einstein Ring 8-10<br>\n",
        "22761 Hamburg<br>\n",
        "http://www.hcds.uni-hamburg.de<br>\n",
        "\n",
        "Department of Informatics<br>\n",
        "Language Technology Group (LT)<br>\n",
        "Vogt-Kölln-Straße 30<br>\n",
        "22527 Hamburg <br>\n",
        "\n",
        "---"
      ]
    },
    {
      "cell_type": "markdown",
      "metadata": {
        "id": "OHBUdu_yJXD-"
      },
      "source": [
        "---"
      ]
    },
    {
      "cell_type": "markdown",
      "metadata": {
        "id": "ASWzukV3JXD_"
      },
      "source": [
        "# Overview"
      ]
    },
    {
      "cell_type": "markdown",
      "metadata": {
        "id": "Isc0jEEYJXD_"
      },
      "source": [
        "---\n",
        "---\n",
        "This course introduces students in agri-business and related departments to the primary scripting language in Python. The course enables students to understand basic scripting and data processing techniques. At the end of this course, students will be able to write simple scripts to process and understand data related to agri-business applications. \n",
        "\n",
        "----\n",
        "----"
      ]
    },
    {
      "cell_type": "markdown",
      "metadata": {
        "id": "eLH9TdfdpMvg"
      },
      "source": [
        "Furthermore, it will be considered a background course to conduct scientific research in the agri-business area. Students also will acquire knowledge that helps them work in agri-business industrial and commercial projects. Students are not required to have prior familiarity with programming, but it will be advantageous to have some basic know-how.\n",
        "\n",
        "<img src='https://drive.google.com/uc?id=1fbXiOpwBzuVD5EcgD4EufROwt-_y3jqq'>"
      ]
    },
    {
      "cell_type": "markdown",
      "metadata": {
        "id": "qRZaZCXhYtrf"
      },
      "source": [
        "## Target group "
      ]
    },
    {
      "cell_type": "markdown",
      "metadata": {
        "id": "M6g_RPI3JXEA"
      },
      "source": [
        "Master's students, Ph.D. candidates, and researchers and practitioners in agribusiness.\n",
        "\n",
        "---"
      ]
    },
    {
      "cell_type": "markdown",
      "metadata": {
        "id": "6DS7nHyTJXEB"
      },
      "source": [
        "## Prerequisite "
      ]
    },
    {
      "cell_type": "markdown",
      "metadata": {
        "id": "fXBV857JJXEB"
      },
      "source": [
        "Introductory knowledge of computer science. \n",
        "\n",
        "---"
      ]
    },
    {
      "cell_type": "markdown",
      "metadata": {
        "id": "JEMAv2nqJXEC"
      },
      "source": [
        "## Learning Objectives and Outcomes"
      ]
    },
    {
      "cell_type": "markdown",
      "metadata": {
        "id": "gUCfHfiRJXEC"
      },
      "source": [
        "---"
      ]
    },
    {
      "cell_type": "markdown",
      "metadata": {
        "id": "WbLH0ntIJXEC"
      },
      "source": [
        "### Learning Objectives"
      ]
    },
    {
      "cell_type": "markdown",
      "metadata": {
        "id": "lCoJVEkRJXED"
      },
      "source": [
        "This course is aimed at introducing students to the basic scripting skills for agri-business and related areas of studies. In addition to scripting techniques, students will be able to understand how to process, present, and analyze data in agri-business domains. This course boosts students' abilities to use emerging IT tools used in many parts of the world for research and industrial projects. \n",
        "\n",
        "---"
      ]
    },
    {
      "cell_type": "markdown",
      "metadata": {
        "id": "FLfZhqfGJXED"
      },
      "source": [
        "### Learning Outcomes"
      ]
    },
    {
      "cell_type": "markdown",
      "metadata": {
        "id": "IImwoLBQJXED"
      },
      "source": [
        "By the end of the course, students will be able to: \n",
        "-\tunderstand the basic  concepts in programming languages,\n",
        "-\twrite simple Python scripts for processing data,  \n",
        "-\tgrasp the basic skills of data science and basic data processing tools,\n",
        "-\tapply basic programming to agri-business-related applications,\n",
        "-\tcreate a workflow for automating data processing and analysis, and\n",
        "-\tapply acquired knowledge to address research questions in agri-business areas.\n",
        "\n",
        "---"
      ]
    },
    {
      "cell_type": "markdown",
      "metadata": {
        "id": "2aguTuC9JXEE"
      },
      "source": [
        "### Assessment"
      ]
    },
    {
      "cell_type": "markdown",
      "metadata": {
        "id": "f9MqME4jJXEE"
      },
      "source": [
        "- The course will have a weekly programming assignment  (20%). Students can work in a team of 2-5 members, where each participant contributes to the programming assignment. \n",
        " - Quizzes and mid-term exams offered individually will also be used to assess if students understand the programming concepts they have learned in class (20%).\n",
        " - The final project will be used to evaluate students' understanding of applying the scripting skill they have learned in the agri-business-related applications (30%). \n",
        " - The final exam will be used to assess the extent to which each student understands the contents of the course (30%).\n",
        "\n",
        "---"
      ]
    },
    {
      "cell_type": "markdown",
      "metadata": {
        "id": "LO59YPx6JXEE"
      },
      "source": [
        "### Credits"
      ]
    },
    {
      "cell_type": "markdown",
      "metadata": {
        "id": "w5pL93x7JXEE"
      },
      "source": [
        "- 3 credits (one full week intensive course)"
      ]
    },
    {
      "cell_type": "markdown",
      "metadata": {
        "id": "ZkvVkyG_vjDV"
      },
      "source": [
        "# Module 3"
      ]
    },
    {
      "cell_type": "markdown",
      "metadata": {
        "id": "tSmUzvf7JXEF"
      },
      "source": [
        "<font color='blue' size='14'>Module 3:  Programming environments I </font>"
      ]
    },
    {
      "cell_type": "markdown",
      "metadata": {
        "id": "tOcSXfueJXEF"
      },
      "source": [
        "## Operating systems and terminals"
      ]
    },
    {
      "cell_type": "markdown",
      "metadata": {
        "id": "H22gPNW0JXEF"
      },
      "source": [
        "- Describe the different operating systems and machines, and the implication for programming\n",
        "-\tIntroduce primary terminals and user interface environments in light of programming languages\n",
        "\n",
        "---\n",
        "---"
      ]
    },
    {
      "cell_type": "markdown",
      "metadata": {
        "id": "qpBEnRh_MmIP"
      },
      "source": [
        "\n",
        "In this module, we will discuss the programming environment required to complete the course. We will first describe the main operating systems that can be used to install and run Python scripts. Even though we will use an integrated development environment (IDE) to write the scripts, it will be beneficial to be familiarized with terminals or consoles that can be used to interact with the underlying operating systems to run scripts.\n",
        "\n",
        " - Describe the different **operating systems and machines**, and the implication for programming\n",
        " - Introduce primary **terminals and user interface environments** in light of programming languages\n",
        "\n"
      ]
    },
    {
      "cell_type": "markdown",
      "metadata": {
        "id": "hh7VDSsoOS9d"
      },
      "source": [
        "## Operating systems"
      ]
    },
    {
      "cell_type": "markdown",
      "metadata": {
        "id": "Ea2nKdISJXEG"
      },
      "source": [
        "An `Operating system` is a collection of programs that bridges the user to interact with the computer operation. At the lowest level, the computer is instructed through machine languages, which has strings of 0s and 1s. Every operation is just a combination of these bits of combinations. \n",
        "\n"
      ]
    },
    {
      "cell_type": "markdown",
      "metadata": {
        "id": "FW708tZ3pMvk"
      },
      "source": [
        "The `system software` is a special program that allows users to interact with the underlying hardware without the need to know the very complex details about the hardware, mainly vai the operating system. The system software can, for example, allow users to send documents to a printer, connect to the Internet, play a music to attached device, and many more.\n",
        "\n"
      ]
    },
    {
      "cell_type": "markdown",
      "metadata": {
        "id": "AG7XYNpFpMvk"
      },
      "source": [
        "The following [figure](https://www.geeksforgeeks.org/difference-between-system-software-and-operating-system/) shows the main difference between system software and operating system.\n",
        "<img src='https://drive.google.com/uc?id=1eni5oQEex9WGtOOIFR7aKmnt8Y1ASuYj'>"
      ]
    },
    {
      "cell_type": "markdown",
      "metadata": {
        "id": "JKaUoWmR1Rpq"
      },
      "source": [
        "There are many operating systems developed, some are for private use or experimental at school while others are for\n",
        "government use, for example in the military. Most of the OS are build for a sale or usage in a larger market for businesses. The most\n",
        "popular published operating systems are `Windows`, `Mac`, `UNIX` and `Linux`. The choice of the operating system heavily depend on the easy of use for end users, support for different programming languages, and availability of pre-installed processing tools such as Word processors, spreadsheet, and database support.\n",
        "\n"
      ]
    },
    {
      "cell_type": "markdown",
      "metadata": {
        "id": "SkmvKanDpMvk"
      },
      "source": [
        "<img src='https://i.pinimg.com/564x/50/bd/04/50bd04373dffc7d779c87035a671722f.jpg'>\n",
        "\n",
        "While Windows and Mac are preferred by many users for the support of different utility software, Linux is preferred by programmers as it has very minimal dependencies to install programming language tools. It also has a strong support to run programs from terminals, that makes it robust environment to compile and debug programs. Currently, Python has a very stable binaries that can be easily installed and configured in all of the major operating systems."
      ]
    },
    {
      "cell_type": "markdown",
      "metadata": {
        "id": "R5i8w-F94h-B"
      },
      "source": [
        "## Terminals and user interfaces"
      ]
    },
    {
      "cell_type": "markdown",
      "metadata": {
        "id": "PVmFu3iKJXEG"
      },
      "source": [
        "---\n",
        "\n",
        "The `Terminals`, `consoles`, `shell`, `prompt`, or ` command lines` are a text interface to a computer. It allows interact with computer, allow accessing files, writing scripts and so on."
      ]
    },
    {
      "cell_type": "markdown",
      "metadata": {
        "id": "mMprwW0sJXEH"
      },
      "source": [
        "### Accessing Ubuntu Terminals"
      ]
    },
    {
      "cell_type": "markdown",
      "metadata": {
        "id": "tX0rCxCOJXEH"
      },
      "source": [
        "In `Ubuntu` or similar Operating systems, you can just search `Terminal` to open the terminal\n",
        "<img src='https://drive.google.com/uc?id=1jz_cyDKvf-xeNDHNnO9TB10JpnM5qb4m'>\n",
        "\n"
      ]
    },
    {
      "cell_type": "markdown",
      "metadata": {
        "id": "7pzeguDvpMvl"
      },
      "source": [
        "Once opened, it shows the terminal or prompt. For example, you can type `ls`, to list the content in the current working directory.\n",
        "<img src='https://drive.google.com/uc?id=1xPcUtEalIJFfPwRQM9XZk65tZBuH9-ZS'>"
      ]
    },
    {
      "cell_type": "markdown",
      "metadata": {
        "id": "cDYhYBQrIDHg"
      },
      "source": [
        "### Accessing Terminals in Windows"
      ]
    },
    {
      "cell_type": "markdown",
      "metadata": {
        "id": "ZgCtv7_lJXEH"
      },
      "source": [
        "In Windows, for example Windows 11, click the Search icon and then type `terminal` or `windows terminal`. \n",
        "\n",
        " <img src='https://drive.google.com/uc?id=1m9j0sH_XnmSZyqJi1Te0v_08_IWN5f5J'>\n",
        "\n"
      ]
    },
    {
      "cell_type": "markdown",
      "metadata": {
        "id": "WG6LtwFepMvm"
      },
      "source": [
        " The prompt will open and shows the current working directory.\n",
        "\n",
        " <img src='https://drive.google.com/uc?id=1Etaaj0OJcJmio9-q4tprNybaaOlvkMcF'>"
      ]
    },
    {
      "cell_type": "markdown",
      "metadata": {
        "id": "-HVM6ETyNTs7"
      },
      "source": [
        "According to the environment, you can run different shell scrips from the command.\n",
        "\n",
        "Please check the most common used linux commands [here](https://linuxconfig.org/linux-commands-cheat-sheet)"
      ]
    },
    {
      "cell_type": "markdown",
      "metadata": {
        "id": "ZZUSKoFUJXEk"
      },
      "source": [
        "### File System Navigation"
      ]
    },
    {
      "cell_type": "markdown",
      "metadata": {
        "id": "g74LWpYLJXEk"
      },
      "source": [
        " <img src='https://drive.google.com/uc?id=1VXBjjAB2YDzu4ENarGtlW5PzgI9reVwz'>"
      ]
    },
    {
      "cell_type": "markdown",
      "metadata": {
        "id": "-6IFfNWjJXEk"
      },
      "source": [
        "### View, Create, Edit, and Delete Files and Directories"
      ]
    },
    {
      "cell_type": "markdown",
      "metadata": {
        "id": "K3XC3cc8JXEk"
      },
      "source": [
        " <img src='https://drive.google.com/uc?id=15VV3PSOCMJhKnG4twQvYdRZHrWy888F1'>"
      ]
    },
    {
      "cell_type": "markdown",
      "metadata": {
        "id": "BdzbgSw4JXEk"
      },
      "source": [
        "You can check the basic commands for windows shell script [here](http://www.cs.columbia.edu/~sedwards/classes/2017/1102-spring/Command%20Prompt%20Cheatsheet.pdf)\n",
        "\n"
      ]
    },
    {
      "cell_type": "markdown",
      "metadata": {
        "id": "dKoNf5mZpMvn"
      },
      "source": [
        "A filepath is where you are in the filesystem\n",
        " - C: is the C drive\n",
        " -  C:\\user\\Documents is the Documents folder\n",
        " -  C:\\user\\Documents\\hello.c is a file in the Documents folder\n",
        "\n",
        "<img src='https://drive.google.com/uc?id=1TuZDeOue2DTv37OEBPKxmgmTth18EHQk'>"
      ]
    },
    {
      "cell_type": "markdown",
      "metadata": {
        "id": "SplnhWdrJXEl"
      },
      "source": [
        "<font color='red' size='24'> Quiz </font>\n",
        "1. Why do you think we have different operating systems\n",
        "2. Do you think it is possible to write a shell script that can run on different operating systems, for example a script that can run in Linux and Windows systems? "
      ]
    },
    {
      "cell_type": "markdown",
      "metadata": {
        "id": "DKgBk1_6ACtN"
      },
      "source": [
        "# Module 4: "
      ]
    },
    {
      "cell_type": "markdown",
      "metadata": {
        "id": "R0cPENwHJXEl"
      },
      "source": [
        "---\n",
        "<font color='blue' size='14'> Module 4: Programming environments and tools II </font>\n",
        "\n",
        "---\n",
        "\n"
      ]
    },
    {
      "cell_type": "markdown",
      "metadata": {
        "id": "x84Wroa4pMvo"
      },
      "source": [
        "In this section, we will cover the following main points:\n",
        " - Explain programming environments and how we could use them\n",
        " - Explain and demonstrate how to install Python\n",
        " - Using Anaconda\n",
        " - Accessing via Google Colab\n",
        " - Accessing Via Kaggle Kernels\n",
        " - Explain how to install packages and modules in python using pip and conda \n",
        "---"
      ]
    },
    {
      "cell_type": "markdown",
      "metadata": {
        "id": "zRoFAD0RQHaL"
      },
      "source": [
        "In this section, we will discuss the main programing environments required to write `Python scripts`. We will first discuss how to `install python in local machines`. Moreover, we will discuss on how to use Python programming environments using cloud services, such as `Google Colab` and `Kaggel Kernels`. The `cloud services `allow us to write scripts, train machine learning models, and generate reports without installing Python and dependencies (related softwares) into our local machine.\n",
        "\n",
        "----\n"
      ]
    },
    {
      "cell_type": "markdown",
      "metadata": {
        "id": "zJ__XwoIbPyN"
      },
      "source": [
        "## Programming enviroments for Python"
      ]
    },
    {
      "cell_type": "markdown",
      "metadata": {
        "id": "LnMOcciNJXEm"
      },
      "source": [
        "To write and run a python script, we need the `right environment` where the `Python programming language interpreter` is installed. \n",
        "The programming environment allow to write `Python scripts`, which could run without any error in different devices or systems.\n",
        "\n",
        "In General, the environment to write the script can be divided into two, `terminals` and an `IDE` (Integrated Development Environment). \n",
        "\n",
        "\n"
      ]
    },
    {
      "cell_type": "markdown",
      "metadata": {
        "id": "CoOB4GFff1Ns"
      },
      "source": [
        "## Requirements for a Good IDE"
      ]
    },
    {
      "cell_type": "markdown",
      "metadata": {
        "id": "6ukrgencJXEm"
      },
      "source": [
        "The type of IDE we choose can depend on different factors, such as the size of the project, if it is Web or Desktop Application, sharing with other programmers and so on. \n",
        "\n",
        "Some requirements you can look to choose the IDEs can be details [here](https://hackr.io/blog/best-python-ide):"
      ]
    },
    {
      "cell_type": "markdown",
      "metadata": {
        "id": "zrLGpwHFJXEm"
      },
      "source": [
        "### Save and Reload Source Code "
      ]
    },
    {
      "cell_type": "markdown",
      "metadata": {
        "id": "qHstfje7JXEn"
      },
      "source": [
        "An IDE or editor must save your work and reopen everything later, in the same state it was in when you left, thus saving time for development."
      ]
    },
    {
      "cell_type": "markdown",
      "metadata": {
        "id": "qYioAplQJXEn"
      },
      "source": [
        "### Execution from Within the Environment"
      ]
    },
    {
      "cell_type": "markdown",
      "metadata": {
        "id": "Bt8N0CcLJXEn"
      },
      "source": [
        "It should have a built-in compiler to execute your code. If you are not executing it in the same software, then probably it is a text editor."
      ]
    },
    {
      "cell_type": "markdown",
      "metadata": {
        "id": "F7hnlFLAJXEn"
      },
      "source": [
        "### Debugging Support"
      ]
    },
    {
      "cell_type": "markdown",
      "metadata": {
        "id": "uWN_FeYlJXEn"
      },
      "source": [
        "The debugger in most IDEs provides stepping through your code and applying breakpoints for the code's partial execution."
      ]
    },
    {
      "cell_type": "markdown",
      "metadata": {
        "id": "9bU29NDpJXEo"
      },
      "source": [
        "### Syntax Highlighting"
      ]
    },
    {
      "cell_type": "markdown",
      "metadata": {
        "id": "STa4T590JXEo"
      },
      "source": [
        "Being able to spot keywords, variables quickly, and symbols in your code make reading and understanding code much easier."
      ]
    },
    {
      "cell_type": "markdown",
      "metadata": {
        "id": "HSxhkNoMJXEo"
      },
      "source": [
        "### Automatic Code Formatting"
      ]
    },
    {
      "cell_type": "markdown",
      "metadata": {
        "id": "fTfN4qKuJXEo"
      },
      "source": [
        "This is an interesting feature; the code indents itself as the developer uses loops, functions, or any other block code."
      ]
    },
    {
      "cell_type": "markdown",
      "metadata": {
        "id": "LUTugF57f1Ej"
      },
      "source": [
        "## Python IDEs"
      ]
    },
    {
      "cell_type": "markdown",
      "metadata": {
        "id": "DHjTHiMWJXEo"
      },
      "source": [
        "Below are some of the IDEs that support writing Python codes\n",
        "- [Pydev](http://pydev.org/): It is a free, platform-independent, and promotes excellent integrity with the Eclipse universe. Eclipse is one of the best IDE for Java developer too. Eclipse has supported python development, which is almost comparable to Java development on Eclipse, making the experience much more impressive and exceptional. It has most of the advantages from Eclipse, including debugging, code completion, and running from the platform.\n"
      ]
    },
    {
      "cell_type": "markdown",
      "metadata": {
        "id": "sxhdXqBRpMvq"
      },
      "source": [
        "- [Pycharm](https://www.jetbrains.com/pycharm/): It is one of the strong IDE in the market, developed by **JetBrains**, which support the development for different programming languages including Java, and Python. It is available in three versions, the Apache-licensed Community version, the Educational (Edu) version, and the proprietary Professional version. The first two versions are open source and therefore free of charge, while the Professional version is paid. The Community version is very interesting because it has different features such as syntax highlighting, auto-completion, and live code verification. The paid version has more advanced features such as full database management and a multitude of more important Frameworks than the community version such as Django, Flask, Google App, and so on.\n"
      ]
    },
    {
      "cell_type": "markdown",
      "metadata": {
        "id": "YJyibb9MpMvq"
      },
      "source": [
        "- [Sublime Text](http://www.sublimetext.com/): Sublime Text is a generic text editor like Notepad, which coded in C++ and Python. Since version 2.0, this software supports more than 44 major programming languages, including Python. \n",
        "- [Visual Studio Code](https://code.visualstudio.com): It developed by Microsoft for Windows, Linux and OS. VS Code is an extensible code editor. VS Code is very well designed overall, and its main advantage is that it offers an extension-based architecture. \n",
        "- And many more such as [Vim](https://www.vim.org), [Emacs](https://www.gnu.org), [Atom](https://atom.io/), [IDLE](ttps://docs.python.org/3/library/idle.html),[Spyder](https://github.com/spyder-ide/spyder)"
      ]
    },
    {
      "cell_type": "markdown",
      "metadata": {
        "id": "QhhUVYIyJXEp"
      },
      "source": [
        "## Python Installation"
      ]
    },
    {
      "cell_type": "markdown",
      "metadata": {
        "id": "t6HSWacTJXEp"
      },
      "source": [
        "### Installing Python on Windows"
      ]
    },
    {
      "cell_type": "markdown",
      "metadata": {
        "id": "3FmygW55JXEp"
      },
      "source": [
        "To install Python on a Windows OS, you need to download the installer from [here](https://www.python.org/downloads/windows). You have to select the appropriate architecture (32 or 64-bit) of your machine.\n",
        "\n",
        "You can use the web-based installer if you have an active Internet connection. Otherwise download the standalone executable installer. The latest version of Python is 3.10.5. Once downloaded, you can install it on your machine. Make sure to the `Add Python 3.10 to PATH checkbox`, so that you can execute python scripts from any path on you machine."
      ]
    },
    {
      "cell_type": "markdown",
      "metadata": {
        "id": "_p2HQVcsJXEp"
      },
      "source": [
        "### Install Python on Mac OS X"
      ]
    },
    {
      "cell_type": "markdown",
      "metadata": {
        "id": "jKSFYDlcJXEp"
      },
      "source": [
        "You can easily install Python by downloading official installer from https://www.python.org/downloads/mac-osx page. Simply download the latest release and double click the installer."
      ]
    },
    {
      "cell_type": "markdown",
      "metadata": {
        "id": "lRBwKv7-JXEp"
      },
      "source": [
        "### Installing Python Using Anaconda"
      ]
    },
    {
      "cell_type": "markdown",
      "metadata": {
        "id": "r4R00IR6JXEq"
      },
      "source": [
        "*Anaconda offers the easiest way to perform Python/R data science and machine learning on a single machine. Start working with thousands of open-source packages and libraries today.* \n",
        "\n",
        "When you have your own machine, it is always better to install Python using [Anaconda](https://www.anaconda.com/) or the minimal version called [Miniconda](https://docs.conda.io/en/latest/miniconda.html). It allows installing most of the dependencies, as well as the conda package installer and the `Anaconda Navigator`. Anaconda Navigator is a desktop graphical user interface (GUI) included in Anaconda distribution, which allows to start notebooks, RStudio, visualization tools and so on."
      ]
    },
    {
      "cell_type": "markdown",
      "metadata": {
        "id": "j63-UlBZJXEq"
      },
      "source": [
        "## Installing Packages"
      ]
    },
    {
      "cell_type": "markdown",
      "metadata": {
        "id": "rNpanRZfJXEq"
      },
      "source": [
        "Installing Python packages or dependencies is possible using the `pip` or `conda` package installers.\n",
        "\n",
        "For example, if you want a Python package that is not in your system already, such as the one that can transliterate latin script to Amharic, you can use the [amseg](https://pypi.org/project/amseg/) package"
      ]
    },
    {
      "cell_type": "code",
      "execution_count": null,
      "metadata": {
        "id": "BuUIP4zgJXEq",
        "outputId": "f6fd8232-d528-4bfe-9ac1-3dd303483f32"
      },
      "outputs": [
        {
          "name": "stdout",
          "output_type": "stream",
          "text": [
            "Requirement already satisfied: amseg in /home/seid/.local/lib/python3.9/site-packages (1.7)\n",
            "The transliteration of 'misa belah' is ሚሳ በላህ\n"
          ]
        }
      ],
      "source": [
        "!pip install amseg\n",
        "from amseg.amharicTranslitrator import AmharicTranslitrator as  transliterator\n",
        "transliterated = transliterator.transliterate('misa belah')\n",
        "print(\"The transliteration of 'misa belah' is\", transliterated)"
      ]
    },
    {
      "cell_type": "markdown",
      "metadata": {
        "id": "DBgyOMxLJXEq"
      },
      "source": [
        "## Shell Commands in Jupyter Notebook"
      ]
    },
    {
      "cell_type": "markdown",
      "metadata": {
        "id": "9UIvGGNOJXEr"
      },
      "source": [
        "If you want to run shell commands, such as installing packages with pip, see the list of files, creating a folder, and so on, make sure to prepend the `!` before the actual shell command.\n",
        "\n",
        "`!pip install amseg`\n",
        "\n",
        "`!ls`"
      ]
    },
    {
      "cell_type": "markdown",
      "metadata": {
        "id": "XnqHo6qyQXd1"
      },
      "source": [
        " # Module 5:\n",
        "<font color='blue' size='14'> Module:  Introduction to Python programming I </font>\n",
        "\n",
        "---\n",
        "- Introduce the basic concepts of variables \n",
        "- Show how to write and use/call functions\n",
        "- Explain the basic concepts in flow controls\n",
        "- Demonstrate basics of iterations using for loops and while \n",
        "---\n"
      ]
    }
  ],
  "metadata": {
    "celltoolbar": "Slideshow",
    "colab": {
      "collapsed_sections": [
        "ZkvVkyG_vjDV",
        "hh7VDSsoOS9d",
        "R5i8w-F94h-B"
      ],
      "provenance": [],
      "include_colab_link": true
    },
    "kernelspec": {
      "display_name": "Python 3",
      "language": "python",
      "name": "python3"
    },
    "language_info": {
      "codemirror_mode": {
        "name": "ipython",
        "version": 3
      },
      "file_extension": ".py",
      "mimetype": "text/x-python",
      "name": "python",
      "nbconvert_exporter": "python",
      "pygments_lexer": "ipython3",
      "version": "3.8.8"
    },
    "toc-autonumbering": false
  },
  "nbformat": 4,
  "nbformat_minor": 0
}