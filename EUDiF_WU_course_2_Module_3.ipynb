{
  "cells": [
    {
      "cell_type": "markdown",
      "metadata": {
        "id": "view-in-github",
        "colab_type": "text"
      },
      "source": [
        "<a href=\"https://colab.research.google.com/github/seyyaw/EUDiF-WU/blob/main/EUDiF_WU_course_2_Module_3.ipynb\" target=\"_parent\"><img src=\"https://colab.research.google.com/assets/colab-badge.svg\" alt=\"Open In Colab\"/></a>"
      ]
    },
    {
      "cell_type": "code",
      "execution_count": null,
      "metadata": {
        "id": "Z5y6q67oJXD5",
        "outputId": "5d6087da-6e0c-4099-ffe2-c902e4bf4520"
      },
      "outputs": [
        {
          "data": {
            "text/html": [
              "<style>\n",
              "table {display: block;}\n",
              "td {\n",
              "font-size: 20px\n",
              "}\n",
              ".rendered_html { font-size: 20px; }\n",
              "*{ line-height: 200%; }\n",
              "</style>\n"
            ],
            "text/plain": [
              "<IPython.core.display.HTML object>"
            ]
          },
          "metadata": {},
          "output_type": "display_data"
        }
      ],
      "source": [
        "%%html\n",
        "<style>\n",
        "table {display: block;}\n",
        "td {\n",
        "font-size: 20px\n",
        "}\n",
        ".rendered_html { font-size: 20px; }\n",
        "*{ line-height: 200%; }\n",
        "</style>"
      ]
    },
    {
      "cell_type": "markdown",
      "metadata": {
        "id": "fNyR6--jJXD8"
      },
      "source": [
        "<div class=\"footer\">\n",
        "   <p><img src='https://drive.google.com/uc?id=1XOmyYOFsSY5hBLYYHB64TYWWQpvP86Zg'></p>\n",
        "</div>"
      ]
    },
    {
      "cell_type": "markdown",
      "metadata": {
        "id": "UL2BjHR-15g1"
      },
      "source": [
        "# Course Name"
      ]
    },
    {
      "cell_type": "markdown",
      "metadata": {
        "id": "sXmlJli2JXD9"
      },
      "source": [
        "<font color='blue' size='14'>EUDiF WU Course 2: - Introduction to programming for agribusiness and environment</font> \n",
        "<div class=\"footer\">\n",
        "   <p><img src='https://drive.google.com/uc?id=1XOmyYOFsSY5hBLYYHB64TYWWQpvP86Zg'></p>\n",
        "</div>\n",
        "\n",
        "---\n",
        "---"
      ]
    },
    {
      "cell_type": "markdown",
      "metadata": {
        "id": "fezJrJv-JXD9"
      },
      "source": [
        "# Teacher Info"
      ]
    },
    {
      "cell_type": "markdown",
      "metadata": {
        "id": "ShIQH-GTJXD9"
      },
      "source": [
        "---\n",
        "<font color='blue' size='14'> Dr. Seid Muhie Yimam </font>\n",
        "\n",
        "Universität Hamburg<br>\n",
        "House of Computing and Data Science (HCDS)<br>\n",
        "Albert Einstein Ring 8-10<br>\n",
        "22761 Hamburg<br>\n",
        "http://www.hcds.uni-hamburg.de<br>\n",
        "\n",
        "Department of Informatics<br>\n",
        "Language Technology Group (LT)<br>\n",
        "Vogt-Kölln-Straße 30<br>\n",
        "22527 Hamburg <br>\n",
        "\n",
        "---"
      ]
    },
    {
      "cell_type": "markdown",
      "metadata": {
        "id": "ASWzukV3JXD_"
      },
      "source": [
        "# Overview"
      ]
    },
    {
      "cell_type": "markdown",
      "metadata": {
        "id": "Isc0jEEYJXD_"
      },
      "source": [
        "---\n",
        "---\n",
        "This course introduces students in agri-business and related departments to the primary scripting language in Python. The course enables students to understand basic scripting and data processing techniques. At the end of this course, students will be able to write simple scripts to process and understand data related to agri-business applications. \n",
        "\n",
        "Furthermore, it will be considered a background course to conduct scientific research in the agri-business area. Students also will acquire knowledge that helps them work in agri-business industrial and commercial projects. Students are not required to have prior familiarity with programming, but it will be advantageous to have some basic know-how.\n",
        "\n",
        "<img src='https://drive.google.com/uc?id=1fbXiOpwBzuVD5EcgD4EufROwt-_y3jqq'>"
      ]
    },
    {
      "cell_type": "markdown",
      "metadata": {
        "id": "qRZaZCXhYtrf"
      },
      "source": [
        "## Target group "
      ]
    },
    {
      "cell_type": "markdown",
      "metadata": {
        "id": "M6g_RPI3JXEA"
      },
      "source": [
        "Master's students, Ph.D. candidates, and researchers and practitioners in agribusiness.\n",
        "\n",
        "---"
      ]
    },
    {
      "cell_type": "markdown",
      "metadata": {
        "id": "6DS7nHyTJXEB"
      },
      "source": [
        "## Prerequisite "
      ]
    },
    {
      "cell_type": "markdown",
      "metadata": {
        "id": "fXBV857JJXEB"
      },
      "source": [
        "Introductory knowledge of computer science. \n",
        "\n",
        "---"
      ]
    },
    {
      "cell_type": "markdown",
      "metadata": {
        "id": "JEMAv2nqJXEC"
      },
      "source": [
        "## Learning Objectives and Outcomes"
      ]
    },
    {
      "cell_type": "markdown",
      "metadata": {
        "id": "WbLH0ntIJXEC"
      },
      "source": [
        "### Learning Objectives"
      ]
    },
    {
      "cell_type": "markdown",
      "metadata": {
        "id": "lCoJVEkRJXED"
      },
      "source": [
        "This course is aimed at introducing students to the basic scripting skills for agri-business and related areas of studies. In addition to scripting techniques, students will be able to understand how to process, present, and analyze data in agri-business domains. This course boosts students' abilities to use emerging IT tools used in many parts of the world for research and industrial projects. \n",
        "\n",
        "---"
      ]
    },
    {
      "cell_type": "markdown",
      "metadata": {
        "id": "FLfZhqfGJXED"
      },
      "source": [
        "### Learning Outcomes"
      ]
    },
    {
      "cell_type": "markdown",
      "metadata": {
        "id": "IImwoLBQJXED"
      },
      "source": [
        "By the end of the course, students will be able to: \n",
        "-\tunderstand the basic  concepts in programming languages,\n",
        "-\twrite simple Python scripts for processing data,  \n",
        "-\tgrasp the basic skills of data science and basic data processing tools,\n",
        "-\tapply basic programming to agri-business-related applications,\n",
        "-\tcreate a workflow for automating data processing and analysis, and\n",
        "-\tapply acquired knowledge to address research questions in agri-business areas.\n",
        "\n",
        "---"
      ]
    },
    {
      "cell_type": "markdown",
      "metadata": {
        "id": "2aguTuC9JXEE"
      },
      "source": [
        "### Assessment"
      ]
    },
    {
      "cell_type": "markdown",
      "metadata": {
        "id": "f9MqME4jJXEE"
      },
      "source": [
        "- The course will have a weekly programming assignment  (20%). Students can work in a team of 2-5 members, where each participant contributes to the programming assignment. \n",
        " - Quizzes and mid-term exams offered individually will also be used to assess if students understand the programming concepts they have learned in class (20%).\n",
        " - The final project will be used to evaluate students' understanding of applying the scripting skill they have learned in the agri-business-related applications (30%). \n",
        " - The final exam will be used to assess the extent to which each student understands the contents of the course (30%).\n",
        "\n",
        "---"
      ]
    },
    {
      "cell_type": "markdown",
      "metadata": {
        "id": "LO59YPx6JXEE"
      },
      "source": [
        "### Credits"
      ]
    },
    {
      "cell_type": "markdown",
      "metadata": {
        "id": "w5pL93x7JXEE"
      },
      "source": [
        "- 3 credits (one full week intensive course)"
      ]
    },
    {
      "cell_type": "markdown",
      "metadata": {
        "id": "XnqHo6qyQXd1"
      },
      "source": [
        " # Module 5:\n",
        "<font color='blue' size='14'> Module:  Introduction to Python programming I </font>\n",
        "\n",
        "----\n"
      ]
    },
    {
      "cell_type": "markdown",
      "metadata": {
        "id": "QYzrdsxCNl1_"
      },
      "source": [
        "---\n",
        "- Introduce the basic concepts of `variables` \n",
        "- Show how to write and `use/call functions`\n",
        "- Explain the basic concepts in `flow controls`\n",
        "- Demonstrate basics of iterations using `for loops and while `\n",
        "---"
      ]
    },
    {
      "cell_type": "markdown",
      "metadata": {
        "id": "o80OJ5T3JXEr"
      },
      "source": [
        "## Jupyter Notebook"
      ]
    },
    {
      "cell_type": "markdown",
      "metadata": {
        "id": "_Je1uIETJXEr"
      },
      "source": [
        "In this course, we will use the `Jupyter Notebook` to demonstrate the python programming. \n",
        "`Jupyter notebook` is an open-source, interactive web application that allows users to create and share documents that contain interactive calculations, code, images, etc. Users can combine data, code, and visualizations into a single notebook, and create interactive `stories` that they can edit and share. Notebooks are documents which contain both computer code (such as Python) and other text elements such as paragraph, markdown, figures, links, etc. The Jupyter notebook is widely used and well documented and offers an easy to use interface for creating, editing, and running notebooks. \n"
      ]
    },
    {
      "cell_type": "markdown",
      "metadata": {
        "id": "QqgOXlq4Nl2A"
      },
      "source": [
        "The other component of the notebook is the `kernel`. The kernel is a `computational engine` that executes the code written in the Notebook. The `IPython kernel`(Jupyter was previously called IPython notebook) is used to execute Python code in the Jupyter notebook. There are kernels for other languages as well, but in this article, we will explore running Python code in the notebook.\n",
        "\n"
      ]
    },
    {
      "cell_type": "markdown",
      "metadata": {
        "id": "Q9_gFz4kNl2A"
      },
      "source": [
        "If you install Python using `Anaconda`, Jupyter Notebook will be installed automatically. However, you can also install it using the `pip package` installer as ```pip3 install jupyter```. If you prefer to use they Jupyter Notebooks from Google Colab or Kaggel, you will have the Jupyter notebook already in place. You need to install packages if they are not available in the environment.\n",
        "\n"
      ]
    },
    {
      "cell_type": "markdown",
      "metadata": {
        "id": "nzHWi6wNNl2B"
      },
      "source": [
        "There are different type of cells, or you can call it text boxes, that can be used for different purposes. The most important cell types are `Markdown` and `Code`\n",
        "\n",
        "\n",
        "1. **Code**: These cells allow users to write, edit, and execute Python code\n",
        "1. **Markdown**: These cells allow users to write and execute markdown. The output is displayed on the same cell in a neatly formatted markdown. `NOTE` This material is developed using the Jupyter Notebook Markdown and code cells."
      ]
    },
    {
      "cell_type": "markdown",
      "metadata": {
        "id": "sw0I76QTJXEs"
      },
      "source": [
        "## Simple maths and printing"
      ]
    },
    {
      "cell_type": "markdown",
      "metadata": {
        "id": "0iCfpHOIJXEs"
      },
      "source": [
        "In Python, you can use the keyword `print` to display output from a `variable`. A variable is a placeholder to a given data type such as numbers, dates, strings (such as person names...). In python you can use the `#` character to put a comment. The comment will not be interpreted by Python, rather, it will be left unchanged. The comment is important to explain the code for other readers"
      ]
    },
    {
      "cell_type": "code",
      "execution_count": null,
      "metadata": {
        "id": "kL4BPfjiJXEs",
        "outputId": "29899040-f8a7-47a0-aa00-c1f9096ef886"
      },
      "outputs": [
        {
          "name": "stdout",
          "output_type": "stream",
          "text": [
            "The Sum of 3 and 4 is = 7\n",
            "Adding the two variables gives as 7\n",
            "Adding the modified variables gives us 9\n"
          ]
        }
      ],
      "source": [
        "print (\"The Sum of\", 3, \"and\", 4, \"is =\", 3+4)\n",
        "a = 3\n",
        "b = 4\n",
        "# a and b are variables.\n",
        "print (\"Adding the two variables gives as\", a+b)\n",
        "\n",
        "# lets change one of the vairabl\n",
        "a = 5\n",
        "print (\"Adding the modified variables gives us\", a+b)"
      ]
    },
    {
      "cell_type": "markdown",
      "metadata": {
        "id": "8xmZ8euyJXEs"
      },
      "source": [
        "## Data Types"
      ]
    },
    {
      "cell_type": "markdown",
      "metadata": {
        "id": "LrTE_Ep_JXEs"
      },
      "source": [
        "Values in a Python variable has types. The following are the basic data types in Python\n",
        "* `Python Numbers` Integers, floating point numbers and complex numbers fall under Python numbers category. They are defined as int, float and complex classes in Python. The function/method (we will discuss about methods later), `type` will display the type of a variable."
      ]
    },
    {
      "cell_type": "code",
      "execution_count": null,
      "metadata": {
        "id": "iucfp8ItJXEt",
        "outputId": "4edf4bfb-07a4-4bf8-cfd0-f64170d0520f"
      },
      "outputs": [
        {
          "name": "stdout",
          "output_type": "stream",
          "text": [
            "The type of age is <class 'int'>\n",
            "The type of salary is <class 'float'>\n",
            "(1+2j) is complex number? True\n"
          ]
        }
      ],
      "source": [
        "age = 36\n",
        "print(\"The type of age is\", type(age))\n",
        "salary  = 3500.56\n",
        "print(\"The type of salary is\", type(salary))\n",
        "\n",
        "x = 1+2j\n",
        "print(x, \"is complex number?\", isinstance(1+2j,complex))"
      ]
    },
    {
      "cell_type": "markdown",
      "metadata": {
        "id": "bfC-67a6JXEt"
      },
      "source": [
        "* `Python Strings`: String is sequence of Unicode characters. We can use single quotes or double quotes to represent strings. Multi-line strings can be denoted using triple quotes, `'` or `\"`. If the string contains single or double quotes, we need to escape them. Escaping means telling the interpreter that the single or double quotes are parts of the string. Escaping is possible by adding the `\\` character before the single or double quotes."
      ]
    },
    {
      "cell_type": "code",
      "execution_count": null,
      "metadata": {
        "id": "nnn2war5JXEt",
        "outputId": "07597fe2-834b-43c6-bd33-949627fa8dda"
      },
      "outputs": [
        {
          "name": "stdout",
          "output_type": "stream",
          "text": [
            "My department is Agribusines and Economics\n",
            "He said 'my department is Agribusines and Economics' with confidence!\n"
          ]
        }
      ],
      "source": [
        "department = 'Agribusines and Economics'\n",
        "print('My department is', department)\n",
        "sentence = 'He said \\'my department is ' + department +'\\' with confidence!'\n",
        "print (sentence)"
      ]
    },
    {
      "cell_type": "markdown",
      "metadata": {
        "id": "UnT08zpVJXEt"
      },
      "source": [
        "*  `Python List`: a list sequence of items, where the type of items in the list can be of any type. However, it would be nice to store the same data type, which are related in a List. `List is one of the most used data type` in Python, specially to process data stored in any type such as files, memory, database, website and so on.    \n",
        "* It is very easy to declare a list in Python, just put them in brackets --> `[]`  and separate each item with a comma."
      ]
    },
    {
      "cell_type": "markdown",
      "metadata": {
        "id": "JjLfZ95UJXEu"
      },
      "source": [
        "* `Boolean Type`: There can be only two types of value in the Boolean data type of Python, `True` or `False`."
      ]
    },
    {
      "cell_type": "code",
      "execution_count": null,
      "metadata": {
        "id": "oUJ0ioB-JXEu",
        "outputId": "8dc9714b-4324-4037-b1a8-de4e78818146"
      },
      "outputs": [
        {
          "name": "stdout",
          "output_type": "stream",
          "text": [
            "Today is  Thursday not  Sunday\n",
            "Today is  Thursday not  Monday\n",
            "Today is  Thursday not  Tuesday\n",
            "Today is  Thursday not  Wednesday\n",
            "Yes! today is  Thursday\n",
            "Today is  Thursday not  Friday\n",
            "Today is  Thursday not  Saturday\n"
          ]
        }
      ],
      "source": [
        "# get the current date\n",
        "from datetime import datetime as date\n",
        "today = date.today().strftime(\"%A\")\n",
        "# List of dates\n",
        "weekdays = [\"Sunday\", \"Monday\", \"Tuesday\", \"Wednesday\", \"Thursday\", \"Friday\", \"Saturday\"]\n",
        "for day in weekdays:\n",
        "    #boolean\n",
        "    if day == today:\n",
        "        print(\"Yes! today is \", day)\n",
        "    else:\n",
        "         print(\"Today is \", today, \"not \", day)"
      ]
    },
    {
      "cell_type": "code",
      "execution_count": null,
      "metadata": {
        "id": "bMYBhdrLNl2F"
      },
      "outputs": [],
      "source": [
        "equipment = [\"Tractor/ትራክተር\", \"Harvester/ማጨጂያ\", \"Seeder/መዝሪያ\", \"Sprayer/ውሀ መርጪያ\", \"Baler/መከመሪያ\"]\n",
        "equipmentCost = [300, 275, 1800, 230, 170]"
      ]
    },
    {
      "cell_type": "code",
      "execution_count": null,
      "metadata": {
        "id": "Rv3ggOp8Nl2F"
      },
      "outputs": [],
      "source": [
        "produce = [\"Wheat/ስንዴ\",\"Barley/ገብስ\",\"Corn/በቆሎ\",\"Bean/ባቄላ\",\"Rice/ሩዝ\"]\n",
        "produceSeedCost = [50, 60, 45, 80, 20] #per hecatare\n",
        "produceValue = [215, 300, 120, 400, 200] #per to"
      ]
    },
    {
      "cell_type": "code",
      "execution_count": null,
      "metadata": {
        "id": "kOdris-6JXEu",
        "outputId": "412f3086-96ca-4e96-e5b6-b3b3746349c8"
      },
      "outputs": [
        {
          "name": "stdout",
          "output_type": "stream",
          "text": [
            "False\n",
            "True\n"
          ]
        }
      ],
      "source": [
        "print(3==4)\n",
        "print (5>4)"
      ]
    },
    {
      "cell_type": "markdown",
      "metadata": {
        "id": "3qM1_dyXJXEu"
      },
      "source": [
        "* `Python Tuple`:  A Tuple is a `sequence of items` that are in `order`, where the tuples will` not be modified`. The main difference `list` and `tuples` are that tuple is `immutable`, which means it cannot be altered, which makes them `faster for processing`. They will be used for `write-protect` data access. Tuples can be represented by using parentheses --> `()`, and commas are used to separate the items. Tuples also can be stored in a List, where some kind of grouping is required."
      ]
    },
    {
      "cell_type": "code",
      "execution_count": null,
      "metadata": {
        "id": "DjhP24gfJXEv",
        "outputId": "6b08e122-561a-43dd-c187-0ae0957f8e02"
      },
      "outputs": [
        {
          "name": "stdout",
          "output_type": "stream",
          "text": [
            "Name is Abebe\n",
            "Age is 34\n",
            "Salary is 12800.0\n"
          ]
        }
      ],
      "source": [
        "personal_info = ('Abebe', '34', 12800.00)\n",
        "print('Name is', personal_info[0])\n",
        "print('Age is', personal_info[1])\n",
        "print('Salary is', personal_info[2])"
      ]
    },
    {
      "cell_type": "code",
      "execution_count": null,
      "metadata": {
        "id": "cZYbbrtNJXEv",
        "outputId": "42e0cf32-cdb2-4fc4-a784-559c5720f623"
      },
      "outputs": [
        {
          "name": "stdout",
          "output_type": "stream",
          "text": [
            "The first personal info  Abebe 34 12800.0\n"
          ]
        }
      ],
      "source": [
        "personal_infos = [('Abebe', '34', 12800.00), ('Abeba', '25', 15450.00)]\n",
        "print ('The first personal info ', personal_infos[0][0] ,personal_infos[0][1],personal_infos[0][2])"
      ]
    },
    {
      "cell_type": "markdown",
      "metadata": {
        "id": "Stm5hkO0JXEw"
      },
      "source": [
        "* `Python Set`: Sets are just like Lists but it stores only Unique values. Values are unorderd, and it is defined by Braces ({})"
      ]
    },
    {
      "cell_type": "code",
      "execution_count": null,
      "metadata": {
        "id": "Vz91l21gJXEw"
      },
      "outputs": [],
      "source": [
        "names = {'አበበ','አለም','ጸሐይ','ለምለም','ለምለም'}"
      ]
    },
    {
      "cell_type": "code",
      "execution_count": null,
      "metadata": {
        "id": "WcRNkTa2JXEw",
        "outputId": "ab08220d-de0b-4196-88e5-91571f9ff3b2"
      },
      "outputs": [
        {
          "name": "stdout",
          "output_type": "stream",
          "text": [
            "{'አበበ', 'አለም', 'ጸሐይ', 'ለምለም'}\n"
          ]
        }
      ],
      "source": [
        "print(names)"
      ]
    },
    {
      "cell_type": "markdown",
      "metadata": {
        "id": "zVLAV0t2JXEw"
      },
      "source": [
        "* `Python Dictionary`:  Dictionaries are like sets but it  has values in pairs, which are called key-value pairs. It stores large amount of data, and used to retrieve data using keys. To retrieve the value, it is important to know the key. Keys can not be duplicated like a set. Braces {} (curly brackets) are used to define dictionaries data type in Python and value and the key can be of any data type. To get the value using the ket"
      ]
    },
    {
      "cell_type": "code",
      "execution_count": null,
      "metadata": {
        "id": "ajmE0JpWJXEx",
        "outputId": "2aad4fb5-cae7-435a-eb4d-6ad8f684d73b"
      },
      "outputs": [
        {
          "name": "stdout",
          "output_type": "stream",
          "text": [
            "dictionary data {1: '፩', 2: '፪', 3: '፫', 4: '፬', 5: '፭'}\n",
            "፩\n",
            "dictionary data {'፩': 'አንድ', '፪': 'ሁለት', '፫': 'ሶስት', '፬': 'አራት', '፭': 'አምስት'}\n",
            "አንድ\n"
          ]
        }
      ],
      "source": [
        "\n",
        "numbers = {1:'፩', 2:'፪', 3:'፫', 4:'፬', 5:'፭',1:'፩'}\n",
        "print('dictionary data', numbers)\n",
        "print(numbers[1])\n",
        "numbers_word= {'፩':'አንድ', '፪':'ሁለት', '፫':'ሶስት', '፬':'አራት', '፭':'አምስት','፩':'አንድ'}\n",
        "print('dictionary data', numbers_word)\n",
        "print(numbers_word[numbers[1]])\n"
      ]
    },
    {
      "cell_type": "markdown",
      "metadata": {
        "id": "QBREmJjpJXEx"
      },
      "source": [
        "<font color='red' size='24'> Quiz </font>\n",
        "1. Why `set` is required while we can use a `list`?\n",
        "1. Lets say you want to store data about food items and their current prices, such as `coffee=20500`, `maiz=5000` and so on. Design a data type to store such information using\n",
        "  * Use two different lists, one for the food item and the second for price\n",
        "  * Use a dictionary and store the data in one variable\n",
        "  * How do you access the price for the food item in both approaches, what are the challenges\n",
        "  "
      ]
    },
    {
      "cell_type": "markdown",
      "metadata": {
        "id": "JOqmJbdMJXEx"
      },
      "source": [
        "## Arithmetics in Python"
      ]
    },
    {
      "cell_type": "markdown",
      "metadata": {
        "id": "INkcWsX8JXEx"
      },
      "source": [
        "|  |  |  |  |\n",
        "|:-  | :-  | :-  | :- |\n",
        "| Addition | + |  35 + 22 | 57 |\n",
        "| | | ‘Py’ + ‘thon’| ‘Python’ |\n",
        "| Subtraction | - | 35 - 22 |  13 | \n",
        "| Multiplication | *  | 3 * 2 |  6|\n",
        "| | | ‘Py’ * 2 | ‘PyPy’ |\n",
        "| Division | / | 3.0 / 2 | 1.5|\n",
        "| | | 3 / 2 | 1 |\n",
        "| Exponentiation | ** | 2 ** 0.5 | 1.41421356…|"
      ]
    },
    {
      "cell_type": "code",
      "execution_count": null,
      "metadata": {
        "id": "FzKVPxvhJXEy",
        "outputId": "4acc3892-6c61-418f-e786-f9eca438f5d1"
      },
      "outputs": [
        {
          "name": "stdout",
          "output_type": "stream",
          "text": [
            "57\n",
            "Python\n",
            "13\n",
            "6\n",
            "PyPy\n",
            "1.5\n",
            "1.4142135623730951\n"
          ]
        }
      ],
      "source": [
        "print (35 +22)\n",
        "print ('Py' + 'thon')\n",
        "print (35-22)\n",
        "print (3*2)\n",
        "print ('Py'*2)\n",
        "print(3.0/2)\n",
        "print (2 ** 0.5)"
      ]
    },
    {
      "cell_type": "markdown",
      "metadata": {
        "id": "-Q8ECToSJXEy"
      },
      "source": [
        "## Function in Python?"
      ]
    },
    {
      "cell_type": "markdown",
      "metadata": {
        "id": "qyOLsgyOJXEy"
      },
      "source": [
        "In Python, a function is a group of related statements that `performs a specific task`.\n",
        "Functions help break our program into smaller and modular chunks. As our program grows larger and larger, `functions make it more organized` and manageable.\n",
        "Furthermore, it `avoids repetition` and makes the code reusable."
      ]
    },
    {
      "cell_type": "markdown",
      "metadata": {
        "id": "kMSSaOTIJXEy"
      },
      "source": [
        "### Syntax of Function"
      ]
    },
    {
      "cell_type": "markdown",
      "metadata": {
        "id": "Sxi21PmVJXEy"
      },
      "source": [
        "***\n",
        "\n",
        "<font color='blue'>def</font> <font color='red'>function_name </font><font color='green'>(parameters)</font><font color='cyan'> :</font>\n",
        "\n",
        "     \"\"\"documentation/comment\"\"\"\n",
        "      statement(s) \n",
        "      return value\n",
        "\n",
        "***"
      ]
    },
    {
      "cell_type": "markdown",
      "metadata": {
        "id": "jMFNTHELJXEz"
      },
      "source": [
        "As we can see in the syntax above, it has the following components\n",
        "1. Keyword **def** that marks the start of the function header.\n",
        "1. A function name **function_name** to uniquely identify the function. Function naming follows the same rules of writing identifiers in Python.\n",
        "1. **Parameters** (arguments) through which we pass values to a function. They are optional.\n",
        "1. A **colon** (`:`) to mark the end of the function header.\n",
        "1. Optional **documentation** string (documentation) to describe what the function does.\n",
        "1. One or more valid python **statements** that make up the function body. Statements must have the same indentation level (usually 4 spaces).\n",
        "1. An optional **return** statement to return a value from the function.\n"
      ]
    },
    {
      "cell_type": "code",
      "execution_count": null,
      "metadata": {
        "id": "XN3IU2WYJXEz"
      },
      "outputs": [],
      "source": [
        "def greet(name):\n",
        "    \"\"\"\n",
        "    This function greets to\n",
        "    the person passed in as\n",
        "    a parameter\n",
        "    \"\"\"\n",
        "    return (\"Hello, \" + name + \". Good morning!\")"
      ]
    },
    {
      "cell_type": "markdown",
      "metadata": {
        "id": "S2gKg5agJXEz"
      },
      "source": [
        "### How to call a function in python?"
      ]
    },
    {
      "cell_type": "markdown",
      "metadata": {
        "id": "WofO5cgdJXEz"
      },
      "source": [
        "Once we have defined a function, we can call it from another function, program, or even the Python prompt. To call a function we simply type the function name with appropriate parameters."
      ]
    },
    {
      "cell_type": "code",
      "execution_count": null,
      "metadata": {
        "id": "paboDqkDJXEz",
        "outputId": "54792f57-e0be-41bf-8dec-7b536a833156"
      },
      "outputs": [
        {
          "name": "stdout",
          "output_type": "stream",
          "text": [
            "What is your nameSeid\n",
            "Hello, Seid. Good morning!\n"
          ]
        }
      ],
      "source": [
        "# Enter your name, using the builtin function called 'input'\n",
        "name = input('What is your name')\n",
        "print (greet(name))"
      ]
    },
    {
      "cell_type": "markdown",
      "metadata": {
        "id": "-w6GNumLJXE0"
      },
      "source": [
        "### Importing a function"
      ]
    },
    {
      "cell_type": "markdown",
      "metadata": {
        "id": "7esyN7INJXE0"
      },
      "source": [
        "In python, there are a lot of existing packages already built. Some of them might be already installed while the Python interpretor is installed. Others should be installed separately. We have discussed already in Module 4 on how to install external packages. To use those external packages, we have to import them. We can import the whole module or specific functions. Lets modify the `greet(name)` function to get the current time and greet accordingly either as `Goof morning` or `Good afternoon`"
      ]
    },
    {
      "cell_type": "code",
      "execution_count": null,
      "metadata": {
        "id": "k5JZZokkJXE0"
      },
      "outputs": [],
      "source": [
        "import datetime as dt\n",
        "def greet(name):\n",
        "    \"\"\"\n",
        "    This function greets to\n",
        "    the person passed in as\n",
        "    a parameter\n",
        "    \"\"\"\n",
        "    t = dt.datetime.now()\n",
        "    h = t.strftime(\"%H\")\n",
        "    h = int(h)\n",
        "    if h < 12:\n",
        "        return (\"Hello, \" + name +  \" Good morning\")\n",
        "    if h < 16:\n",
        "        return (\"Hello, \" + name +  \" Good afternoon\")\n",
        "    if h < 19:\n",
        "        return (\"Hello, \" + name + \" Good evening\")\n",
        "    if h < 24:\n",
        "        return (\"Hello, \" + name + \" Good night\")\n",
        "    return (\"Hello, \" + name + \" It is midnight, you have to sleep\")"
      ]
    },
    {
      "cell_type": "code",
      "execution_count": null,
      "metadata": {
        "id": "a8Gs-oE6JXE0",
        "outputId": "b35b9724-e742-467f-d471-2459f2b899c7"
      },
      "outputs": [
        {
          "name": "stdout",
          "output_type": "stream",
          "text": [
            "What is your nameSeid\n",
            "Hello, Seid Good night\n"
          ]
        }
      ],
      "source": [
        "name = input('What is your name')\n",
        "print (greet(name))"
      ]
    },
    {
      "cell_type": "markdown",
      "metadata": {
        "id": "CvOgb2HjJXE1"
      },
      "source": [
        "## Flow controls"
      ]
    },
    {
      "cell_type": "markdown",
      "metadata": {
        "id": "LUNu0hVoJXE1"
      },
      "source": [
        "A `flow control`, or also known as `control flows`, is a way of determining how actions are done in order.\n",
        "\n",
        "In Python, this is defined by the `conditional statements`, `loops`, and `function calls`.\n",
        "\n",
        "Python has three types of control structures:`Sequential`, `Selection` and `Repetition`.\n",
        "\n",
        "**Sequential**: Here, codes are executed in the default order, that means, they will follow the natural ordering of the code."
      ]
    },
    {
      "cell_type": "code",
      "execution_count": null,
      "metadata": {
        "id": "Cvv9RknrJXE1",
        "outputId": "2f6272cc-f462-4994-b8d3-6598849a604c"
      },
      "outputs": [
        {
          "name": "stdout",
          "output_type": "stream",
          "text": [
            "today is rainy\n",
            "today is sunny\n",
            "today is cloudy\n"
          ]
        }
      ],
      "source": [
        "#The following codes are executed in the order of the statements gicen\n",
        "day = \"rainy\"\n",
        "print(\"today is \"+ day)\n",
        "day = \"sunny\"\n",
        "print(\"today is \"+ day)\n",
        "day = \"cloudy\"\n",
        "print(\"today is \"+ day)"
      ]
    },
    {
      "cell_type": "markdown",
      "metadata": {
        "id": "FwZ05DfUJXE1"
      },
      "source": [
        "**Selection/Decision control statements**: This is a way the course of execution is altered based on given conditions. Unlike the natural ordering, it will be governed by the truth value determined at the current time. Such code is determined using the Python `simple if`,`if-else`, `nested if`, or `if-elif-else` statements.\n"
      ]
    },
    {
      "cell_type": "code",
      "execution_count": null,
      "metadata": {
        "id": "S_Fxd5GWJXE2",
        "outputId": "3196d659-4af7-4b96-a5e1-92f2bf202f75"
      },
      "outputs": [
        {
          "name": "stdout",
          "output_type": "stream",
          "text": [
            "today is sunny\n"
          ]
        }
      ],
      "source": [
        "temp = 37\n",
        "day = \"rainy\" \n",
        "if temp > 30:\n",
        "    day = \"sunny\"\n",
        "print(\"today is \"+ day)"
      ]
    },
    {
      "cell_type": "code",
      "execution_count": null,
      "metadata": {
        "id": "sJD0eNoJJXE2",
        "outputId": "e14819c4-6b05-4534-dc1e-bf6ae6839677"
      },
      "outputs": [
        {
          "name": "stdout",
          "output_type": "stream",
          "text": [
            "today is sunny\n"
          ]
        }
      ],
      "source": [
        "temp = 37\n",
        "day = \"rainy\" \n",
        "if temp > 30:\n",
        "    day = \"sunny\"\n",
        "else:\n",
        "    day = 'Not sure'\n",
        "print(\"today is \"+ day)"
      ]
    },
    {
      "cell_type": "code",
      "execution_count": null,
      "metadata": {
        "id": "5Wj0guzsJXE2",
        "outputId": "6ec2060e-5de9-4d73-928b-a912ac70c5ed"
      },
      "outputs": [
        {
          "name": "stdout",
          "output_type": "stream",
          "text": [
            "today is moderate\n"
          ]
        }
      ],
      "source": [
        "temp = 17\n",
        "day = \"rainy\" \n",
        "if temp > 0:\n",
        "    if temp > 15:\n",
        "        if temp > 25:\n",
        "             day = \"sunny\"\n",
        "        else:\n",
        "            day = \"moderate\"\n",
        "    else:\n",
        "        day = \"rainy\"\n",
        "print(\"today is \"+ day)"
      ]
    },
    {
      "cell_type": "code",
      "execution_count": null,
      "metadata": {
        "id": "5uFIwIZZJXE3",
        "outputId": "d14a5c0e-2e92-47d0-c6bb-d091e982692f"
      },
      "outputs": [
        {
          "name": "stdout",
          "output_type": "stream",
          "text": [
            "today is Not sure\n"
          ]
        }
      ],
      "source": [
        "temp = -37\n",
        "day = \"rainy\" \n",
        "if temp > 30:\n",
        "    day = \"sunny\"\n",
        "elif temp:\n",
        "    day = 'Not sure'\n",
        "print(\"today is \"+ day)"
      ]
    },
    {
      "cell_type": "markdown",
      "metadata": {
        "id": "elR7nla7JXE3"
      },
      "source": [
        "## Repetition"
      ]
    },
    {
      "cell_type": "markdown",
      "metadata": {
        "id": "q2oYHX5GJXE3"
      },
      "source": [
        "In Python, repetition statement is used repeat an action until some pre-condition or stopping criterion is attained. This is possible using loops/repetitive statements which are done using a `for loop` or `while loop`.\n",
        "\n",
        "The `for loop`: is used to iterate over a sequence that is either a `list`, `tuple`, `dictionary`, or a `set`. The task will be executed once for each item in the list, tuple, or dictionary."
      ]
    },
    {
      "cell_type": "code",
      "execution_count": null,
      "metadata": {
        "id": "KqkC7YLGJXE3",
        "outputId": "27d488b9-68a2-4055-b08a-4a773117e150"
      },
      "outputs": [
        {
          "name": "stdout",
          "output_type": "stream",
          "text": [
            "Rice is a cereal\n",
            "Maize is a cereal\n",
            "Oats is a cereal\n",
            "Rye is a cereal\n",
            "Barley is a cereal\n",
            "Sorghum is a cereal\n",
            "Wheat is a cereal\n",
            "Quinoa is a cereal\n"
          ]
        }
      ],
      "source": [
        "cereals = ['Rice', 'Maize','Oats','Rye','Barley','Sorghum','Wheat','Quinoa']\n",
        "for cereal in cereals:\n",
        "    print (cereal +' is a cereal')"
      ]
    },
    {
      "cell_type": "markdown",
      "metadata": {
        "id": "jF9LKxeTJXE3"
      },
      "source": [
        "**while loop**: In Python, while loops are used to execute a block of statements repeatedly `until a given condition is satisfied`. Then, the expression is checked again and, if it is still true, the body is executed again. This continues `until the expression becomes false`. Unlike the for loop, where the ending condition is usually known, the exit strategy for while loop might be tricky."
      ]
    },
    {
      "cell_type": "code",
      "execution_count": null,
      "metadata": {
        "id": "0FfywpPGJXE4",
        "outputId": "b243da5f-a7f9-4599-c038-24ba3cd5968e"
      },
      "outputs": [
        {
          "name": "stdout",
          "output_type": "stream",
          "text": [
            "Type anything, q to exit Ok\n",
            "Your input is  Ok\n",
            "Type anything, q to exit q\n",
            "Your input is  q\n"
          ]
        }
      ],
      "source": [
        "answer = 'a'\n",
        "while answer !='q':# to stop the execution type q\n",
        "    answer = input(\"Type anything, q to exit \")\n",
        "    print('Your input is ', answer)"
      ]
    },
    {
      "cell_type": "markdown",
      "metadata": {
        "id": "YNCRwXuDJXE6"
      },
      "source": [
        "<font color='red' size='24'> Quiz </font>\n",
        "1. What is the difference between while loop and for loop\n",
        "2. If you want to iterate over the list cities in the world, what do you like to iterate through them, while loop or for loop, can you show an example\n",
        "3. You want to write a game that will guess the name of an animal. There are two players, player one will write the name of the animal on a paper and player two should guess the name of the animal. The game will be over if player two mentioned the name or time is out (after 3 attempt). How do you design it, using for loop or while loop?"
      ]
    },
    {
      "cell_type": "markdown",
      "metadata": {
        "id": "0_pW2UmPRpTv"
      },
      "source": [
        "# Module 6"
      ]
    },
    {
      "cell_type": "markdown",
      "metadata": {
        "id": "ycBWGNF-JXE6"
      },
      "source": [
        "<font color='blue' size='14'> Module 6:  Introduction to Python programming II </font>\n",
        "\n",
        "---\n",
        "-\tExplain how to create and use lists, discuss indexing, adding, and removing elements from a list\n",
        "-\tIntroduce the concept of data structures, classes, and how to create objects\n",
        "-\tLearn the basics of searching and pattern matching using regular expressions\n",
        "-\tIntroduce about errors, bugs and how to catch exceptions\n",
        "\n",
        "---"
      ]
    }
  ],
  "metadata": {
    "celltoolbar": "Slideshow",
    "colab": {
      "collapsed_sections": [
        "ZkvVkyG_vjDV",
        "hh7VDSsoOS9d",
        "R5i8w-F94h-B"
      ],
      "provenance": [],
      "include_colab_link": true
    },
    "kernelspec": {
      "display_name": "Python 3",
      "language": "python",
      "name": "python3"
    },
    "language_info": {
      "codemirror_mode": {
        "name": "ipython",
        "version": 3
      },
      "file_extension": ".py",
      "mimetype": "text/x-python",
      "name": "python",
      "nbconvert_exporter": "python",
      "pygments_lexer": "ipython3",
      "version": "3.8.8"
    }
  },
  "nbformat": 4,
  "nbformat_minor": 0
}