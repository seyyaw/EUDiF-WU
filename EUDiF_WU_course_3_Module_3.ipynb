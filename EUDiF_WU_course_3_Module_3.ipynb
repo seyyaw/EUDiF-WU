{
  "cells": [
    {
      "cell_type": "markdown",
      "metadata": {
        "id": "view-in-github",
        "colab_type": "text"
      },
      "source": [
        "<a href=\"https://colab.research.google.com/github/seyyaw/EUDiF-WU/blob/main/EUDiF_WU_course_3_Module_3.ipynb\" target=\"_parent\"><img src=\"https://colab.research.google.com/assets/colab-badge.svg\" alt=\"Open In Colab\"/></a>"
      ]
    },
    {
      "cell_type": "code",
      "execution_count": null,
      "metadata": {
        "id": "4cIrjQQlPIKE",
        "outputId": "0b726dff-8738-426b-8118-3f3ffe0844cc"
      },
      "outputs": [
        {
          "data": {
            "text/html": [
              "<style>\n",
              "table {display: block;}\n",
              "td {\n",
              "font-size: 20px\n",
              "}\n",
              ".rendered_html { font-size: 20px; }\n",
              "*{ line-height: 200%; }\n",
              "</style>\n"
            ],
            "text/plain": [
              "<IPython.core.display.HTML object>"
            ]
          },
          "metadata": {},
          "output_type": "display_data"
        }
      ],
      "source": [
        "%%html\n",
        "<style>\n",
        "table {display: block;}\n",
        "td {\n",
        "font-size: 20px\n",
        "}\n",
        ".rendered_html { font-size: 20px; }\n",
        "*{ line-height: 200%; }\n",
        "</style>"
      ]
    },
    {
      "cell_type": "markdown",
      "metadata": {
        "id": "qQoDFSU8Kss2"
      },
      "source": [
        "\n",
        "<div class=\"footer\">\n",
        "   <p><img src='https://drive.google.com/uc?id=1XOmyYOFsSY5hBLYYHB64TYWWQpvP86Zg'></p>\n",
        "</div>"
      ]
    },
    {
      "cell_type": "markdown",
      "metadata": {
        "id": "UL2BjHR-15g1"
      },
      "source": [
        "# Course Name"
      ]
    },
    {
      "cell_type": "markdown",
      "metadata": {
        "id": "2bnUjijiKss4"
      },
      "source": [
        "<font color='blue' size='14'> EUDiF WU course 3: Big data analytics for agricultural and environmental management</font>"
      ]
    },
    {
      "cell_type": "markdown",
      "metadata": {
        "id": "kGufefSUA8cx"
      },
      "source": [
        "\n",
        "---\n",
        "<img src='https://drive.google.com/uc?id=1QuSllKpbtcRkvR_d6yAjyZvggrdymED1'>\n",
        "\n",
        "---"
      ]
    },
    {
      "cell_type": "markdown",
      "metadata": {
        "id": "B8G05_I3Kss5"
      },
      "source": [
        "# Teacher Info"
      ]
    },
    {
      "cell_type": "markdown",
      "metadata": {
        "id": "zz9lQ8meKss6"
      },
      "source": [
        "---\n",
        "<font color='blue' size='14'> Dr. Seid Muhie Yimam </font>\n",
        "\n",
        "Universität Hamburg<br>\n",
        "House of Computing and Data Science (HCDS)<br>\n",
        "Albert Einstein Ring 8-10<br>\n",
        "22761 Hamburg<br>\n",
        "http://www.hcds.uni-hamburg.de<br>\n",
        "\n",
        "Department of Informatics<br>\n",
        "Language Technology Group (LT)<br>\n",
        "Vogt-Kölln-Straße 30<br>\n",
        "22527 Hamburg <br>\n",
        "\n",
        "---"
      ]
    },
    {
      "cell_type": "markdown",
      "metadata": {
        "id": "8z8bMUooKsti"
      },
      "source": [
        "---\n",
        "<img src='https://drive.google.com/uc?id=1XOmyYOFsSY5hBLYYHB64TYWWQpvP86Zg'>"
      ]
    },
    {
      "cell_type": "markdown",
      "metadata": {
        "id": "OzpPgOu3Kstm"
      },
      "source": [
        "# Overview"
      ]
    },
    {
      "cell_type": "markdown",
      "metadata": {
        "id": "A2DQNH7ZKstn"
      },
      "source": [
        "---\n",
        "---\n",
        "Big data refers to data sets that are too large or complex to deal with by `traditional data-processing` application software. `Big data analytics` is, therefore, often a complex process of examining big data to uncover information such as `hidden patterns`, `correlations`, `data trends`, etc., that can enable **decision-makers** to make informed decisions. As an example, big data can provide farmers with data on `rainfall patterns`, `water cycles`, `fertilizer requirements`, and more. This enables them to make `smart decisions`, such as `what crops to plant` for better `profitability` and when to harvest. \n",
        "\n",
        "---"
      ]
    },
    {
      "cell_type": "markdown",
      "metadata": {
        "id": "oXNAEKCnA8c0"
      },
      "source": [
        "---\n",
        "The right decisions ultimately improve `farm yields`. Big data can also enable environmental sustainability by giving the world the opportunity to better understand its `demand for food`, `energy`, and `water`.  It can bolster the ability for `monitoring environmental change` and assessing risk at regional and global scales. This course introduces the foundations of big data and big data analytics and discusses their applications in `agricultural and environmental management`. The course introduces big data analytics applications using a local use case.\n",
        "\n",
        "---"
      ]
    },
    {
      "cell_type": "markdown",
      "metadata": {
        "id": "qRZaZCXhYtrf"
      },
      "source": [
        " ## Target group "
      ]
    },
    {
      "cell_type": "markdown",
      "metadata": {
        "id": "XIaMI89uKstp"
      },
      "source": [
        "---\n",
        "Graduate-level `students` or `practitioners` in the `agribusiness`, `environmental sciences`, `informatics`, or `engineering domains`.\n",
        "\n",
        "---"
      ]
    },
    {
      "cell_type": "markdown",
      "metadata": {
        "id": "ok2iQNa_Kstq"
      },
      "source": [
        "## Prerequisite "
      ]
    },
    {
      "cell_type": "markdown",
      "metadata": {
        "id": "PXR_4Z54Kstr"
      },
      "source": [
        "Introductory level knowledge of `computer programming`. The course requires all participants to have access to a computer (laptop or desktop) with `QGIS software installation`. Even though the tools that are used can be understood by anyone with basic computer skills, it is a plus to have some `entry-level knowledge of computer programming` or windows application use. \n",
        "\n",
        "---"
      ]
    },
    {
      "cell_type": "markdown",
      "metadata": {
        "id": "OavKdNtWKsts"
      },
      "source": [
        "# Learning Objectives and Outcomes"
      ]
    },
    {
      "cell_type": "markdown",
      "metadata": {
        "id": "0azBOkgKKstu"
      },
      "source": [
        "---"
      ]
    },
    {
      "cell_type": "markdown",
      "metadata": {
        "id": "eerWe6Z3Kstv"
      },
      "source": [
        "## Learning Objectives"
      ]
    },
    {
      "cell_type": "markdown",
      "metadata": {
        "id": "SprneMesKstv"
      },
      "source": [
        "This course is aimed at introducing the use of `emerging IT tools` in facilitating studies on agriculture and the environment. Big data analytic tools will be introduced, followed by a discussion of their applications in agriculture, environment, and geospatial analysis with targeted use cases and representative tools for the analysis of data from a multitude of physical sources. The basics of `AI and machine learning` for agriculture and the environment will also be briefly discussed. `FAO’s WaPOR data and portal` will be explored through a capstone project as an example of a big data application for environmental (land and water) management.\n",
        "\n",
        "---"
      ]
    },
    {
      "cell_type": "markdown",
      "metadata": {
        "id": "2dC979xoKstw"
      },
      "source": [
        "## Learning Outcomes"
      ]
    },
    {
      "cell_type": "markdown",
      "metadata": {
        "id": "GCRxb_ekKsuU"
      },
      "source": [
        "By the end of the course, students will be able to: \n",
        "-\tUnderstand big data and the 5 V's \n",
        "-\tUnderstand Data Preprocessing and Transformation\n",
        "-\tIdentify some big data analytics tools \n",
        "-\tUse programming APIs to extract from big data sources \n",
        "-\tProcess and transform textual big data \n",
        "-\tAnalyze big data applications for land and water management\n",
        "-\tExamine the environmental status of a local case study using spatial (big) data analysis \n",
        "\n",
        "\n",
        "---"
      ]
    },
    {
      "cell_type": "markdown",
      "metadata": {
        "id": "Rye0fJZyKsuU"
      },
      "source": [
        "## Assessment"
      ]
    },
    {
      "cell_type": "markdown",
      "metadata": {
        "id": "zcLVJoW1KsuV"
      },
      "source": [
        "- The course will have quizzes and one written exam (20%), individual and group assignments (30%) and a capstone project in groups of 3-5 students (50%)\n",
        "\n",
        "---"
      ]
    },
    {
      "cell_type": "markdown",
      "metadata": {
        "id": "nyFaAUg3KsuV"
      },
      "source": [
        "## Credits"
      ]
    },
    {
      "cell_type": "markdown",
      "metadata": {
        "id": "RoUodTyoKsuW"
      },
      "source": [
        "- 3 credits (one full week intensive course)"
      ]
    },
    {
      "cell_type": "markdown",
      "metadata": {
        "id": "MgnZdG_uKsuW"
      },
      "source": [
        "In this Jupyeter Notebook, I will cover only Module 3/4, the **Big Data Analytics tools** part. For the remaining modules, you have to consult materials provided by different instructors.\n",
        "\n",
        "----"
      ]
    },
    {
      "cell_type": "markdown",
      "metadata": {
        "id": "Ax7g1w7LKsuW"
      },
      "source": [
        "# Module 3"
      ]
    },
    {
      "cell_type": "markdown",
      "metadata": {
        "id": "5B6qVoxNKsuX"
      },
      "source": [
        "<font color='blue' size='14'> Part I: Big Data Analytics tools</font>"
      ]
    },
    {
      "cell_type": "markdown",
      "metadata": {
        "id": "TmyEC_xQKsuX"
      },
      "source": [
        "---\n",
        "---\n",
        "In this module, we will cover the following main topics of big data analytics tools\n",
        " - Multidimensional arrays and Numpy\n",
        " - Discuss the basic functionalities in Numpy, \n",
        " - Processing external files in NumPy.\n",
        " - Advanced data processing using Pandas. \n",
        " - Input-output in Pandas ( CSV and JSON file formats)"
      ]
    },
    {
      "cell_type": "markdown",
      "metadata": {
        "id": "u15yrUj5Oyls"
      },
      "source": [
        "## Multidimensional arrays"
      ]
    },
    {
      "cell_type": "markdown",
      "metadata": {
        "id": "3R7dWv26KsuY"
      },
      "source": [
        "Understanding how data is stored and manipulated is essential. Data has a type, for example, age of a person is a number, which can be represented as `int` in Python while the name of the person is a text, encoded as `str` in Python. Python supports dynamic data typing, which means, you do not need to tell the types as it can easily find the type from the value. See the following example."
      ]
    },
    {
      "cell_type": "code",
      "execution_count": null,
      "metadata": {
        "colab": {
          "base_uri": "https://localhost:8080/"
        },
        "id": "joDQhlP6OxPh",
        "outputId": "5ac82f1f-04f9-4bfb-d2e9-2432de4787cd"
      },
      "outputs": [
        {
          "name": "stdout",
          "output_type": "stream",
          "text": [
            "the data type of age is  <class 'int'>\n",
            "the data type of name is  <class 'str'>\n"
          ]
        }
      ],
      "source": [
        "age = 65\n",
        "print ('the data type of age is ',type(age))\n",
        "name = 'አበበ ከበደ'\n",
        "print('the data type of name is ', type(name))"
      ]
    },
    {
      "cell_type": "markdown",
      "metadata": {
        "id": "eYcgc_4ahyGY"
      },
      "source": [
        "As you can see it from the example, it can easily tell the data type of `age` is `int` while `name` is `str`\n",
        "\n",
        "`Arrays` are important to store multiple data which has the same type. For example, you can create an array which contains list of names and another array which could contain a list for ages. "
      ]
    },
    {
      "cell_type": "code",
      "execution_count": null,
      "metadata": {
        "colab": {
          "base_uri": "https://localhost:8080/"
        },
        "id": "vkh7cvfKhbXT",
        "outputId": "cefccd54-6ca9-4d45-98c3-77eda8a7f41b"
      },
      "outputs": [
        {
          "name": "stdout",
          "output_type": "stream",
          "text": [
            "the data type of ages is  <class 'list'>\n",
            "the data type of names is  <class 'list'>\n"
          ]
        }
      ],
      "source": [
        "ages = [50, 65, 15, 20, 30]\n",
        "print ('the data type of ages is ',type(ages))\n",
        "names = ['Abebe Kebede', 'Selamawit', \"Ahmad\", 'Tsion', 'Selam']\n",
        "print('the data type of names is ', type(names))"
      ]
    },
    {
      "cell_type": "markdown",
      "metadata": {
        "id": "xwH9lWYpkvgx"
      },
      "source": [
        "Both `ages` and `names` are data type of `list`s. Arrays or lists which contain a collection of items, where the categories have the same type and its size is fixed. Such type or arrays are called `one-dimensional arrays`.\n",
        "\n",
        "In an array, each item in the list has its own position, which is called `index`. The index in Python starts at 0. See the following example on how to get the values from the array using the index."
      ]
    },
    {
      "cell_type": "code",
      "execution_count": null,
      "metadata": {
        "colab": {
          "base_uri": "https://localhost:8080/"
        },
        "id": "iOJhWOXxmGZn",
        "outputId": "3cd47bb0-2cc0-43c0-d0e7-bf46e0f76ba2"
      },
      "outputs": [
        {
          "name": "stdout",
          "output_type": "stream",
          "text": [
            "Abebe Kebede 50\n"
          ]
        }
      ],
      "source": [
        "# Get the first value from `ages` and `names` list\n",
        "print( names[0],ages[0])"
      ]
    },
    {
      "cell_type": "markdown",
      "metadata": {
        "id": "K_wRu_BqnAUA"
      },
      "source": [
        "When we want to store more than one type of data in array, we call it has `multiple dimensions`. For example, in stead of storing names and ages separately, we can store them in a single variable. This makes accessing and manipulating the data easier. Lets see the following example on how to store both data in one variable, where multiple types can be stored."
      ]
    },
    {
      "cell_type": "code",
      "execution_count": null,
      "metadata": {
        "colab": {
          "base_uri": "https://localhost:8080/"
        },
        "id": "iREfxYeon7Mx",
        "outputId": "17cc1b8d-157f-494e-c5ef-927ffcd5be79"
      },
      "outputs": [
        {
          "data": {
            "text/plain": [
              "[['Abebe Kebede', 'Selamawit', 'Ahmad', 'Tsion', 'Selam'],\n",
              " [50, 65, 15, 20, 30]]"
            ]
          },
          "execution_count": 9,
          "metadata": {},
          "output_type": "execute_result"
        }
      ],
      "source": [
        "students = [['Abebe Kebede', 'Selamawit', \"Ahmad\", 'Tsion', 'Selam'],[50, 65, 15, 20, 30]]\n",
        "students"
      ]
    },
    {
      "cell_type": "markdown",
      "metadata": {
        "id": "l7V2gFftpXjO"
      },
      "source": [
        "It is possible to access the values using indexes. In the above example, all the name of the students are stored in the first index (0) while the ages are stored in the second index(1). This array is called `multi-dimensional` array. "
      ]
    },
    {
      "cell_type": "code",
      "execution_count": null,
      "metadata": {
        "id": "z33EDNSLD1JS",
        "outputId": "48a067b9-3648-4feb-9316-b6c04c12fa6e"
      },
      "outputs": [
        {
          "data": {
            "text/plain": [
              "['Abebe Kebede', 'Selamawit', 'Ahmad', 'Tsion', 'Selam']"
            ]
          },
          "execution_count": 10,
          "metadata": {},
          "output_type": "execute_result"
        }
      ],
      "source": [
        "students[0]"
      ]
    },
    {
      "cell_type": "markdown",
      "metadata": {
        "id": "eKLFFSEpp4NT"
      },
      "source": [
        "<font color='red' size=14> Quiz</font>\n",
        "\n",
        "1. How do you get the name `Tsion` and the associated age?\n",
        "2. Iterate through the students variable and print the name and age at the same time"
      ]
    },
    {
      "cell_type": "markdown",
      "metadata": {
        "id": "P8WjtngtKsuc"
      },
      "source": [
        "## Basics of NumPy"
      ]
    },
    {
      "cell_type": "markdown",
      "metadata": {
        "id": "xToSYNwRKsuc"
      },
      "source": [
        "datasets can come from a wide range of sources and a wide range of formats, including be collections of `documents`, collections of `images`, collections of `sound clips`, collections of `numerical measurements`, or nearly anything else. Despite this apparent `heterogeneity`, it will help us to think of all data fundamentally as `arrays of numbers`.\n",
        "\n"
      ]
    },
    {
      "cell_type": "markdown",
      "metadata": {
        "id": "vj4T93_xA8c8"
      },
      "source": [
        "----\n",
        "For example, images, particularly digital images can be thought of as simply `two-dimensional arrays` of numbers representing `pixel brightness` across the area. `Sound clips` can be thought of as `one-dimensional arrays of intensity versus time`. Text can be converted in various ways into numerical representations, perhaps `binary digits` representing the `frequency of certain words` or pairs of words. No matter what the data are, the first step in making it analyzable will be to `transform them into arrays of numbers`."
      ]
    },
    {
      "cell_type": "markdown",
      "metadata": {
        "id": "AzWf03BQKsud"
      },
      "source": [
        "\n",
        "<img src='https://drive.google.com/uc?id=1uyt2PR3sMKGEATn_oTKIvKdrZDpFB8xI'>\n",
        "\n"
      ]
    },
    {
      "cell_type": "markdown",
      "metadata": {
        "id": "trOB9ouZA8c9"
      },
      "source": [
        "![Vectorization](https://freecontent.manning.com/wp-content/uploads/Chollet_DLfT_01.png)"
      ]
    },
    {
      "cell_type": "markdown",
      "metadata": {
        "id": "0tn3BE6LKsud"
      },
      "source": [
        "For this reason, `efficient storage` and `manipulation of numerical arrays` is absolutely fundamental to the process of doing data science. We'll now take a look at the specialized tools that Python has for handling such numerical arrays: the `NumPy package`, and the `Pandas package`."
      ]
    },
    {
      "cell_type": "markdown",
      "metadata": {
        "id": "-mXWWo-GKsud"
      },
      "source": [
        "`NumPy` (short for `Numerical Python`) provides an efficient interface to store and operate on `dense data` buffers. In some ways, NumPy arrays are like Python's built-in `list` type, but NumPy arrays provide much more `efficient storage` and data `operations` as the arrays grow larger in size. \n",
        "If ypu have installed Python using `Anaconda`, NumPy will be installed automatically. If you are using Google Colab, it will be available by default. Otherwise, you can install it using `pip` or `conda` package installer\n",
        "\n",
        "`pip install numpy`"
      ]
    },
    {
      "cell_type": "code",
      "execution_count": null,
      "metadata": {
        "id": "lEoNJyUOKsud",
        "outputId": "cb1b8471-e304-479a-a1af-03a9079200d7"
      },
      "outputs": [
        {
          "name": "stdout",
          "output_type": "stream",
          "text": [
            "Requirement already satisfied: numpy in /Users/seidmuhieyimam/opt/miniconda3/lib/python3.7/site-packages (1.21.3)\n",
            "\u001b[33mWARNING: You are using pip version 22.0.3; however, version 23.1.2 is available.\n",
            "You should consider upgrading via the '/Users/seidmuhieyimam/opt/miniconda3/bin/python -m pip install --upgrade pip' command.\u001b[0m\u001b[33m\n",
            "\u001b[0mThe current version of NumPy is 1.20.1\n"
          ]
        }
      ],
      "source": [
        "!pip install numpy\n",
        "import numpy\n",
        "print(\"The current version of NumPy is\", numpy.__version__)"
      ]
    },
    {
      "cell_type": "markdown",
      "metadata": {
        "id": "POrsUKoXKsvE"
      },
      "source": [
        "In the data science/SciPy/PyData world, users will import NumPy using `np` as an alias. "
      ]
    },
    {
      "cell_type": "code",
      "execution_count": null,
      "metadata": {
        "id": "TE9vVEt9KsvG"
      },
      "outputs": [],
      "source": [
        "import numpy as np"
      ]
    },
    {
      "cell_type": "markdown",
      "metadata": {
        "id": "75okHdaXKsvH"
      },
      "source": [
        "The basic array manipulations in NumPy are:\n",
        "\n",
        "* Attributes of arrays: Determining the `size`, `shape`, `memory` consumption, and `data types` of arrays\n",
        "* Indexing of arrays: `Getting` and `setting` the value of individual array elements\n",
        "* `Slicing` of arrays: Getting and setting smaller subarrays within a larger array\n",
        "* `Reshaping` of arrays: Changing the shape of a given array\n",
        "* `Joining and splitting` of arrays: Combining multiple arrays into one, and splitting one array into many\n"
      ]
    },
    {
      "cell_type": "markdown",
      "metadata": {
        "id": "7acPM1jzKsvH"
      },
      "source": [
        "### NumPy Array Attributes"
      ]
    },
    {
      "cell_type": "markdown",
      "metadata": {
        "id": "DrqwJnMUKsvH"
      },
      "source": [
        "One can create `one-dimensional`, `two-dimensional`, and `three-dimensional` arrays in NumPy. NumPy's `random` number generator, which we will seed with a set value in order to ensure that the same random arrays are generated each time this code is run."
      ]
    },
    {
      "cell_type": "code",
      "execution_count": null,
      "metadata": {
        "id": "UV1oP1-UKsvI"
      },
      "outputs": [],
      "source": [
        "import numpy as np\n",
        "np.random.seed(0)  # seed for reproducibility\n",
        "\n",
        "x1 = np.random.randint(10, size=6)  # One-dimensional array\n",
        "x2 = np.random.randint(10, size=(3, 4))  # Two-dimensional array\n",
        "x3 = np.random.randint(10, size=(3, 4, 5))  # Three-dimensional array"
      ]
    },
    {
      "cell_type": "markdown",
      "metadata": {
        "id": "vFb3n-7LKsvI"
      },
      "source": [
        "Each NumPy array has attributes `ndim` (the number of dimensions), `shape` (the size of each dimension), and `size` (the total size of the array)"
      ]
    },
    {
      "cell_type": "code",
      "execution_count": null,
      "metadata": {
        "id": "Jl5IG4SHKsvI",
        "outputId": "951ece6c-009e-4b00-a132-fa9e1506da94"
      },
      "outputs": [
        {
          "name": "stdout",
          "output_type": "stream",
          "text": [
            "x3 ndim:  3\n",
            "x3 shape: (3, 4, 5)\n",
            "x3 size:  60\n",
            "x3 Data:  [[[8 1 5 9 8]\n",
            "  [9 4 3 0 3]\n",
            "  [5 0 2 3 8]\n",
            "  [1 3 3 3 7]]\n",
            "\n",
            " [[0 1 9 9 0]\n",
            "  [4 7 3 2 7]\n",
            "  [2 0 0 4 5]\n",
            "  [5 6 8 4 1]]\n",
            "\n",
            " [[4 9 8 1 1]\n",
            "  [7 9 9 3 6]\n",
            "  [7 2 0 3 5]\n",
            "  [9 4 4 6 4]]]\n"
          ]
        }
      ],
      "source": [
        "print(\"x3 ndim: \", x3.ndim)\n",
        "print(\"x3 shape:\", x3.shape)\n",
        "print(\"x3 size: \", x3.size)\n",
        "print(\"x3 Data: \", x3)"
      ]
    },
    {
      "cell_type": "markdown",
      "metadata": {
        "id": "oHO4rjKyKsvJ"
      },
      "source": [
        "### Array Indexing: Accessing Single Elements"
      ]
    },
    {
      "cell_type": "markdown",
      "metadata": {
        "id": "US_fDiBHKsvJ"
      },
      "source": [
        "In a `one-dimensional` array, the `i`th value (counting from zero) can be accessed by specifying the desired index in square brackets. To access from the last element, we can use negative numbers."
      ]
    },
    {
      "cell_type": "code",
      "execution_count": null,
      "metadata": {
        "id": "6PwYWwYzKsvK",
        "outputId": "52786951-4664-4d54-e6be-ad764063c789"
      },
      "outputs": [
        {
          "name": "stdout",
          "output_type": "stream",
          "text": [
            "All [5 0 3 3 7 9]\n",
            "x1 third element is 3\n",
            "x1 the last element is 9\n"
          ]
        }
      ],
      "source": [
        "# Print all value\n",
        "print(\"All\",x1)\n",
        "#Print the 3dr element\n",
        "print(\"x1 third element is\", x1[2])\n",
        "#print the last element\n",
        "print(\"x1 the last element is\", x1[-1])"
      ]
    },
    {
      "cell_type": "markdown",
      "metadata": {
        "id": "ZXZOEGkCKsvK"
      },
      "source": [
        "In a multi-dimensional array, items can be accessed using a comma-separated tuple of indices. It is also possible to change the value based on the index"
      ]
    },
    {
      "cell_type": "code",
      "execution_count": null,
      "metadata": {
        "id": "2xL-NTs2KsvL",
        "outputId": "06298742-69d4-42f6-9c28-2c6e75546f42"
      },
      "outputs": [
        {
          "name": "stdout",
          "output_type": "stream",
          "text": [
            "X2 all\n",
            " [[3 5 2 4]\n",
            " [7 6 8 8]\n",
            " [1 6 7 7]]\n",
            "Seond dimension, second value = 6\n",
            "last element 7\n",
            "last element 7\n",
            "modified x2\n",
            " [[101   5   2   4]\n",
            " [  7   6   8   8]\n",
            " [  1   6   7   7]]\n"
          ]
        }
      ],
      "source": [
        "# print all values\n",
        "print(\"X2 all\\n\", x2)\n",
        "# Access the the seond element in the second dimension\n",
        "print(\"Seond dimension, second value =\", x2[1,1])\n",
        "# Last element from the third row\n",
        "print(\"last element\", x2[2, -1])\n",
        "print(\"last element\", x2[-1, -1]) # same as above, since 2 is the last row\n",
        "# change the first value\n",
        "x2[0,0] = 101\n",
        "print(\"modified x2\\n\",x2)"
      ]
    },
    {
      "cell_type": "markdown",
      "metadata": {
        "id": "ki8QHVO9KsvL"
      },
      "source": [
        "### Array Slicing: Accessing Subarrays"
      ]
    },
    {
      "cell_type": "markdown",
      "metadata": {
        "id": "eAU1nr9IKsvM"
      },
      "source": [
        "Just as we can use `square brackets` to access individual array elements, we can also use them to access subarrays with the `slice notation`, marked by the colon (`:`) character. The NumPy slicing syntax follows that of the standard Python list; to access a slice of an array x, use this\n",
        "\n",
        "`x[start:stop:step]`"
      ]
    },
    {
      "cell_type": "code",
      "execution_count": null,
      "metadata": {
        "id": "8nTqyVabKsvM",
        "outputId": "a04385ce-8cae-4093-cd01-d32c733aec49"
      },
      "outputs": [
        {
          "name": "stdout",
          "output_type": "stream",
          "text": [
            "All [ 0  1  2  3  4  5  6  7  8  9 10 11 12 13 14]\n",
            "sublist [0 1 2 3 4]\n",
            "sublist [ 5  6  7  8  9 10 11 12 13 14]\n",
            "sublist [2 3 4 5 6 7]\n",
            "every other element [ 0  2  4  6  8 10 12 14]\n",
            "every other element starting from 1 [ 1  4  7 10 13]\n",
            "all elements reversed [14 13 12 11 10  9  8  7  6  5  4  3  2  1  0]\n",
            "reversed every other from index 5 [5 3 1]\n"
          ]
        }
      ],
      "source": [
        "x = np.arange(15)\n",
        "print(\"All\",x)\n",
        "print(\"sublist\",x[:5])\n",
        "print(\"sublist\",x[5:])\n",
        "print(\"sublist\",x[2:8])\n",
        "\n",
        "\n",
        "print(\"every other element\", x[::2])\n",
        "print(\"every other element starting from 1\", x[1::3])\n",
        "\n",
        "print(\"all elements reversed\",x[::-1])\n",
        "print(\"reversed every other from index 5\", x[5::-2]  )"
      ]
    },
    {
      "cell_type": "markdown",
      "metadata": {
        "id": "0p1oCmMXKsvN"
      },
      "source": [
        "### Accessing array rows and columns"
      ]
    },
    {
      "cell_type": "markdown",
      "metadata": {
        "id": "0XCuPD4cKsvN"
      },
      "source": [
        "One commonly needed routine is accessing of single rows or columns of an array. This can be done by combining `indexing` and `slicing`, using an empty slice marked by a single colon (`:`)"
      ]
    },
    {
      "cell_type": "code",
      "execution_count": null,
      "metadata": {
        "id": "2VSF6x_3KsvN",
        "outputId": "0a4bb0e5-7a06-4f58-ca65-32118d2864cd"
      },
      "outputs": [
        {
          "name": "stdout",
          "output_type": "stream",
          "text": [
            "all x2 [[101   5   2   4]\n",
            " [  7   6   8   8]\n",
            " [  1   6   7   7]]\n",
            "first column of x2 [101   7   1]\n",
            "first row of x2 [101   5   2   4]\n"
          ]
        }
      ],
      "source": [
        "print(\"all x2\", x2)\n",
        "print(\"first column of x2\", x2[:, 0])  \n",
        "print(\"first row of x2\", x2[0, :])  \n"
      ]
    },
    {
      "cell_type": "markdown",
      "metadata": {
        "id": "qUwXpHLyKsvP"
      },
      "source": [
        "### Copy of subarrays"
      ]
    },
    {
      "cell_type": "markdown",
      "metadata": {
        "id": "OW8-omiEKsvQ"
      },
      "source": [
        "slicing will give a copy of the array but it will still modify the original array. If we want a separate copy, we need to slice and use `copy` method"
      ]
    },
    {
      "cell_type": "code",
      "execution_count": null,
      "metadata": {
        "id": "WHxRqN6zKsvQ",
        "outputId": "4ea395ad-b56f-4cb2-b3a1-3c9cac45b13d"
      },
      "outputs": [
        {
          "name": "stdout",
          "output_type": "stream",
          "text": [
            "All x2\n",
            " [[101   5   2   4]\n",
            " [  7   6   8   8]\n",
            " [  1   6   7   7]]\n",
            "the subraray of x2\n",
            " [[101   5]\n",
            " [  7   6]]\n",
            "modifyied copy\n",
            " [[55  5]\n",
            " [ 7  6]]\n",
            "original x2\n",
            " [[55  5  2  4]\n",
            " [ 7  6  8  8]\n",
            " [ 1  6  7  7]]\n",
            "modifyied copy\n",
            " [[44  5]\n",
            " [ 7  6]]\n",
            "original x2\n",
            " [[55  5  2  4]\n",
            " [ 7  6  8  8]\n",
            " [ 1  6  7  7]]\n"
          ]
        }
      ],
      "source": [
        "print(\"All x2\\n\", x2)\n",
        "x2_copy = x2[:2,:2]\n",
        "print(\"the subraray of x2\\n\", x2_copy)\n",
        "\n",
        "x2_copy[0,0] = 55\n",
        "print(\"modifyied copy\\n\",x2_copy)\n",
        "print(\"original x2\\n\", x2)\n",
        "\n",
        "x2_copy = x2[:2,:2].copy()\n",
        "x2_copy[0,0] = 44\n",
        "print(\"modifyied copy\\n\",x2_copy)\n",
        "print(\"original x2\\n\", x2)"
      ]
    },
    {
      "cell_type": "markdown",
      "metadata": {
        "id": "u2Yi4pYuKsv-"
      },
      "source": [
        "### Array Concatenation and Splitting"
      ]
    },
    {
      "cell_type": "markdown",
      "metadata": {
        "id": "ewR0XiGIKsv-"
      },
      "source": [
        "All of the preceding routines worked on single arrays. It's also possible to combine multiple arrays into one, and to conversely split a single array into multiple arrays."
      ]
    },
    {
      "cell_type": "markdown",
      "metadata": {
        "id": "IgrC-D0_Ksv-"
      },
      "source": [
        "`Concatenation`, or joining of two arrays in `NumPy`, is primarily accomplished using the routines `np.concatenate`, `np.vstack`, and `np.hstack`. `np.concatenate` takes a tuple or list of arrays as its first argument."
      ]
    },
    {
      "cell_type": "code",
      "execution_count": null,
      "metadata": {
        "id": "AfCCKzdhKsv-",
        "outputId": "a0fc5131-296c-4b31-b592-6c2495da9b5b"
      },
      "outputs": [
        {
          "name": "stdout",
          "output_type": "stream",
          "text": [
            "[1 2 3 3 2 1]\n",
            "[ 1  2  3  3  2  1 99 99 99]\n"
          ]
        }
      ],
      "source": [
        "x = np.array([1, 2, 3])\n",
        "y = np.array([3, 2, 1])\n",
        "print(np.concatenate([x, y]))\n",
        "\n",
        "\n",
        "\n",
        "z = [99, 99, 99]\n",
        "print(np.concatenate([x, y, z]))"
      ]
    },
    {
      "cell_type": "code",
      "execution_count": null,
      "metadata": {
        "id": "21X65cpuKsv_",
        "outputId": "4c97a734-b2c0-4e4a-9203-1ff86c7474a2"
      },
      "outputs": [
        {
          "data": {
            "text/plain": [
              "array([[1, 2, 3],\n",
              "       [4, 5, 6],\n",
              "       [1, 2, 3],\n",
              "       [4, 5, 6]])"
            ]
          },
          "execution_count": 21,
          "metadata": {},
          "output_type": "execute_result"
        }
      ],
      "source": [
        "grid = np.array([[1, 2, 3],\n",
        "                 [4, 5, 6]])\n",
        "# concatenate along the first axis\n",
        "np.concatenate([grid, grid])"
      ]
    },
    {
      "cell_type": "code",
      "execution_count": null,
      "metadata": {
        "id": "XGdbq2TNKswA",
        "outputId": "68e6ec03-a044-4bdd-8515-6bae6121e30b"
      },
      "outputs": [
        {
          "data": {
            "text/plain": [
              "array([[1, 2, 3, 1, 2, 3],\n",
              "       [4, 5, 6, 4, 5, 6]])"
            ]
          },
          "execution_count": 22,
          "metadata": {},
          "output_type": "execute_result"
        }
      ],
      "source": [
        "# concatenate along the second axis (zero-indexed)\n",
        "np.concatenate([grid, grid], axis=1)"
      ]
    },
    {
      "cell_type": "markdown",
      "metadata": {
        "id": "-qOa9hPcKswA"
      },
      "source": [
        "For working with arrays of mixed dimensions, it can be clearer to use the np.vstack (vertical stack) and np.hstack (horizontal stack) functions:"
      ]
    },
    {
      "cell_type": "code",
      "execution_count": null,
      "metadata": {
        "id": "MMvnHE9jKswB",
        "outputId": "7c1c5cea-aca2-4a79-c661-f6387203171f"
      },
      "outputs": [
        {
          "data": {
            "text/plain": [
              "array([[1, 2, 3],\n",
              "       [9, 8, 7],\n",
              "       [6, 5, 4]])"
            ]
          },
          "execution_count": 23,
          "metadata": {},
          "output_type": "execute_result"
        }
      ],
      "source": [
        "x = np.array([1, 2, 3])\n",
        "grid = np.array([[9, 8, 7],\n",
        "                 [6, 5, 4]])\n",
        "\n",
        "# vertically stack the arrays\n",
        "np.vstack([x, grid])\n",
        "\n"
      ]
    },
    {
      "cell_type": "code",
      "execution_count": null,
      "metadata": {
        "id": "FUq6r-qqKswB",
        "outputId": "5e9a2778-505a-4c6c-fc0e-23b50f87809d"
      },
      "outputs": [
        {
          "data": {
            "text/plain": [
              "array([[ 9,  8,  7, 99],\n",
              "       [ 6,  5,  4, 99]])"
            ]
          },
          "execution_count": 24,
          "metadata": {},
          "output_type": "execute_result"
        }
      ],
      "source": [
        "# horizontally stack the arrays\n",
        "y = np.array([[99],\n",
        "              [99]])\n",
        "np.hstack([grid, y])\n",
        "\n"
      ]
    },
    {
      "cell_type": "code",
      "execution_count": null,
      "metadata": {
        "id": "kOuEnjI5KswC",
        "outputId": "b1fc25a1-4b87-4f9d-d805-e4c68263c29a"
      },
      "outputs": [
        {
          "name": "stdout",
          "output_type": "stream",
          "text": [
            "[1 2 3] [99 99] [3 2 1]\n"
          ]
        }
      ],
      "source": [
        "x = [1, 2, 3, 99, 99, 3, 2, 1]\n",
        "x1, x2, x3 = np.split(x, [3, 5])\n",
        "print(x1, x2, x3)\n"
      ]
    },
    {
      "cell_type": "markdown",
      "metadata": {
        "id": "TkrUd6qwKswD"
      },
      "source": [
        "## Data Manipulation with Pandas"
      ]
    },
    {
      "cell_type": "markdown",
      "metadata": {
        "id": "UAFDXUgiKswD"
      },
      "source": [
        "`Pandas` is a newer package built on top of `NumPy`, and provides an efficient implementation of a `DataFrame`. DataFrames are essentially `multidimensional arrays` with attached `row` and `column` labels, and often with `heterogeneous` types and/or `missing` data. As well as offering a `convenient storage` interface for labeled data, Pandas implements a number of powerful data operations familiar to users of both `database frameworks` and `spreadsheet programs`."
      ]
    },
    {
      "cell_type": "markdown",
      "metadata": {
        "id": "ZT7tW1NNKswD"
      },
      "source": [
        "While `NumPy` serves its purpose very well, its limitations become clear when we need more `flexibility` (e.g., attaching `labels` to data, working with `missing data`, etc.) and when attempting operations that do not map well to `element-wise broadcasting` (e.g., `groupings`, pivots, etc.), each of which is an important piece of analyzing the less structured data available in many forms in the world around us. Pandas, and in particular its `Series` and `DataFrame` objects, builds on the NumPy array structure and provides efficient access to these sorts of `data munging` tasks that occupy much of a data scientist's time.\n",
        "\n"
      ]
    },
    {
      "cell_type": "markdown",
      "metadata": {
        "id": "Je_paT4vKswD"
      },
      "source": [
        "### Installing and Using Pandas"
      ]
    },
    {
      "cell_type": "markdown",
      "metadata": {
        "id": "2nHZ7shFKswE"
      },
      "source": [
        "If you install Python using `Anaconda`, you should have Pandas installed. Otherwise, you can install it using `pip` or `conda` package managers.\n",
        "\n",
        "`pip install panda`\n",
        "\n",
        "Once Pandas is installed, you can import it and check the version. Just as we generally import NumPy under the alias `np`, users usually import Pandas under the alias `pd`."
      ]
    },
    {
      "cell_type": "code",
      "execution_count": null,
      "metadata": {
        "id": "VefVSBL1KswE",
        "outputId": "929f8923-eafc-4922-d9dd-9b0057beb492"
      },
      "outputs": [
        {
          "data": {
            "text/plain": [
              "'1.2.4'"
            ]
          },
          "execution_count": 26,
          "metadata": {},
          "output_type": "execute_result"
        }
      ],
      "source": [
        "import pandas as pd\n",
        "pd.__version__"
      ]
    },
    {
      "cell_type": "markdown",
      "metadata": {
        "id": "UMdrdqBhKswF"
      },
      "source": [
        "### The Pandas Series Object"
      ]
    },
    {
      "cell_type": "markdown",
      "metadata": {
        "id": "J4ZeeIYjKswF"
      },
      "source": [
        "A Pandas `Series` is a one-dimensional array of indexed data. It can be created from a list or array as follows"
      ]
    },
    {
      "cell_type": "code",
      "execution_count": null,
      "metadata": {
        "id": "NLolWkUWKswF",
        "outputId": "e7cbb516-52ed-4888-c7f4-eda8f22f9129"
      },
      "outputs": [
        {
          "data": {
            "text/plain": [
              "0    0.25\n",
              "1    0.50\n",
              "2    0.75\n",
              "3    1.00\n",
              "dtype: float64"
            ]
          },
          "execution_count": 27,
          "metadata": {},
          "output_type": "execute_result"
        }
      ],
      "source": [
        "data = pd.Series([0.25, 0.5, 0.75, 1.0])\n",
        "data\n",
        "\n"
      ]
    },
    {
      "cell_type": "markdown",
      "metadata": {
        "id": "i4QVHIhsKswG"
      },
      "source": [
        "As we see in the output, the `Series` wraps both a sequence of `values` and a `sequence` of indices, which we can access with the `values` and `index` attributes. The values are simply a familiar NumPy array"
      ]
    },
    {
      "cell_type": "code",
      "execution_count": null,
      "metadata": {
        "id": "-81xbYoLKswG",
        "outputId": "8c67c34c-032c-4045-b12d-d010d8c188af"
      },
      "outputs": [
        {
          "name": "stdout",
          "output_type": "stream",
          "text": [
            "[0.25 0.5  0.75 1.  ]\n",
            "RangeIndex(start=0, stop=4, step=1)\n"
          ]
        }
      ],
      "source": [
        "print(data.values)\n",
        "print(data.index)"
      ]
    },
    {
      "cell_type": "markdown",
      "metadata": {
        "id": "HV3a26FBKswH"
      },
      "source": [
        "Series can be also explicitly indexed. Moreover, it can be also directly created from a dictionary."
      ]
    },
    {
      "cell_type": "code",
      "execution_count": null,
      "metadata": {
        "id": "dqa6vQrrKswH",
        "outputId": "5fd6c6b3-f72d-4ce8-df00-1456a32aa472"
      },
      "outputs": [
        {
          "name": "stdout",
          "output_type": "stream",
          "text": [
            "a    0.25\n",
            "b    0.50\n",
            "c    0.75\n",
            "d    1.00\n",
            "dtype: float64\n",
            "Value at c 0.75\n"
          ]
        }
      ],
      "source": [
        "data = pd.Series([0.25, 0.5, 0.75, 1.0],\n",
        "                 index=['a', 'b', 'c', 'd'])\n",
        "print(data)\n",
        "print('Value at c', data['c'])\n",
        "\n"
      ]
    },
    {
      "cell_type": "code",
      "execution_count": null,
      "metadata": {
        "id": "kbvrKk1NKswS",
        "outputId": "c484e23e-b679-4928-983f-4d1eeaed597c"
      },
      "outputs": [
        {
          "name": "stdout",
          "output_type": "stream",
          "text": [
            "All population\n",
            " Addis Ababa    2739551\n",
            "Gondar          207044\n",
            "Mekelle         215914\n",
            "Adama           220212\n",
            "Awassa          157139\n",
            "Bahir Dar       155428\n",
            "dtype: int64\n"
          ]
        }
      ],
      "source": [
        "population_dict = {'Addis Ababa': 2739551,\n",
        "                   'Gondar': 207044,\n",
        "                   'Mekelle': 215914,\n",
        "                   'Adama': 220212,\n",
        "                   'Awassa': 157139,\n",
        "                  'Bahir Dar': 155428}\n",
        "population = pd.Series(population_dict)\n",
        "print(\"All population\\n\",population)"
      ]
    },
    {
      "cell_type": "code",
      "execution_count": null,
      "metadata": {
        "id": "JwjTi4LDKswS",
        "outputId": "bce8b7c2-2884-485e-f247-15717dc4eac4"
      },
      "outputs": [
        {
          "data": {
            "text/plain": [
              "155428"
            ]
          },
          "execution_count": 31,
          "metadata": {},
          "output_type": "execute_result"
        }
      ],
      "source": [
        "population['Bahir Dar']"
      ]
    },
    {
      "cell_type": "code",
      "execution_count": null,
      "metadata": {
        "id": "PVFNggG7KswT",
        "outputId": "d3228f0d-9d69-4154-c5c3-d3e9430839a3"
      },
      "outputs": [
        {
          "data": {
            "text/plain": [
              "Gondar     207044\n",
              "Mekelle    215914\n",
              "Adama      220212\n",
              "Awassa     157139\n",
              "dtype: int64"
            ]
          },
          "execution_count": 32,
          "metadata": {},
          "output_type": "execute_result"
        }
      ],
      "source": [
        "population['Gondar':'Awassa']"
      ]
    },
    {
      "cell_type": "markdown",
      "metadata": {
        "id": "4OpPnpYFKswT"
      },
      "source": [
        "### The Pandas DataFrame Object"
      ]
    },
    {
      "cell_type": "markdown",
      "metadata": {
        "id": "QFxNOhYPKswT"
      },
      "source": [
        "Like the `Series` object, the `DataFrame` can be thought of either as a generalization of a NumPy array, or as a specialization of a Python dictionary.\n",
        "\n",
        "If a `Series` is an analog of a `one-dimensional` array with flexible indices, a `DataFrame` is an analog of a `two-dimensional` array with both flexible row indices and flexible column names"
      ]
    },
    {
      "cell_type": "code",
      "execution_count": null,
      "metadata": {
        "id": "O8oCpHXfKswU",
        "outputId": "b609bf5c-e659-4e24-a162-3f3c4ef24ef0"
      },
      "outputs": [
        {
          "data": {
            "text/html": [
              "<div>\n",
              "<style scoped>\n",
              "    .dataframe tbody tr th:only-of-type {\n",
              "        vertical-align: middle;\n",
              "    }\n",
              "\n",
              "    .dataframe tbody tr th {\n",
              "        vertical-align: top;\n",
              "    }\n",
              "\n",
              "    .dataframe thead th {\n",
              "        text-align: right;\n",
              "    }\n",
              "</style>\n",
              "<table border=\"1\" class=\"dataframe\">\n",
              "  <thead>\n",
              "    <tr style=\"text-align: right;\">\n",
              "      <th></th>\n",
              "      <th>population</th>\n",
              "      <th>elevation</th>\n",
              "    </tr>\n",
              "  </thead>\n",
              "  <tbody>\n",
              "    <tr>\n",
              "      <th>Addis Ababa</th>\n",
              "      <td>2739551</td>\n",
              "      <td>2355 m</td>\n",
              "    </tr>\n",
              "    <tr>\n",
              "      <th>Gondar</th>\n",
              "      <td>207044</td>\n",
              "      <td>2133 m</td>\n",
              "    </tr>\n",
              "    <tr>\n",
              "      <th>Mekelle</th>\n",
              "      <td>215914</td>\n",
              "      <td>2084 m</td>\n",
              "    </tr>\n",
              "    <tr>\n",
              "      <th>Adama</th>\n",
              "      <td>220212</td>\n",
              "      <td>1712 m</td>\n",
              "    </tr>\n",
              "    <tr>\n",
              "      <th>Awassa</th>\n",
              "      <td>157139</td>\n",
              "      <td>1708 m</td>\n",
              "    </tr>\n",
              "    <tr>\n",
              "      <th>Bahir Dar</th>\n",
              "      <td>155428</td>\n",
              "      <td>1840 m</td>\n",
              "    </tr>\n",
              "  </tbody>\n",
              "</table>\n",
              "</div>"
            ],
            "text/plain": [
              "             population elevation\n",
              "Addis Ababa     2739551    2355 m\n",
              "Gondar           207044    2133 m\n",
              "Mekelle          215914    2084 m\n",
              "Adama            220212    1712 m\n",
              "Awassa           157139    1708 m\n",
              "Bahir Dar        155428    1840 m"
            ]
          },
          "execution_count": 33,
          "metadata": {},
          "output_type": "execute_result"
        }
      ],
      "source": [
        "area_elevation = {'Addis Ababa': '2355 m',\n",
        "                   'Gondar': '2133 m',\n",
        "                   'Mekelle': '2084 m',\n",
        "                   'Adama': '1712 m',\n",
        "                   'Awassa': '1708 m',\n",
        "                  'Bahir Dar': '1840 m'}\n",
        "elevation = pd.Series(area_elevation)\n",
        "\n",
        "\n",
        "cities = pd.DataFrame({'population': population,\n",
        "                       'elevation': elevation})\n",
        "cities"
      ]
    },
    {
      "cell_type": "code",
      "execution_count": null,
      "metadata": {
        "id": "KPBgyaVpKswU",
        "outputId": "26e8823d-ed2d-442f-9266-f5da5a034731"
      },
      "outputs": [
        {
          "data": {
            "text/plain": [
              "Index(['population', 'elevation'], dtype='object')"
            ]
          },
          "execution_count": 34,
          "metadata": {},
          "output_type": "execute_result"
        }
      ],
      "source": [
        "cities.columns"
      ]
    },
    {
      "cell_type": "code",
      "execution_count": null,
      "metadata": {
        "id": "CNaF82J4KswU",
        "outputId": "cf81f55a-8c4b-4342-c78b-7ad6b5f4a83d"
      },
      "outputs": [
        {
          "data": {
            "text/plain": [
              "Addis Ababa    2355 m\n",
              "Gondar         2133 m\n",
              "Mekelle        2084 m\n",
              "Adama          1712 m\n",
              "Awassa         1708 m\n",
              "Bahir Dar      1840 m\n",
              "Name: elevation, dtype: object"
            ]
          },
          "execution_count": 35,
          "metadata": {},
          "output_type": "execute_result"
        }
      ],
      "source": [
        "cities['elevation']"
      ]
    },
    {
      "cell_type": "markdown",
      "metadata": {
        "id": "TTwqdZcCKswV"
      },
      "source": [
        "## Reading Files"
      ]
    },
    {
      "cell_type": "markdown",
      "metadata": {
        "id": "b1r_Wcc5KswV"
      },
      "source": [
        "The most common file format is the csv (comma separated values) format. If you have a file in CSV format, you can read it using the `df.read_csv()` function. Panads support a lot of other file formats such as `JSON`, `EXCEL`, and so on"
      ]
    },
    {
      "cell_type": "code",
      "execution_count": null,
      "metadata": {
        "id": "oTLU2IvLKswV",
        "outputId": "2e26c42a-fa8e-4c5e-c185-0e4dca3ffcc6"
      },
      "outputs": [
        {
          "name": "stdout",
          "output_type": "stream",
          "text": [
            "rm: iris.data: No such file or directory\r\n"
          ]
        }
      ],
      "source": [
        "!rm iris.data"
      ]
    },
    {
      "cell_type": "code",
      "execution_count": null,
      "metadata": {
        "id": "mkwETgUDKswW"
      },
      "outputs": [],
      "source": [
        "csv_url = 'https://archive.ics.uci.edu/ml/machine-learning-databases/iris/iris.data'\n",
        "col_names = ['Sepal_Length','Sepal_Width','Petal_Length','Petal_Width','Class']\n",
        "iris =  pd.read_csv(csv_url, names = col_names)"
      ]
    },
    {
      "cell_type": "code",
      "execution_count": null,
      "metadata": {
        "id": "WKPx-OX1KswW",
        "outputId": "2faa79fc-11d9-415e-d5d0-bdb181f21be0"
      },
      "outputs": [
        {
          "data": {
            "text/html": [
              "<div>\n",
              "<style scoped>\n",
              "    .dataframe tbody tr th:only-of-type {\n",
              "        vertical-align: middle;\n",
              "    }\n",
              "\n",
              "    .dataframe tbody tr th {\n",
              "        vertical-align: top;\n",
              "    }\n",
              "\n",
              "    .dataframe thead th {\n",
              "        text-align: right;\n",
              "    }\n",
              "</style>\n",
              "<table border=\"1\" class=\"dataframe\">\n",
              "  <thead>\n",
              "    <tr style=\"text-align: right;\">\n",
              "      <th></th>\n",
              "      <th>Sepal_Length</th>\n",
              "      <th>Sepal_Width</th>\n",
              "      <th>Petal_Length</th>\n",
              "      <th>Petal_Width</th>\n",
              "      <th>Class</th>\n",
              "    </tr>\n",
              "  </thead>\n",
              "  <tbody>\n",
              "    <tr>\n",
              "      <th>0</th>\n",
              "      <td>5.1</td>\n",
              "      <td>3.5</td>\n",
              "      <td>1.4</td>\n",
              "      <td>0.2</td>\n",
              "      <td>Iris-setosa</td>\n",
              "    </tr>\n",
              "    <tr>\n",
              "      <th>1</th>\n",
              "      <td>4.9</td>\n",
              "      <td>3.0</td>\n",
              "      <td>1.4</td>\n",
              "      <td>0.2</td>\n",
              "      <td>Iris-setosa</td>\n",
              "    </tr>\n",
              "    <tr>\n",
              "      <th>2</th>\n",
              "      <td>4.7</td>\n",
              "      <td>3.2</td>\n",
              "      <td>1.3</td>\n",
              "      <td>0.2</td>\n",
              "      <td>Iris-setosa</td>\n",
              "    </tr>\n",
              "    <tr>\n",
              "      <th>3</th>\n",
              "      <td>4.6</td>\n",
              "      <td>3.1</td>\n",
              "      <td>1.5</td>\n",
              "      <td>0.2</td>\n",
              "      <td>Iris-setosa</td>\n",
              "    </tr>\n",
              "    <tr>\n",
              "      <th>4</th>\n",
              "      <td>5.0</td>\n",
              "      <td>3.6</td>\n",
              "      <td>1.4</td>\n",
              "      <td>0.2</td>\n",
              "      <td>Iris-setosa</td>\n",
              "    </tr>\n",
              "    <tr>\n",
              "      <th>...</th>\n",
              "      <td>...</td>\n",
              "      <td>...</td>\n",
              "      <td>...</td>\n",
              "      <td>...</td>\n",
              "      <td>...</td>\n",
              "    </tr>\n",
              "    <tr>\n",
              "      <th>145</th>\n",
              "      <td>6.7</td>\n",
              "      <td>3.0</td>\n",
              "      <td>5.2</td>\n",
              "      <td>2.3</td>\n",
              "      <td>Iris-virginica</td>\n",
              "    </tr>\n",
              "    <tr>\n",
              "      <th>146</th>\n",
              "      <td>6.3</td>\n",
              "      <td>2.5</td>\n",
              "      <td>5.0</td>\n",
              "      <td>1.9</td>\n",
              "      <td>Iris-virginica</td>\n",
              "    </tr>\n",
              "    <tr>\n",
              "      <th>147</th>\n",
              "      <td>6.5</td>\n",
              "      <td>3.0</td>\n",
              "      <td>5.2</td>\n",
              "      <td>2.0</td>\n",
              "      <td>Iris-virginica</td>\n",
              "    </tr>\n",
              "    <tr>\n",
              "      <th>148</th>\n",
              "      <td>6.2</td>\n",
              "      <td>3.4</td>\n",
              "      <td>5.4</td>\n",
              "      <td>2.3</td>\n",
              "      <td>Iris-virginica</td>\n",
              "    </tr>\n",
              "    <tr>\n",
              "      <th>149</th>\n",
              "      <td>5.9</td>\n",
              "      <td>3.0</td>\n",
              "      <td>5.1</td>\n",
              "      <td>1.8</td>\n",
              "      <td>Iris-virginica</td>\n",
              "    </tr>\n",
              "  </tbody>\n",
              "</table>\n",
              "<p>150 rows × 5 columns</p>\n",
              "</div>"
            ],
            "text/plain": [
              "     Sepal_Length  Sepal_Width  Petal_Length  Petal_Width           Class\n",
              "0             5.1          3.5           1.4          0.2     Iris-setosa\n",
              "1             4.9          3.0           1.4          0.2     Iris-setosa\n",
              "2             4.7          3.2           1.3          0.2     Iris-setosa\n",
              "3             4.6          3.1           1.5          0.2     Iris-setosa\n",
              "4             5.0          3.6           1.4          0.2     Iris-setosa\n",
              "..            ...          ...           ...          ...             ...\n",
              "145           6.7          3.0           5.2          2.3  Iris-virginica\n",
              "146           6.3          2.5           5.0          1.9  Iris-virginica\n",
              "147           6.5          3.0           5.2          2.0  Iris-virginica\n",
              "148           6.2          3.4           5.4          2.3  Iris-virginica\n",
              "149           5.9          3.0           5.1          1.8  Iris-virginica\n",
              "\n",
              "[150 rows x 5 columns]"
            ]
          },
          "execution_count": 38,
          "metadata": {},
          "output_type": "execute_result"
        }
      ],
      "source": [
        "iris"
      ]
    },
    {
      "cell_type": "markdown",
      "metadata": {
        "id": "PKJy6X_yKswX"
      },
      "source": [
        "##  Operations on Pandas Dataframe"
      ]
    },
    {
      "cell_type": "markdown",
      "metadata": {
        "id": "uCecnS6XKswX"
      },
      "source": [
        "Below are some of the operations/accessing by index on the iris dataset. Most of them are self explanatory. The `concat` method on Pandas is used to concatenate two or more dataframes which have the same column and data types. the `idxmax` is used to find the index (location) of the maximum value for a given column. Dataframe `df` can be also accessed using its index to get specific raw. For example, `iris['Class'][3]` will get the `Class` value at row `4` (index 3 is at row 4 since Python indexing starts at position 0)"
      ]
    },
    {
      "cell_type": "code",
      "execution_count": null,
      "metadata": {
        "id": "bIp57kK4KswX",
        "outputId": "1051339d-c939-432f-c5f7-ec72c67800ff"
      },
      "outputs": [
        {
          "name": "stdout",
          "output_type": "stream",
          "text": [
            "The length of the iris data  =  150\n",
            "The number of columns in the iris data =  5\n",
            "\n",
            "The average of Sepal_Width is = 3.0540000000000007\n",
            "The sum of Sepal_Length is = 876.5\n",
            "The sum of Sepal_Length is = 876.5\n",
            "\n"
          ]
        }
      ],
      "source": [
        "print(\"The length of the iris data  = \", len(iris))\n",
        "print(\"The number of columns in the iris data = \", len(iris.columns))\n",
        "print()\n",
        "print(\"The average of Sepal_Width is =\", iris['Sepal_Width'].mean())\n",
        "print(\"The sum of Sepal_Length is =\", iris['Sepal_Length'].sum())\n",
        "print(\"The sum of Sepal_Length is =\", iris['Sepal_Length'].sum())\n",
        "print()\n"
      ]
    },
    {
      "cell_type": "code",
      "execution_count": null,
      "metadata": {
        "id": "p-vQgn5BA8dM",
        "outputId": "6bcbaaf4-be8d-4b4c-998c-8c7bf264d299"
      },
      "outputs": [
        {
          "name": "stdout",
          "output_type": "stream",
          "text": [
            "The maximum Sepal_Length has a Class of  Iris-virginica\n",
            "\n",
            "Mean of each features group Class \n",
            "                  Sepal_Length  Sepal_Width  Petal_Length  Petal_Width\n",
            "Class                                                                \n",
            "Iris-setosa             5.006        3.418         1.464        0.244\n",
            "Iris-versicolor         5.936        2.770         4.260        1.326\n",
            "Iris-virginica          6.588        2.974         5.552        2.026\n",
            "\n",
            "The length of the iris2 data  =  300\n",
            "The number of columns in the iris2 data =  5\n",
            "\n",
            "Plot the mean for each features\n"
          ]
        },
        {
          "data": {
            "text/plain": [
              "<AxesSubplot:xlabel='Class'>"
            ]
          },
          "execution_count": 40,
          "metadata": {},
          "output_type": "execute_result"
        },
        {
          "data": {
            "image/png": "[encoded data removed]",
            "text/plain": [
              "<Figure size 432x288 with 1 Axes>"
            ]
          },
          "metadata": {
            "needs_background": "light"
          },
          "output_type": "display_data"
        }
      ],
      "source": [
        "print(\"The maximum Sepal_Length has a Class of \", iris['Class'][iris['Sepal_Length'].idxmax()])\n",
        "print()\n",
        "\n",
        "iris_by_class = iris.groupby(['Class'])\n",
        "print(\"Mean of each features group Class \\n\", iris_by_class.mean())\n",
        "print()\n",
        "\n",
        "iris2 = iris\n",
        "dup_iris  = pd.concat([iris2, iris])\n",
        "print(\"The length of the iris2 data  = \", len(dup_iris))\n",
        "print(\"The number of columns in the iris2 data = \", len(dup_iris.columns))\n",
        "print()\n",
        "print(\"Plot the mean for each features\")\n",
        "iris_by_class.mean().plot.bar()"
      ]
    },
    {
      "cell_type": "markdown",
      "metadata": {
        "id": "ai-QC1kGKswY"
      },
      "source": [
        "<font color='red' size='14'> Quiz </font>\n",
        "1. Read on of the files under `ece/csv`. What are the different columns, what do you understand from the column and row values? How many records does the file you have chosen contain?\n",
        "1. Can you merge all the data frames together from the  `ece/csv` folder? How many data it contains in total?"
      ]
    },
    {
      "cell_type": "markdown",
      "metadata": {
        "id": "i861fcRMKswY"
      },
      "source": [
        "### Data Frames groupby method"
      ]
    },
    {
      "cell_type": "markdown",
      "metadata": {
        "id": "5PBs4CVCKswY"
      },
      "source": [
        "Using `group by` method we can:\n",
        "* Split the data into groups based on some criteria\n",
        "* Calculate statistics (or apply a function) to each group"
      ]
    },
    {
      "cell_type": "code",
      "execution_count": null,
      "metadata": {
        "id": "I_XMBKjzKswY",
        "outputId": "7a4fe3e5-2f97-4bd4-ed35-a07288def310"
      },
      "outputs": [
        {
          "data": {
            "text/html": [
              "<div>\n",
              "<style scoped>\n",
              "    .dataframe tbody tr th:only-of-type {\n",
              "        vertical-align: middle;\n",
              "    }\n",
              "\n",
              "    .dataframe tbody tr th {\n",
              "        vertical-align: top;\n",
              "    }\n",
              "\n",
              "    .dataframe thead th {\n",
              "        text-align: right;\n",
              "    }\n",
              "</style>\n",
              "<table border=\"1\" class=\"dataframe\">\n",
              "  <thead>\n",
              "    <tr style=\"text-align: right;\">\n",
              "      <th></th>\n",
              "      <th>Symbol</th>\n",
              "      <th>ProductionYear</th>\n",
              "      <th>PrvsClose</th>\n",
              "      <th>Close</th>\n",
              "      <th>High</th>\n",
              "      <th>Low</th>\n",
              "      <th>Change</th>\n",
              "      <th>Vol_in_Ton</th>\n",
              "      <th>WarehouseName</th>\n",
              "    </tr>\n",
              "  </thead>\n",
              "  <tbody>\n",
              "    <tr>\n",
              "      <th>0</th>\n",
              "      <td>WYCAQ2</td>\n",
              "      <td>2013</td>\n",
              "      <td>2390</td>\n",
              "      <td>2390</td>\n",
              "      <td>2390</td>\n",
              "      <td>2390</td>\n",
              "      <td>0</td>\n",
              "      <td>8.99</td>\n",
              "      <td>Dilla</td>\n",
              "    </tr>\n",
              "    <tr>\n",
              "      <th>1</th>\n",
              "      <td>WYCAQ1</td>\n",
              "      <td>2013</td>\n",
              "      <td>2484</td>\n",
              "      <td>2500</td>\n",
              "      <td>2500</td>\n",
              "      <td>2500</td>\n",
              "      <td>16</td>\n",
              "      <td>8.99</td>\n",
              "      <td>Dilla</td>\n",
              "    </tr>\n",
              "    <tr>\n",
              "      <th>2</th>\n",
              "      <td>WYCA3</td>\n",
              "      <td>2013</td>\n",
              "      <td>2012</td>\n",
              "      <td>2042</td>\n",
              "      <td>2042</td>\n",
              "      <td>2042</td>\n",
              "      <td>30</td>\n",
              "      <td>8.99</td>\n",
              "      <td>Dilla</td>\n",
              "    </tr>\n",
              "    <tr>\n",
              "      <th>3</th>\n",
              "      <td>WLMQ2</td>\n",
              "      <td>2013</td>\n",
              "      <td>2146</td>\n",
              "      <td>2142</td>\n",
              "      <td>2156</td>\n",
              "      <td>2130</td>\n",
              "      <td>4</td>\n",
              "      <td>49.86</td>\n",
              "      <td>Jimma</td>\n",
              "    </tr>\n",
              "    <tr>\n",
              "      <th>4</th>\n",
              "      <td>WLMQ1</td>\n",
              "      <td>2013</td>\n",
              "      <td>2180</td>\n",
              "      <td>2192</td>\n",
              "      <td>2205</td>\n",
              "      <td>2180</td>\n",
              "      <td>12</td>\n",
              "      <td>18.00</td>\n",
              "      <td>Jimma</td>\n",
              "    </tr>\n",
              "  </tbody>\n",
              "</table>\n",
              "</div>"
            ],
            "text/plain": [
              "   Symbol  ProductionYear  PrvsClose  Close  High   Low  Change  Vol_in_Ton  \\\n",
              "0  WYCAQ2            2013       2390   2390  2390  2390       0        8.99   \n",
              "1  WYCAQ1            2013       2484   2500  2500  2500      16        8.99   \n",
              "2   WYCA3            2013       2012   2042  2042  2042      30        8.99   \n",
              "3   WLMQ2            2013       2146   2142  2156  2130       4       49.86   \n",
              "4   WLMQ1            2013       2180   2192  2205  2180      12       18.00   \n",
              "\n",
              "  WarehouseName  \n",
              "0         Dilla  \n",
              "1         Dilla  \n",
              "2         Dilla  \n",
              "3         Jimma  \n",
              "4         Jimma  "
            ]
          },
          "execution_count": 41,
          "metadata": {},
          "output_type": "execute_result"
        }
      ],
      "source": [
        "df = pd.read_csv('./ece/csv/Coffee-2020-1-25.xls.csv')\n",
        "df.head(5)"
      ]
    },
    {
      "cell_type": "code",
      "execution_count": null,
      "metadata": {
        "id": "sKOL91_xKswZ",
        "outputId": "008d25f6-d907-496c-ef30-e46a316cd8dd"
      },
      "outputs": [
        {
          "data": {
            "text/plain": [
              "WarehouseName\n",
              "Bedelle         13.960\n",
              "Bonga            8.130\n",
              "Bule Hora       33.400\n",
              "Dilla            8.990\n",
              "DireDawa         7.650\n",
              "Gimbi           13.255\n",
              "Hawassa         24.000\n",
              "Jimma           33.930\n",
              "SarisCoffee     41.742\n",
              "WolayitaSodo     5.100\n",
              "Name: Vol_in_Ton, dtype: float64"
            ]
          },
          "execution_count": 42,
          "metadata": {},
          "output_type": "execute_result"
        }
      ],
      "source": [
        "df_by_warehouseName = df.groupby('WarehouseName')\n",
        "df_by_warehouseName['Vol_in_Ton'].mean()"
      ]
    },
    {
      "cell_type": "code",
      "execution_count": null,
      "metadata": {
        "id": "leB4Rkc5KswZ",
        "outputId": "16f5f2f4-813d-4bd2-d13c-62c1bdcbccd6"
      },
      "outputs": [
        {
          "name": "stderr",
          "output_type": "stream",
          "text": [
            "<ipython-input-43-471d067a3372>:1: FutureWarning: Indexing with multiple keys (implicitly converted to a tuple of keys) will be deprecated, use a list instead.\n",
            "  df_by_warehouseName['PrvsClose','Close','High','Low','Change'].mean()\n"
          ]
        },
        {
          "data": {
            "text/html": [
              "<div>\n",
              "<style scoped>\n",
              "    .dataframe tbody tr th:only-of-type {\n",
              "        vertical-align: middle;\n",
              "    }\n",
              "\n",
              "    .dataframe tbody tr th {\n",
              "        vertical-align: top;\n",
              "    }\n",
              "\n",
              "    .dataframe thead th {\n",
              "        text-align: right;\n",
              "    }\n",
              "</style>\n",
              "<table border=\"1\" class=\"dataframe\">\n",
              "  <thead>\n",
              "    <tr style=\"text-align: right;\">\n",
              "      <th></th>\n",
              "      <th>PrvsClose</th>\n",
              "      <th>Close</th>\n",
              "      <th>High</th>\n",
              "      <th>Low</th>\n",
              "      <th>Change</th>\n",
              "    </tr>\n",
              "    <tr>\n",
              "      <th>WarehouseName</th>\n",
              "      <th></th>\n",
              "      <th></th>\n",
              "      <th></th>\n",
              "      <th></th>\n",
              "      <th></th>\n",
              "    </tr>\n",
              "  </thead>\n",
              "  <tbody>\n",
              "    <tr>\n",
              "      <th>Bedelle</th>\n",
              "      <td>1671.666667</td>\n",
              "      <td>1799.000000</td>\n",
              "      <td>1809.000000</td>\n",
              "      <td>1782.666667</td>\n",
              "      <td>127.333333</td>\n",
              "    </tr>\n",
              "    <tr>\n",
              "      <th>Bonga</th>\n",
              "      <td>1614.600000</td>\n",
              "      <td>1590.800000</td>\n",
              "      <td>1590.800000</td>\n",
              "      <td>1590.800000</td>\n",
              "      <td>41.800000</td>\n",
              "    </tr>\n",
              "    <tr>\n",
              "      <th>Bule Hora</th>\n",
              "      <td>2385.000000</td>\n",
              "      <td>2181.333333</td>\n",
              "      <td>2183.333333</td>\n",
              "      <td>2176.666667</td>\n",
              "      <td>203.666667</td>\n",
              "    </tr>\n",
              "    <tr>\n",
              "      <th>Dilla</th>\n",
              "      <td>2295.333333</td>\n",
              "      <td>2310.666667</td>\n",
              "      <td>2310.666667</td>\n",
              "      <td>2310.666667</td>\n",
              "      <td>15.333333</td>\n",
              "    </tr>\n",
              "    <tr>\n",
              "      <th>DireDawa</th>\n",
              "      <td>2540.000000</td>\n",
              "      <td>2495.500000</td>\n",
              "      <td>2495.500000</td>\n",
              "      <td>2495.500000</td>\n",
              "      <td>44.500000</td>\n",
              "    </tr>\n",
              "    <tr>\n",
              "      <th>Gimbi</th>\n",
              "      <td>1743.833333</td>\n",
              "      <td>1751.333333</td>\n",
              "      <td>1752.000000</td>\n",
              "      <td>1750.166667</td>\n",
              "      <td>26.833333</td>\n",
              "    </tr>\n",
              "    <tr>\n",
              "      <th>Hawassa</th>\n",
              "      <td>2323.000000</td>\n",
              "      <td>2406.333333</td>\n",
              "      <td>2407.333333</td>\n",
              "      <td>2405.000000</td>\n",
              "      <td>119.333333</td>\n",
              "    </tr>\n",
              "    <tr>\n",
              "      <th>Jimma</th>\n",
              "      <td>2163.000000</td>\n",
              "      <td>2167.000000</td>\n",
              "      <td>2180.500000</td>\n",
              "      <td>2155.000000</td>\n",
              "      <td>8.000000</td>\n",
              "    </tr>\n",
              "    <tr>\n",
              "      <th>SarisCoffee</th>\n",
              "      <td>1727.000000</td>\n",
              "      <td>1755.400000</td>\n",
              "      <td>1785.000000</td>\n",
              "      <td>1729.000000</td>\n",
              "      <td>28.400000</td>\n",
              "    </tr>\n",
              "    <tr>\n",
              "      <th>WolayitaSodo</th>\n",
              "      <td>1804.000000</td>\n",
              "      <td>1827.333333</td>\n",
              "      <td>1827.333333</td>\n",
              "      <td>1827.333333</td>\n",
              "      <td>23.333333</td>\n",
              "    </tr>\n",
              "  </tbody>\n",
              "</table>\n",
              "</div>"
            ],
            "text/plain": [
              "                 PrvsClose        Close         High          Low      Change\n",
              "WarehouseName                                                                \n",
              "Bedelle        1671.666667  1799.000000  1809.000000  1782.666667  127.333333\n",
              "Bonga          1614.600000  1590.800000  1590.800000  1590.800000   41.800000\n",
              "Bule Hora      2385.000000  2181.333333  2183.333333  2176.666667  203.666667\n",
              "Dilla          2295.333333  2310.666667  2310.666667  2310.666667   15.333333\n",
              "DireDawa       2540.000000  2495.500000  2495.500000  2495.500000   44.500000\n",
              "Gimbi          1743.833333  1751.333333  1752.000000  1750.166667   26.833333\n",
              "Hawassa        2323.000000  2406.333333  2407.333333  2405.000000  119.333333\n",
              "Jimma          2163.000000  2167.000000  2180.500000  2155.000000    8.000000\n",
              "SarisCoffee    1727.000000  1755.400000  1785.000000  1729.000000   28.400000\n",
              "WolayitaSodo   1804.000000  1827.333333  1827.333333  1827.333333   23.333333"
            ]
          },
          "execution_count": 43,
          "metadata": {},
          "output_type": "execute_result"
        }
      ],
      "source": [
        "df_by_warehouseName['PrvsClose','Close','High','Low','Change'].mean()"
      ]
    },
    {
      "cell_type": "code",
      "execution_count": null,
      "metadata": {
        "id": "cxf1VAc-Kswa",
        "outputId": "a888d65c-7a84-4852-be93-047a9cb288ee"
      },
      "outputs": [
        {
          "data": {
            "text/html": [
              "<div>\n",
              "<style scoped>\n",
              "    .dataframe tbody tr th:only-of-type {\n",
              "        vertical-align: middle;\n",
              "    }\n",
              "\n",
              "    .dataframe tbody tr th {\n",
              "        vertical-align: top;\n",
              "    }\n",
              "\n",
              "    .dataframe thead tr th {\n",
              "        text-align: left;\n",
              "    }\n",
              "\n",
              "    .dataframe thead tr:last-of-type th {\n",
              "        text-align: right;\n",
              "    }\n",
              "</style>\n",
              "<table border=\"1\" class=\"dataframe\">\n",
              "  <thead>\n",
              "    <tr>\n",
              "      <th></th>\n",
              "      <th>PrvsClose</th>\n",
              "      <th colspan=\"2\" halign=\"left\">Close</th>\n",
              "    </tr>\n",
              "    <tr>\n",
              "      <th></th>\n",
              "      <th>mean</th>\n",
              "      <th>sum</th>\n",
              "      <th>mean</th>\n",
              "    </tr>\n",
              "    <tr>\n",
              "      <th>WarehouseName</th>\n",
              "      <th></th>\n",
              "      <th></th>\n",
              "      <th></th>\n",
              "    </tr>\n",
              "  </thead>\n",
              "  <tbody>\n",
              "    <tr>\n",
              "      <th>Bedelle</th>\n",
              "      <td>1671.666667</td>\n",
              "      <td>5397</td>\n",
              "      <td>1799.000000</td>\n",
              "    </tr>\n",
              "    <tr>\n",
              "      <th>Bonga</th>\n",
              "      <td>1614.600000</td>\n",
              "      <td>7954</td>\n",
              "      <td>1590.800000</td>\n",
              "    </tr>\n",
              "    <tr>\n",
              "      <th>Bule Hora</th>\n",
              "      <td>2385.000000</td>\n",
              "      <td>6544</td>\n",
              "      <td>2181.333333</td>\n",
              "    </tr>\n",
              "    <tr>\n",
              "      <th>Dilla</th>\n",
              "      <td>2295.333333</td>\n",
              "      <td>6932</td>\n",
              "      <td>2310.666667</td>\n",
              "    </tr>\n",
              "    <tr>\n",
              "      <th>DireDawa</th>\n",
              "      <td>2540.000000</td>\n",
              "      <td>4991</td>\n",
              "      <td>2495.500000</td>\n",
              "    </tr>\n",
              "    <tr>\n",
              "      <th>Gimbi</th>\n",
              "      <td>1743.833333</td>\n",
              "      <td>10508</td>\n",
              "      <td>1751.333333</td>\n",
              "    </tr>\n",
              "    <tr>\n",
              "      <th>Hawassa</th>\n",
              "      <td>2323.000000</td>\n",
              "      <td>7219</td>\n",
              "      <td>2406.333333</td>\n",
              "    </tr>\n",
              "    <tr>\n",
              "      <th>Jimma</th>\n",
              "      <td>2163.000000</td>\n",
              "      <td>4334</td>\n",
              "      <td>2167.000000</td>\n",
              "    </tr>\n",
              "    <tr>\n",
              "      <th>SarisCoffee</th>\n",
              "      <td>1727.000000</td>\n",
              "      <td>8777</td>\n",
              "      <td>1755.400000</td>\n",
              "    </tr>\n",
              "    <tr>\n",
              "      <th>WolayitaSodo</th>\n",
              "      <td>1804.000000</td>\n",
              "      <td>5482</td>\n",
              "      <td>1827.333333</td>\n",
              "    </tr>\n",
              "  </tbody>\n",
              "</table>\n",
              "</div>"
            ],
            "text/plain": [
              "                 PrvsClose  Close             \n",
              "                      mean    sum         mean\n",
              "WarehouseName                                 \n",
              "Bedelle        1671.666667   5397  1799.000000\n",
              "Bonga          1614.600000   7954  1590.800000\n",
              "Bule Hora      2385.000000   6544  2181.333333\n",
              "Dilla          2295.333333   6932  2310.666667\n",
              "DireDawa       2540.000000   4991  2495.500000\n",
              "Gimbi          1743.833333  10508  1751.333333\n",
              "Hawassa        2323.000000   7219  2406.333333\n",
              "Jimma          2163.000000   4334  2167.000000\n",
              "SarisCoffee    1727.000000   8777  1755.400000\n",
              "WolayitaSodo   1804.000000   5482  1827.333333"
            ]
          },
          "execution_count": 44,
          "metadata": {},
          "output_type": "execute_result"
        }
      ],
      "source": [
        "df_by_warehouseName = df.groupby('WarehouseName').agg({'PrvsClose': np.mean, 'Close': [np.sum, np.mean]})  \n",
        "df_by_warehouseName"
      ]
    },
    {
      "cell_type": "markdown",
      "metadata": {
        "id": "BFMKQPLaKswa"
      },
      "source": [
        "### Dataframe filtering"
      ]
    },
    {
      "cell_type": "markdown",
      "metadata": {
        "id": "i4sRshH5Kswa"
      },
      "source": [
        "We might need to subset the data, hence we can apply Boolean indexing. This indexing is commonly known as a `filter`."
      ]
    },
    {
      "cell_type": "code",
      "execution_count": null,
      "metadata": {
        "id": "WAJWTMjSKswa",
        "outputId": "903cee2c-9578-4b40-bff8-bbc20d52f6e4"
      },
      "outputs": [
        {
          "data": {
            "text/html": [
              "<div>\n",
              "<style scoped>\n",
              "    .dataframe tbody tr th:only-of-type {\n",
              "        vertical-align: middle;\n",
              "    }\n",
              "\n",
              "    .dataframe tbody tr th {\n",
              "        vertical-align: top;\n",
              "    }\n",
              "\n",
              "    .dataframe thead th {\n",
              "        text-align: right;\n",
              "    }\n",
              "</style>\n",
              "<table border=\"1\" class=\"dataframe\">\n",
              "  <thead>\n",
              "    <tr style=\"text-align: right;\">\n",
              "      <th></th>\n",
              "      <th>Symbol</th>\n",
              "      <th>ProductionYear</th>\n",
              "      <th>PrvsClose</th>\n",
              "      <th>Close</th>\n",
              "      <th>High</th>\n",
              "      <th>Low</th>\n",
              "      <th>Change</th>\n",
              "      <th>Vol_in_Ton</th>\n",
              "      <th>WarehouseName</th>\n",
              "    </tr>\n",
              "  </thead>\n",
              "  <tbody>\n",
              "    <tr>\n",
              "      <th>3</th>\n",
              "      <td>WLMQ2</td>\n",
              "      <td>2013</td>\n",
              "      <td>2146</td>\n",
              "      <td>2142</td>\n",
              "      <td>2156</td>\n",
              "      <td>2130</td>\n",
              "      <td>4</td>\n",
              "      <td>49.86</td>\n",
              "      <td>Jimma</td>\n",
              "    </tr>\n",
              "    <tr>\n",
              "      <th>4</th>\n",
              "      <td>WLMQ1</td>\n",
              "      <td>2013</td>\n",
              "      <td>2180</td>\n",
              "      <td>2192</td>\n",
              "      <td>2205</td>\n",
              "      <td>2180</td>\n",
              "      <td>12</td>\n",
              "      <td>18.00</td>\n",
              "      <td>Jimma</td>\n",
              "    </tr>\n",
              "  </tbody>\n",
              "</table>\n",
              "</div>"
            ],
            "text/plain": [
              "  Symbol  ProductionYear  PrvsClose  Close  High   Low  Change  Vol_in_Ton  \\\n",
              "3  WLMQ2            2013       2146   2142  2156  2130       4       49.86   \n",
              "4  WLMQ1            2013       2180   2192  2205  2180      12       18.00   \n",
              "\n",
              "  WarehouseName  \n",
              "3         Jimma  \n",
              "4         Jimma  "
            ]
          },
          "execution_count": 45,
          "metadata": {},
          "output_type": "execute_result"
        }
      ],
      "source": [
        "df_Jimma = df[df['WarehouseName']=='Jimma']\n",
        "df_Jimma"
      ]
    },
    {
      "cell_type": "code",
      "execution_count": null,
      "metadata": {
        "id": "lhcaQKxWKswb",
        "outputId": "dcbaad15-08c5-4280-92ad-6183a2fd6eed"
      },
      "outputs": [
        {
          "name": "stdout",
          "output_type": "stream",
          "text": [
            "Average of Close = 1931.054054054054\n"
          ]
        },
        {
          "data": {
            "text/html": [
              "<div>\n",
              "<style scoped>\n",
              "    .dataframe tbody tr th:only-of-type {\n",
              "        vertical-align: middle;\n",
              "    }\n",
              "\n",
              "    .dataframe tbody tr th {\n",
              "        vertical-align: top;\n",
              "    }\n",
              "\n",
              "    .dataframe thead th {\n",
              "        text-align: right;\n",
              "    }\n",
              "</style>\n",
              "<table border=\"1\" class=\"dataframe\">\n",
              "  <thead>\n",
              "    <tr style=\"text-align: right;\">\n",
              "      <th></th>\n",
              "      <th>Symbol</th>\n",
              "      <th>ProductionYear</th>\n",
              "      <th>PrvsClose</th>\n",
              "      <th>Close</th>\n",
              "      <th>High</th>\n",
              "      <th>Low</th>\n",
              "      <th>Change</th>\n",
              "      <th>Vol_in_Ton</th>\n",
              "      <th>WarehouseName</th>\n",
              "    </tr>\n",
              "  </thead>\n",
              "  <tbody>\n",
              "    <tr>\n",
              "      <th>0</th>\n",
              "      <td>WYCAQ2</td>\n",
              "      <td>2013</td>\n",
              "      <td>2390</td>\n",
              "      <td>2390</td>\n",
              "      <td>2390</td>\n",
              "      <td>2390</td>\n",
              "      <td>0</td>\n",
              "      <td>8.99</td>\n",
              "      <td>Dilla</td>\n",
              "    </tr>\n",
              "    <tr>\n",
              "      <th>1</th>\n",
              "      <td>WYCAQ1</td>\n",
              "      <td>2013</td>\n",
              "      <td>2484</td>\n",
              "      <td>2500</td>\n",
              "      <td>2500</td>\n",
              "      <td>2500</td>\n",
              "      <td>16</td>\n",
              "      <td>8.99</td>\n",
              "      <td>Dilla</td>\n",
              "    </tr>\n",
              "    <tr>\n",
              "      <th>2</th>\n",
              "      <td>WYCA3</td>\n",
              "      <td>2013</td>\n",
              "      <td>2012</td>\n",
              "      <td>2042</td>\n",
              "      <td>2042</td>\n",
              "      <td>2042</td>\n",
              "      <td>30</td>\n",
              "      <td>8.99</td>\n",
              "      <td>Dilla</td>\n",
              "    </tr>\n",
              "    <tr>\n",
              "      <th>3</th>\n",
              "      <td>WLMQ2</td>\n",
              "      <td>2013</td>\n",
              "      <td>2146</td>\n",
              "      <td>2142</td>\n",
              "      <td>2156</td>\n",
              "      <td>2130</td>\n",
              "      <td>4</td>\n",
              "      <td>49.86</td>\n",
              "      <td>Jimma</td>\n",
              "    </tr>\n",
              "    <tr>\n",
              "      <th>4</th>\n",
              "      <td>WLMQ1</td>\n",
              "      <td>2013</td>\n",
              "      <td>2180</td>\n",
              "      <td>2192</td>\n",
              "      <td>2205</td>\n",
              "      <td>2180</td>\n",
              "      <td>12</td>\n",
              "      <td>18.00</td>\n",
              "      <td>Jimma</td>\n",
              "    </tr>\n",
              "    <tr>\n",
              "      <th>5</th>\n",
              "      <td>WGJQ1</td>\n",
              "      <td>2013</td>\n",
              "      <td>2445</td>\n",
              "      <td>2444</td>\n",
              "      <td>2450</td>\n",
              "      <td>2430</td>\n",
              "      <td>1</td>\n",
              "      <td>63.63</td>\n",
              "      <td>Bule Hora</td>\n",
              "    </tr>\n",
              "    <tr>\n",
              "      <th>7</th>\n",
              "      <td>WAMQ2</td>\n",
              "      <td>2013</td>\n",
              "      <td>2217</td>\n",
              "      <td>2221</td>\n",
              "      <td>2222</td>\n",
              "      <td>2220</td>\n",
              "      <td>4</td>\n",
              "      <td>36.01</td>\n",
              "      <td>Hawassa</td>\n",
              "    </tr>\n",
              "    <tr>\n",
              "      <th>12</th>\n",
              "      <td>USDAQ1</td>\n",
              "      <td>2012</td>\n",
              "      <td>2352</td>\n",
              "      <td>2298</td>\n",
              "      <td>2300</td>\n",
              "      <td>2295</td>\n",
              "      <td>54</td>\n",
              "      <td>13.45</td>\n",
              "      <td>Hawassa</td>\n",
              "    </tr>\n",
              "    <tr>\n",
              "      <th>20</th>\n",
              "      <td>UHRB5</td>\n",
              "      <td>2013</td>\n",
              "      <td>2400</td>\n",
              "      <td>2340</td>\n",
              "      <td>2340</td>\n",
              "      <td>2340</td>\n",
              "      <td>60</td>\n",
              "      <td>5.10</td>\n",
              "      <td>DireDawa</td>\n",
              "    </tr>\n",
              "    <tr>\n",
              "      <th>21</th>\n",
              "      <td>UHRA4</td>\n",
              "      <td>2013</td>\n",
              "      <td>2680</td>\n",
              "      <td>2651</td>\n",
              "      <td>2651</td>\n",
              "      <td>2651</td>\n",
              "      <td>29</td>\n",
              "      <td>10.20</td>\n",
              "      <td>DireDawa</td>\n",
              "    </tr>\n",
              "    <tr>\n",
              "      <th>25</th>\n",
              "      <td>UGJQ1</td>\n",
              "      <td>2012</td>\n",
              "      <td>2300</td>\n",
              "      <td>2300</td>\n",
              "      <td>2300</td>\n",
              "      <td>2300</td>\n",
              "      <td>0</td>\n",
              "      <td>30.84</td>\n",
              "      <td>Bule Hora</td>\n",
              "    </tr>\n",
              "    <tr>\n",
              "      <th>26</th>\n",
              "      <td>UGJQ1</td>\n",
              "      <td>2012</td>\n",
              "      <td>2400</td>\n",
              "      <td>2700</td>\n",
              "      <td>2700</td>\n",
              "      <td>2700</td>\n",
              "      <td>300</td>\n",
              "      <td>22.54</td>\n",
              "      <td>Hawassa</td>\n",
              "    </tr>\n",
              "    <tr>\n",
              "      <th>28</th>\n",
              "      <td>LWBP4</td>\n",
              "      <td>2012</td>\n",
              "      <td>1979</td>\n",
              "      <td>2024</td>\n",
              "      <td>2052</td>\n",
              "      <td>2006</td>\n",
              "      <td>45</td>\n",
              "      <td>37.26</td>\n",
              "      <td>SarisCoffee</td>\n",
              "    </tr>\n",
              "  </tbody>\n",
              "</table>\n",
              "</div>"
            ],
            "text/plain": [
              "    Symbol  ProductionYear  PrvsClose  Close  High   Low  Change  Vol_in_Ton  \\\n",
              "0   WYCAQ2            2013       2390   2390  2390  2390       0        8.99   \n",
              "1   WYCAQ1            2013       2484   2500  2500  2500      16        8.99   \n",
              "2    WYCA3            2013       2012   2042  2042  2042      30        8.99   \n",
              "3    WLMQ2            2013       2146   2142  2156  2130       4       49.86   \n",
              "4    WLMQ1            2013       2180   2192  2205  2180      12       18.00   \n",
              "5    WGJQ1            2013       2445   2444  2450  2430       1       63.63   \n",
              "7    WAMQ2            2013       2217   2221  2222  2220       4       36.01   \n",
              "12  USDAQ1            2012       2352   2298  2300  2295      54       13.45   \n",
              "20   UHRB5            2013       2400   2340  2340  2340      60        5.10   \n",
              "21   UHRA4            2013       2680   2651  2651  2651      29       10.20   \n",
              "25   UGJQ1            2012       2300   2300  2300  2300       0       30.84   \n",
              "26   UGJQ1            2012       2400   2700  2700  2700     300       22.54   \n",
              "28   LWBP4            2012       1979   2024  2052  2006      45       37.26   \n",
              "\n",
              "   WarehouseName  \n",
              "0          Dilla  \n",
              "1          Dilla  \n",
              "2          Dilla  \n",
              "3          Jimma  \n",
              "4          Jimma  \n",
              "5      Bule Hora  \n",
              "7        Hawassa  \n",
              "12       Hawassa  \n",
              "20      DireDawa  \n",
              "21      DireDawa  \n",
              "25     Bule Hora  \n",
              "26       Hawassa  \n",
              "28   SarisCoffee  "
            ]
          },
          "execution_count": 46,
          "metadata": {},
          "output_type": "execute_result"
        }
      ],
      "source": [
        "# First get the average value for Close\n",
        "avg = df['Close'].mean()\n",
        "print(\"Average of Close =\", avg)\n",
        "df_gt_mean = df[df['Close']>= avg]\n",
        "df_gt_mean"
      ]
    },
    {
      "cell_type": "markdown",
      "metadata": {
        "id": "gX84desWKswf"
      },
      "source": [
        "### Data Frames: method loc and iloc"
      ]
    },
    {
      "cell_type": "markdown",
      "metadata": {
        "id": "hfhTgurDKswf"
      },
      "source": [
        "If we need to select a range of rows, using their `labels` we can use method `loc`.\n",
        "If we need to select a range of rows and/or columns, using their `positions` we can use method `iloc`"
      ]
    },
    {
      "cell_type": "code",
      "execution_count": null,
      "metadata": {
        "id": "7atZZ2bRKswg",
        "outputId": "ce40b440-e4cc-4775-fa90-3aed3aa7833a"
      },
      "outputs": [
        {
          "data": {
            "text/html": [
              "<div>\n",
              "<style scoped>\n",
              "    .dataframe tbody tr th:only-of-type {\n",
              "        vertical-align: middle;\n",
              "    }\n",
              "\n",
              "    .dataframe tbody tr th {\n",
              "        vertical-align: top;\n",
              "    }\n",
              "\n",
              "    .dataframe thead th {\n",
              "        text-align: right;\n",
              "    }\n",
              "</style>\n",
              "<table border=\"1\" class=\"dataframe\">\n",
              "  <thead>\n",
              "    <tr style=\"text-align: right;\">\n",
              "      <th></th>\n",
              "      <th>Symbol</th>\n",
              "      <th>Close</th>\n",
              "      <th>WarehouseName</th>\n",
              "    </tr>\n",
              "  </thead>\n",
              "  <tbody>\n",
              "    <tr>\n",
              "      <th>5</th>\n",
              "      <td>WGJQ1</td>\n",
              "      <td>2444</td>\n",
              "      <td>Bule Hora</td>\n",
              "    </tr>\n",
              "    <tr>\n",
              "      <th>6</th>\n",
              "      <td>WGJ3</td>\n",
              "      <td>1800</td>\n",
              "      <td>Bule Hora</td>\n",
              "    </tr>\n",
              "    <tr>\n",
              "      <th>7</th>\n",
              "      <td>WAMQ2</td>\n",
              "      <td>2221</td>\n",
              "      <td>Hawassa</td>\n",
              "    </tr>\n",
              "    <tr>\n",
              "      <th>8</th>\n",
              "      <td>USK7</td>\n",
              "      <td>1651</td>\n",
              "      <td>Bonga</td>\n",
              "    </tr>\n",
              "    <tr>\n",
              "      <th>9</th>\n",
              "      <td>USDEQ2</td>\n",
              "      <td>1910</td>\n",
              "      <td>WolayitaSodo</td>\n",
              "    </tr>\n",
              "    <tr>\n",
              "      <th>10</th>\n",
              "      <td>USDE5</td>\n",
              "      <td>1737</td>\n",
              "      <td>WolayitaSodo</td>\n",
              "    </tr>\n",
              "  </tbody>\n",
              "</table>\n",
              "</div>"
            ],
            "text/plain": [
              "    Symbol  Close WarehouseName\n",
              "5    WGJQ1   2444     Bule Hora\n",
              "6     WGJ3   1800     Bule Hora\n",
              "7    WAMQ2   2221       Hawassa\n",
              "8     USK7   1651         Bonga\n",
              "9   USDEQ2   1910  WolayitaSodo\n",
              "10   USDE5   1737  WolayitaSodo"
            ]
          },
          "execution_count": 47,
          "metadata": {},
          "output_type": "execute_result"
        }
      ],
      "source": [
        "df.loc[5:10, ['Symbol','Close','WarehouseName']]"
      ]
    },
    {
      "cell_type": "code",
      "execution_count": null,
      "metadata": {
        "id": "DFeDlHqvKswl",
        "outputId": "75bb51ef-22e5-421c-bc6c-c0c0ddbdca4e"
      },
      "outputs": [
        {
          "data": {
            "text/html": [
              "<div>\n",
              "<style scoped>\n",
              "    .dataframe tbody tr th:only-of-type {\n",
              "        vertical-align: middle;\n",
              "    }\n",
              "\n",
              "    .dataframe tbody tr th {\n",
              "        vertical-align: top;\n",
              "    }\n",
              "\n",
              "    .dataframe thead th {\n",
              "        text-align: right;\n",
              "    }\n",
              "</style>\n",
              "<table border=\"1\" class=\"dataframe\">\n",
              "  <thead>\n",
              "    <tr style=\"text-align: right;\">\n",
              "      <th></th>\n",
              "      <th>Symbol</th>\n",
              "      <th>Close</th>\n",
              "      <th>WarehouseName</th>\n",
              "    </tr>\n",
              "  </thead>\n",
              "  <tbody>\n",
              "    <tr>\n",
              "      <th>5</th>\n",
              "      <td>WGJQ1</td>\n",
              "      <td>2444</td>\n",
              "      <td>Bule Hora</td>\n",
              "    </tr>\n",
              "    <tr>\n",
              "      <th>6</th>\n",
              "      <td>WGJ3</td>\n",
              "      <td>1800</td>\n",
              "      <td>Bule Hora</td>\n",
              "    </tr>\n",
              "    <tr>\n",
              "      <th>7</th>\n",
              "      <td>WAMQ2</td>\n",
              "      <td>2221</td>\n",
              "      <td>Hawassa</td>\n",
              "    </tr>\n",
              "    <tr>\n",
              "      <th>8</th>\n",
              "      <td>USK7</td>\n",
              "      <td>1651</td>\n",
              "      <td>Bonga</td>\n",
              "    </tr>\n",
              "    <tr>\n",
              "      <th>9</th>\n",
              "      <td>USDEQ2</td>\n",
              "      <td>1910</td>\n",
              "      <td>WolayitaSodo</td>\n",
              "    </tr>\n",
              "  </tbody>\n",
              "</table>\n",
              "</div>"
            ],
            "text/plain": [
              "   Symbol  Close WarehouseName\n",
              "5   WGJQ1   2444     Bule Hora\n",
              "6    WGJ3   1800     Bule Hora\n",
              "7   WAMQ2   2221       Hawassa\n",
              "8    USK7   1651         Bonga\n",
              "9  USDEQ2   1910  WolayitaSodo"
            ]
          },
          "execution_count": 48,
          "metadata": {},
          "output_type": "execute_result"
        }
      ],
      "source": [
        "df.iloc[5:10, [0,3,8]] # Symbol is at position 0, Close at 3, and WarehouseName at position 8"
      ]
    },
    {
      "cell_type": "markdown",
      "metadata": {
        "id": "ItV_DVDQKswl"
      },
      "source": [
        "### Pandas pivot_table() function"
      ]
    },
    {
      "cell_type": "markdown",
      "metadata": {
        "id": "yMt1mE2OKswl"
      },
      "source": [
        "A `pivot table` allows us to draw insights from data. Pandas provides a similar function called `pivot_table()`. Pandas pivot_table() is a simple function but can produce very powerful analysis very quickly.\n",
        "\n",
        "For this task, we will use the coffee sale data from this [url](https://github.com/BindiChen/machine-learning)\n",
        "\n",
        "If you are in a Linux shell, you can use the `wget` command to download the data"
      ]
    },
    {
      "cell_type": "code",
      "execution_count": null,
      "metadata": {
        "id": "ylCxbpp6Ksxq",
        "outputId": "15343352-1536-462a-90df-3dac17882392"
      },
      "outputs": [
        {
          "name": "stdout",
          "output_type": "stream",
          "text": [
            "--2023-05-14 22:15:02--  https://raw.githubusercontent.com/BindiChen/machine-learning/main/data-analysis/003-pandas-pivot-table/data/coffee_sales.csv\n",
            "Resolving raw.githubusercontent.com (raw.githubusercontent.com)... 2606:50c0:8003::154, 2606:50c0:8001::154, 2606:50c0:8000::154, ...\n",
            "Connecting to raw.githubusercontent.com (raw.githubusercontent.com)|2606:50c0:8003::154|:443... connected.\n",
            "HTTP request sent, awaiting response... 200 OK\n",
            "Length: 249278 (243K) [text/plain]\n",
            "Saving to: ‘./coffee/coffee_sales.csv’\n",
            "\n",
            "coffee_sales.csv    100%[===================>] 243,44K  --.-KB/s    in 0,02s   \n",
            "\n",
            "2023-05-14 22:15:02 (12,0 MB/s) - ‘./coffee/coffee_sales.csv’ saved [249278/249278]\n",
            "\n"
          ]
        }
      ],
      "source": [
        "!wget https://raw.githubusercontent.com/BindiChen/machine-learning/main/data-analysis/003-pandas-pivot-table/data/coffee_sales.csv -P ./coffee/"
      ]
    },
    {
      "cell_type": "code",
      "execution_count": null,
      "metadata": {
        "id": "97GcLa75Ksxr"
      },
      "outputs": [],
      "source": [
        "import pandas as pd\n",
        "def load_data():\n",
        "    return pd.read_csv('./coffee/coffee_sales.csv', parse_dates=['order_date'])"
      ]
    },
    {
      "cell_type": "code",
      "execution_count": null,
      "metadata": {
        "id": "nERsGiNDKsxr",
        "outputId": "bfc98d25-dbde-4629-b6ec-49031130390a"
      },
      "outputs": [
        {
          "data": {
            "text/html": [
              "<div>\n",
              "<style scoped>\n",
              "    .dataframe tbody tr th:only-of-type {\n",
              "        vertical-align: middle;\n",
              "    }\n",
              "\n",
              "    .dataframe tbody tr th {\n",
              "        vertical-align: top;\n",
              "    }\n",
              "\n",
              "    .dataframe thead th {\n",
              "        text-align: right;\n",
              "    }\n",
              "</style>\n",
              "<table border=\"1\" class=\"dataframe\">\n",
              "  <thead>\n",
              "    <tr style=\"text-align: right;\">\n",
              "      <th></th>\n",
              "      <th>order_date</th>\n",
              "      <th>market</th>\n",
              "      <th>region</th>\n",
              "      <th>product_category</th>\n",
              "      <th>product</th>\n",
              "      <th>cost</th>\n",
              "      <th>inventory</th>\n",
              "      <th>net_profit</th>\n",
              "      <th>sales</th>\n",
              "    </tr>\n",
              "  </thead>\n",
              "  <tbody>\n",
              "    <tr>\n",
              "      <th>0</th>\n",
              "      <td>2010-01-01</td>\n",
              "      <td>Wholesale</td>\n",
              "      <td>Central</td>\n",
              "      <td>Coffee</td>\n",
              "      <td>Amaretto</td>\n",
              "      <td>89</td>\n",
              "      <td>777</td>\n",
              "      <td>94</td>\n",
              "      <td>219</td>\n",
              "    </tr>\n",
              "    <tr>\n",
              "      <th>1</th>\n",
              "      <td>2010-01-01</td>\n",
              "      <td>Wholesale</td>\n",
              "      <td>Central</td>\n",
              "      <td>Coffee</td>\n",
              "      <td>Columbian</td>\n",
              "      <td>83</td>\n",
              "      <td>623</td>\n",
              "      <td>68</td>\n",
              "      <td>190</td>\n",
              "    </tr>\n",
              "    <tr>\n",
              "      <th>2</th>\n",
              "      <td>2010-01-01</td>\n",
              "      <td>Wholesale</td>\n",
              "      <td>Central</td>\n",
              "      <td>Coffee</td>\n",
              "      <td>Decaf Irish Cream</td>\n",
              "      <td>95</td>\n",
              "      <td>821</td>\n",
              "      <td>101</td>\n",
              "      <td>234</td>\n",
              "    </tr>\n",
              "    <tr>\n",
              "      <th>3</th>\n",
              "      <td>2010-01-01</td>\n",
              "      <td>Wholesale</td>\n",
              "      <td>Central</td>\n",
              "      <td>Tea</td>\n",
              "      <td>Green Tea</td>\n",
              "      <td>44</td>\n",
              "      <td>623</td>\n",
              "      <td>30</td>\n",
              "      <td>100</td>\n",
              "    </tr>\n",
              "    <tr>\n",
              "      <th>4</th>\n",
              "      <td>2010-01-01</td>\n",
              "      <td>Wholesale</td>\n",
              "      <td>Central</td>\n",
              "      <td>Espresso</td>\n",
              "      <td>Caffe Mocha</td>\n",
              "      <td>54</td>\n",
              "      <td>456</td>\n",
              "      <td>54</td>\n",
              "      <td>134</td>\n",
              "    </tr>\n",
              "  </tbody>\n",
              "</table>\n",
              "</div>"
            ],
            "text/plain": [
              "  order_date     market   region product_category            product  cost  \\\n",
              "0 2010-01-01  Wholesale  Central           Coffee           Amaretto    89   \n",
              "1 2010-01-01  Wholesale  Central           Coffee          Columbian    83   \n",
              "2 2010-01-01  Wholesale  Central           Coffee  Decaf Irish Cream    95   \n",
              "3 2010-01-01  Wholesale  Central              Tea          Green Tea    44   \n",
              "4 2010-01-01  Wholesale  Central         Espresso        Caffe Mocha    54   \n",
              "\n",
              "   inventory  net_profit  sales  \n",
              "0        777          94    219  \n",
              "1        623          68    190  \n",
              "2        821         101    234  \n",
              "3        623          30    100  \n",
              "4        456          54    134  "
            ]
          },
          "execution_count": 51,
          "metadata": {},
          "output_type": "execute_result"
        }
      ],
      "source": [
        "df = load_data()\n",
        "df.head()"
      ]
    },
    {
      "cell_type": "markdown",
      "metadata": {
        "id": "A6eGZ50xKsxr"
      },
      "source": [
        "### Simplest Pivot table"
      ]
    },
    {
      "cell_type": "markdown",
      "metadata": {
        "id": "4flZb2tVKsxs"
      },
      "source": [
        "The simplest `pivot table` must have an index. In this example, let us use the `region` as our index. By default, it is performing the `mean` aggregation function on all available numerical columns."
      ]
    },
    {
      "cell_type": "code",
      "execution_count": null,
      "metadata": {
        "id": "HNBMqn5sKsxs",
        "outputId": "cf6e1ced-98f6-4205-eda9-c67a21460daa"
      },
      "outputs": [
        {
          "data": {
            "text/html": [
              "<div>\n",
              "<style scoped>\n",
              "    .dataframe tbody tr th:only-of-type {\n",
              "        vertical-align: middle;\n",
              "    }\n",
              "\n",
              "    .dataframe tbody tr th {\n",
              "        vertical-align: top;\n",
              "    }\n",
              "\n",
              "    .dataframe thead th {\n",
              "        text-align: right;\n",
              "    }\n",
              "</style>\n",
              "<table border=\"1\" class=\"dataframe\">\n",
              "  <thead>\n",
              "    <tr style=\"text-align: right;\">\n",
              "      <th></th>\n",
              "      <th>cost</th>\n",
              "      <th>inventory</th>\n",
              "      <th>net_profit</th>\n",
              "      <th>sales</th>\n",
              "    </tr>\n",
              "    <tr>\n",
              "      <th>region</th>\n",
              "      <th></th>\n",
              "      <th></th>\n",
              "      <th></th>\n",
              "      <th></th>\n",
              "    </tr>\n",
              "  </thead>\n",
              "  <tbody>\n",
              "    <tr>\n",
              "      <th>Central</th>\n",
              "      <td>84.157738</td>\n",
              "      <td>742.648810</td>\n",
              "      <td>69.830357</td>\n",
              "      <td>197.206101</td>\n",
              "    </tr>\n",
              "    <tr>\n",
              "      <th>East</th>\n",
              "      <td>85.421171</td>\n",
              "      <td>778.191441</td>\n",
              "      <td>66.685811</td>\n",
              "      <td>201.099099</td>\n",
              "    </tr>\n",
              "    <tr>\n",
              "      <th>South</th>\n",
              "      <td>65.327381</td>\n",
              "      <td>478.273810</td>\n",
              "      <td>48.330357</td>\n",
              "      <td>154.651786</td>\n",
              "    </tr>\n",
              "    <tr>\n",
              "      <th>West</th>\n",
              "      <td>93.608631</td>\n",
              "      <td>872.632440</td>\n",
              "      <td>55.056548</td>\n",
              "      <td>202.577381</td>\n",
              "    </tr>\n",
              "  </tbody>\n",
              "</table>\n",
              "</div>"
            ],
            "text/plain": [
              "              cost   inventory  net_profit       sales\n",
              "region                                                \n",
              "Central  84.157738  742.648810   69.830357  197.206101\n",
              "East     85.421171  778.191441   66.685811  201.099099\n",
              "South    65.327381  478.273810   48.330357  154.651786\n",
              "West     93.608631  872.632440   55.056548  202.577381"
            ]
          },
          "execution_count": 52,
          "metadata": {},
          "output_type": "execute_result"
        }
      ],
      "source": [
        "df.pivot_table(index='region')"
      ]
    },
    {
      "cell_type": "markdown",
      "metadata": {
        "id": "eCdD-WKiKsxs"
      },
      "source": [
        "To display multiple indexes, we can pass a list to index"
      ]
    },
    {
      "cell_type": "code",
      "execution_count": null,
      "metadata": {
        "id": "iOW80Iq8Ksxs",
        "outputId": "53cce877-a04f-4962-94ac-0aea4380aa72"
      },
      "outputs": [
        {
          "data": {
            "text/html": [
              "<div>\n",
              "<style scoped>\n",
              "    .dataframe tbody tr th:only-of-type {\n",
              "        vertical-align: middle;\n",
              "    }\n",
              "\n",
              "    .dataframe tbody tr th {\n",
              "        vertical-align: top;\n",
              "    }\n",
              "\n",
              "    .dataframe thead th {\n",
              "        text-align: right;\n",
              "    }\n",
              "</style>\n",
              "<table border=\"1\" class=\"dataframe\">\n",
              "  <thead>\n",
              "    <tr style=\"text-align: right;\">\n",
              "      <th></th>\n",
              "      <th></th>\n",
              "      <th>cost</th>\n",
              "      <th>inventory</th>\n",
              "      <th>net_profit</th>\n",
              "      <th>sales</th>\n",
              "    </tr>\n",
              "    <tr>\n",
              "      <th>region</th>\n",
              "      <th>product_category</th>\n",
              "      <th></th>\n",
              "      <th></th>\n",
              "      <th></th>\n",
              "      <th></th>\n",
              "    </tr>\n",
              "  </thead>\n",
              "  <tbody>\n",
              "    <tr>\n",
              "      <th rowspan=\"4\" valign=\"top\">Central</th>\n",
              "      <th>Coffee</th>\n",
              "      <td>74.390625</td>\n",
              "      <td>680.781250</td>\n",
              "      <td>60.583333</td>\n",
              "      <td>179.895833</td>\n",
              "    </tr>\n",
              "    <tr>\n",
              "      <th>Espresso</th>\n",
              "      <td>89.666667</td>\n",
              "      <td>882.090278</td>\n",
              "      <td>81.600694</td>\n",
              "      <td>207.295139</td>\n",
              "    </tr>\n",
              "    <tr>\n",
              "      <th>Herbal tea</th>\n",
              "      <td>87.065476</td>\n",
              "      <td>763.952381</td>\n",
              "      <td>73.681548</td>\n",
              "      <td>202.047619</td>\n",
              "    </tr>\n",
              "    <tr>\n",
              "      <th>Tea</th>\n",
              "      <td>87.690476</td>\n",
              "      <td>672.529762</td>\n",
              "      <td>66.458333</td>\n",
              "      <td>203.500000</td>\n",
              "    </tr>\n",
              "    <tr>\n",
              "      <th rowspan=\"4\" valign=\"top\">East</th>\n",
              "      <th>Coffee</th>\n",
              "      <td>110.976190</td>\n",
              "      <td>580.785714</td>\n",
              "      <td>184.476190</td>\n",
              "      <td>337.148810</td>\n",
              "    </tr>\n",
              "    <tr>\n",
              "      <th>Espresso</th>\n",
              "      <td>95.600000</td>\n",
              "      <td>767.133333</td>\n",
              "      <td>26.016667</td>\n",
              "      <td>201.654167</td>\n",
              "    </tr>\n",
              "    <tr>\n",
              "      <th>Herbal tea</th>\n",
              "      <td>101.240741</td>\n",
              "      <td>963.212963</td>\n",
              "      <td>29.736111</td>\n",
              "      <td>191.486111</td>\n",
              "    </tr>\n",
              "    <tr>\n",
              "      <th>Tea</th>\n",
              "      <td>46.962121</td>\n",
              "      <td>762.484848</td>\n",
              "      <td>58.931818</td>\n",
              "      <td>121.882576</td>\n",
              "    </tr>\n",
              "    <tr>\n",
              "      <th rowspan=\"3\" valign=\"top\">South</th>\n",
              "      <th>Coffee</th>\n",
              "      <td>78.916667</td>\n",
              "      <td>803.687500</td>\n",
              "      <td>60.947917</td>\n",
              "      <td>173.223958</td>\n",
              "    </tr>\n",
              "    <tr>\n",
              "      <th>Espresso</th>\n",
              "      <td>62.305556</td>\n",
              "      <td>184.645833</td>\n",
              "      <td>52.100694</td>\n",
              "      <td>156.215278</td>\n",
              "    </tr>\n",
              "    <tr>\n",
              "      <th>Herbal tea</th>\n",
              "      <td>56.270833</td>\n",
              "      <td>593.302083</td>\n",
              "      <td>30.057292</td>\n",
              "      <td>133.734375</td>\n",
              "    </tr>\n",
              "    <tr>\n",
              "      <th rowspan=\"4\" valign=\"top\">West</th>\n",
              "      <th>Coffee</th>\n",
              "      <td>90.814103</td>\n",
              "      <td>931.583333</td>\n",
              "      <td>27.964744</td>\n",
              "      <td>185.410256</td>\n",
              "    </tr>\n",
              "    <tr>\n",
              "      <th>Espresso</th>\n",
              "      <td>84.133333</td>\n",
              "      <td>828.933333</td>\n",
              "      <td>66.305556</td>\n",
              "      <td>194.188889</td>\n",
              "    </tr>\n",
              "    <tr>\n",
              "      <th>Herbal tea</th>\n",
              "      <td>98.987179</td>\n",
              "      <td>802.282051</td>\n",
              "      <td>84.304487</td>\n",
              "      <td>231.692308</td>\n",
              "    </tr>\n",
              "    <tr>\n",
              "      <th>Tea</th>\n",
              "      <td>100.844444</td>\n",
              "      <td>926.211111</td>\n",
              "      <td>41.938889</td>\n",
              "      <td>200.611111</td>\n",
              "    </tr>\n",
              "  </tbody>\n",
              "</table>\n",
              "</div>"
            ],
            "text/plain": [
              "                                cost   inventory  net_profit       sales\n",
              "region  product_category                                                \n",
              "Central Coffee             74.390625  680.781250   60.583333  179.895833\n",
              "        Espresso           89.666667  882.090278   81.600694  207.295139\n",
              "        Herbal tea         87.065476  763.952381   73.681548  202.047619\n",
              "        Tea                87.690476  672.529762   66.458333  203.500000\n",
              "East    Coffee            110.976190  580.785714  184.476190  337.148810\n",
              "        Espresso           95.600000  767.133333   26.016667  201.654167\n",
              "        Herbal tea        101.240741  963.212963   29.736111  191.486111\n",
              "        Tea                46.962121  762.484848   58.931818  121.882576\n",
              "South   Coffee             78.916667  803.687500   60.947917  173.223958\n",
              "        Espresso           62.305556  184.645833   52.100694  156.215278\n",
              "        Herbal tea         56.270833  593.302083   30.057292  133.734375\n",
              "West    Coffee             90.814103  931.583333   27.964744  185.410256\n",
              "        Espresso           84.133333  828.933333   66.305556  194.188889\n",
              "        Herbal tea         98.987179  802.282051   84.304487  231.692308\n",
              "        Tea               100.844444  926.211111   41.938889  200.611111"
            ]
          },
          "execution_count": 53,
          "metadata": {},
          "output_type": "execute_result"
        }
      ],
      "source": [
        "df.pivot_table(index=['region', 'product_category'])"
      ]
    },
    {
      "cell_type": "markdown",
      "metadata": {
        "id": "evJ6QfnpKsxt"
      },
      "source": [
        "The values to index are the keys to `group by` on the pivot table. You can change the order of the values to get a different visual representation, for example, we want to take a look at `average value`s by grouping the `region` with the `product_category`."
      ]
    },
    {
      "cell_type": "code",
      "execution_count": null,
      "metadata": {
        "id": "_LGkXRlpKsxt",
        "outputId": "411dabef-499b-4902-d726-01cfcdc8b0f9"
      },
      "outputs": [
        {
          "data": {
            "text/html": [
              "<div>\n",
              "<style scoped>\n",
              "    .dataframe tbody tr th:only-of-type {\n",
              "        vertical-align: middle;\n",
              "    }\n",
              "\n",
              "    .dataframe tbody tr th {\n",
              "        vertical-align: top;\n",
              "    }\n",
              "\n",
              "    .dataframe thead th {\n",
              "        text-align: right;\n",
              "    }\n",
              "</style>\n",
              "<table border=\"1\" class=\"dataframe\">\n",
              "  <thead>\n",
              "    <tr style=\"text-align: right;\">\n",
              "      <th></th>\n",
              "      <th></th>\n",
              "      <th>cost</th>\n",
              "      <th>inventory</th>\n",
              "      <th>net_profit</th>\n",
              "      <th>sales</th>\n",
              "    </tr>\n",
              "    <tr>\n",
              "      <th>product_category</th>\n",
              "      <th>region</th>\n",
              "      <th></th>\n",
              "      <th></th>\n",
              "      <th></th>\n",
              "      <th></th>\n",
              "    </tr>\n",
              "  </thead>\n",
              "  <tbody>\n",
              "    <tr>\n",
              "      <th rowspan=\"4\" valign=\"top\">Coffee</th>\n",
              "      <th>Central</th>\n",
              "      <td>74.390625</td>\n",
              "      <td>680.781250</td>\n",
              "      <td>60.583333</td>\n",
              "      <td>179.895833</td>\n",
              "    </tr>\n",
              "    <tr>\n",
              "      <th>East</th>\n",
              "      <td>110.976190</td>\n",
              "      <td>580.785714</td>\n",
              "      <td>184.476190</td>\n",
              "      <td>337.148810</td>\n",
              "    </tr>\n",
              "    <tr>\n",
              "      <th>South</th>\n",
              "      <td>78.916667</td>\n",
              "      <td>803.687500</td>\n",
              "      <td>60.947917</td>\n",
              "      <td>173.223958</td>\n",
              "    </tr>\n",
              "    <tr>\n",
              "      <th>West</th>\n",
              "      <td>90.814103</td>\n",
              "      <td>931.583333</td>\n",
              "      <td>27.964744</td>\n",
              "      <td>185.410256</td>\n",
              "    </tr>\n",
              "    <tr>\n",
              "      <th rowspan=\"4\" valign=\"top\">Espresso</th>\n",
              "      <th>Central</th>\n",
              "      <td>89.666667</td>\n",
              "      <td>882.090278</td>\n",
              "      <td>81.600694</td>\n",
              "      <td>207.295139</td>\n",
              "    </tr>\n",
              "    <tr>\n",
              "      <th>East</th>\n",
              "      <td>95.600000</td>\n",
              "      <td>767.133333</td>\n",
              "      <td>26.016667</td>\n",
              "      <td>201.654167</td>\n",
              "    </tr>\n",
              "    <tr>\n",
              "      <th>South</th>\n",
              "      <td>62.305556</td>\n",
              "      <td>184.645833</td>\n",
              "      <td>52.100694</td>\n",
              "      <td>156.215278</td>\n",
              "    </tr>\n",
              "    <tr>\n",
              "      <th>West</th>\n",
              "      <td>84.133333</td>\n",
              "      <td>828.933333</td>\n",
              "      <td>66.305556</td>\n",
              "      <td>194.188889</td>\n",
              "    </tr>\n",
              "    <tr>\n",
              "      <th rowspan=\"4\" valign=\"top\">Herbal tea</th>\n",
              "      <th>Central</th>\n",
              "      <td>87.065476</td>\n",
              "      <td>763.952381</td>\n",
              "      <td>73.681548</td>\n",
              "      <td>202.047619</td>\n",
              "    </tr>\n",
              "    <tr>\n",
              "      <th>East</th>\n",
              "      <td>101.240741</td>\n",
              "      <td>963.212963</td>\n",
              "      <td>29.736111</td>\n",
              "      <td>191.486111</td>\n",
              "    </tr>\n",
              "    <tr>\n",
              "      <th>South</th>\n",
              "      <td>56.270833</td>\n",
              "      <td>593.302083</td>\n",
              "      <td>30.057292</td>\n",
              "      <td>133.734375</td>\n",
              "    </tr>\n",
              "    <tr>\n",
              "      <th>West</th>\n",
              "      <td>98.987179</td>\n",
              "      <td>802.282051</td>\n",
              "      <td>84.304487</td>\n",
              "      <td>231.692308</td>\n",
              "    </tr>\n",
              "    <tr>\n",
              "      <th rowspan=\"3\" valign=\"top\">Tea</th>\n",
              "      <th>Central</th>\n",
              "      <td>87.690476</td>\n",
              "      <td>672.529762</td>\n",
              "      <td>66.458333</td>\n",
              "      <td>203.500000</td>\n",
              "    </tr>\n",
              "    <tr>\n",
              "      <th>East</th>\n",
              "      <td>46.962121</td>\n",
              "      <td>762.484848</td>\n",
              "      <td>58.931818</td>\n",
              "      <td>121.882576</td>\n",
              "    </tr>\n",
              "    <tr>\n",
              "      <th>West</th>\n",
              "      <td>100.844444</td>\n",
              "      <td>926.211111</td>\n",
              "      <td>41.938889</td>\n",
              "      <td>200.611111</td>\n",
              "    </tr>\n",
              "  </tbody>\n",
              "</table>\n",
              "</div>"
            ],
            "text/plain": [
              "                                cost   inventory  net_profit       sales\n",
              "product_category region                                                 \n",
              "Coffee           Central   74.390625  680.781250   60.583333  179.895833\n",
              "                 East     110.976190  580.785714  184.476190  337.148810\n",
              "                 South     78.916667  803.687500   60.947917  173.223958\n",
              "                 West      90.814103  931.583333   27.964744  185.410256\n",
              "Espresso         Central   89.666667  882.090278   81.600694  207.295139\n",
              "                 East      95.600000  767.133333   26.016667  201.654167\n",
              "                 South     62.305556  184.645833   52.100694  156.215278\n",
              "                 West      84.133333  828.933333   66.305556  194.188889\n",
              "Herbal tea       Central   87.065476  763.952381   73.681548  202.047619\n",
              "                 East     101.240741  963.212963   29.736111  191.486111\n",
              "                 South     56.270833  593.302083   30.057292  133.734375\n",
              "                 West      98.987179  802.282051   84.304487  231.692308\n",
              "Tea              Central   87.690476  672.529762   66.458333  203.500000\n",
              "                 East      46.962121  762.484848   58.931818  121.882576\n",
              "                 West     100.844444  926.211111   41.938889  200.611111"
            ]
          },
          "execution_count": 54,
          "metadata": {},
          "output_type": "execute_result"
        }
      ],
      "source": [
        "df.pivot_table(index=['product_category', 'region'])"
      ]
    },
    {
      "cell_type": "markdown",
      "metadata": {
        "id": "xSVy2gZfKsxt"
      },
      "source": [
        "<font color='red' size='14'> Quiz </font>\n",
        "1. Read on of the files under 'ece/csv'. Generate a simple analysis using the `pivot_table` Function"
      ]
    },
    {
      "cell_type": "markdown",
      "metadata": {
        "id": "vGlnF4ZpKsxt"
      },
      "source": [
        "### Specifying values and performing aggregation"
      ]
    },
    {
      "cell_type": "markdown",
      "metadata": {
        "id": "lGTi43TMKsxt"
      },
      "source": [
        "By default, pivot_table performs the `mean` aggregation function on all numerical columns and returns the result. To explicitly specify the columns we care about, we use the values argument. To perform an aggregation other than mean , we can pass a valid string function to `aggfunc` , for example, let’s do a `sum`"
      ]
    },
    {
      "cell_type": "code",
      "execution_count": null,
      "metadata": {
        "id": "3vTpaxuAKsxu",
        "outputId": "c451d820-1b61-40b4-a87f-e00f3e9a8d6c"
      },
      "outputs": [
        {
          "data": {
            "text/html": [
              "<div>\n",
              "<style scoped>\n",
              "    .dataframe tbody tr th:only-of-type {\n",
              "        vertical-align: middle;\n",
              "    }\n",
              "\n",
              "    .dataframe tbody tr th {\n",
              "        vertical-align: top;\n",
              "    }\n",
              "\n",
              "    .dataframe thead th {\n",
              "        text-align: right;\n",
              "    }\n",
              "</style>\n",
              "<table border=\"1\" class=\"dataframe\">\n",
              "  <thead>\n",
              "    <tr style=\"text-align: right;\">\n",
              "      <th></th>\n",
              "      <th>sales</th>\n",
              "    </tr>\n",
              "    <tr>\n",
              "      <th>region</th>\n",
              "      <th></th>\n",
              "    </tr>\n",
              "  </thead>\n",
              "  <tbody>\n",
              "    <tr>\n",
              "      <th>Central</th>\n",
              "      <td>197.206101</td>\n",
              "    </tr>\n",
              "    <tr>\n",
              "      <th>East</th>\n",
              "      <td>201.099099</td>\n",
              "    </tr>\n",
              "    <tr>\n",
              "      <th>South</th>\n",
              "      <td>154.651786</td>\n",
              "    </tr>\n",
              "    <tr>\n",
              "      <th>West</th>\n",
              "      <td>202.577381</td>\n",
              "    </tr>\n",
              "  </tbody>\n",
              "</table>\n",
              "</div>"
            ],
            "text/plain": [
              "              sales\n",
              "region             \n",
              "Central  197.206101\n",
              "East     201.099099\n",
              "South    154.651786\n",
              "West     202.577381"
            ]
          },
          "execution_count": 55,
          "metadata": {},
          "output_type": "execute_result"
        }
      ],
      "source": [
        "df.pivot_table(index=['region'], values=['sales'])"
      ]
    },
    {
      "cell_type": "code",
      "execution_count": null,
      "metadata": {
        "id": "fD0Vtx0AKsxu",
        "outputId": "a695270c-71aa-44a9-f722-2ef1e7887dcc"
      },
      "outputs": [
        {
          "data": {
            "text/plain": [
              "<AxesSubplot:ylabel='region'>"
            ]
          },
          "execution_count": 56,
          "metadata": {},
          "output_type": "execute_result"
        },
        {
          "data": {
            "image/png": "[encoded data removed]",
            "text/plain": [
              "<Figure size 432x288 with 1 Axes>"
            ]
          },
          "metadata": {
            "needs_background": "light"
          },
          "output_type": "display_data"
        }
      ],
      "source": [
        "df.pivot_table(index=['region'], values=['sales']).plot.barh()"
      ]
    },
    {
      "cell_type": "code",
      "execution_count": null,
      "metadata": {
        "id": "mB31ezDZKsxu",
        "outputId": "c44e8d60-85da-4edb-e158-511143443a41"
      },
      "outputs": [
        {
          "data": {
            "text/html": [
              "<div>\n",
              "<style scoped>\n",
              "    .dataframe tbody tr th:only-of-type {\n",
              "        vertical-align: middle;\n",
              "    }\n",
              "\n",
              "    .dataframe tbody tr th {\n",
              "        vertical-align: top;\n",
              "    }\n",
              "\n",
              "    .dataframe thead th {\n",
              "        text-align: right;\n",
              "    }\n",
              "</style>\n",
              "<table border=\"1\" class=\"dataframe\">\n",
              "  <thead>\n",
              "    <tr style=\"text-align: right;\">\n",
              "      <th></th>\n",
              "      <th>sales</th>\n",
              "    </tr>\n",
              "    <tr>\n",
              "      <th>region</th>\n",
              "      <th></th>\n",
              "    </tr>\n",
              "  </thead>\n",
              "  <tbody>\n",
              "    <tr>\n",
              "      <th>Central</th>\n",
              "      <td>265045</td>\n",
              "    </tr>\n",
              "    <tr>\n",
              "      <th>East</th>\n",
              "      <td>178576</td>\n",
              "    </tr>\n",
              "    <tr>\n",
              "      <th>South</th>\n",
              "      <td>103926</td>\n",
              "    </tr>\n",
              "    <tr>\n",
              "      <th>West</th>\n",
              "      <td>272264</td>\n",
              "    </tr>\n",
              "  </tbody>\n",
              "</table>\n",
              "</div>"
            ],
            "text/plain": [
              "          sales\n",
              "region         \n",
              "Central  265045\n",
              "East     178576\n",
              "South    103926\n",
              "West     272264"
            ]
          },
          "execution_count": 57,
          "metadata": {},
          "output_type": "execute_result"
        }
      ],
      "source": [
        "df.pivot_table(index=['region'], values=['sales'], aggfunc='sum')"
      ]
    },
    {
      "cell_type": "markdown",
      "metadata": {
        "id": "xEDl55qoKsxv"
      },
      "source": [
        "`aggfunc` can be a dict, and below is the dict equivalent."
      ]
    },
    {
      "cell_type": "code",
      "execution_count": null,
      "metadata": {
        "id": "S2ETmpJtKsxv",
        "outputId": "b7cca8ee-1951-482f-b444-5c8271bb6fa1"
      },
      "outputs": [
        {
          "data": {
            "text/html": [
              "<div>\n",
              "<style scoped>\n",
              "    .dataframe tbody tr th:only-of-type {\n",
              "        vertical-align: middle;\n",
              "    }\n",
              "\n",
              "    .dataframe tbody tr th {\n",
              "        vertical-align: top;\n",
              "    }\n",
              "\n",
              "    .dataframe thead th {\n",
              "        text-align: right;\n",
              "    }\n",
              "</style>\n",
              "<table border=\"1\" class=\"dataframe\">\n",
              "  <thead>\n",
              "    <tr style=\"text-align: right;\">\n",
              "      <th></th>\n",
              "      <th>sales</th>\n",
              "    </tr>\n",
              "    <tr>\n",
              "      <th>region</th>\n",
              "      <th></th>\n",
              "    </tr>\n",
              "  </thead>\n",
              "  <tbody>\n",
              "    <tr>\n",
              "      <th>Central</th>\n",
              "      <td>265045</td>\n",
              "    </tr>\n",
              "    <tr>\n",
              "      <th>East</th>\n",
              "      <td>178576</td>\n",
              "    </tr>\n",
              "    <tr>\n",
              "      <th>South</th>\n",
              "      <td>103926</td>\n",
              "    </tr>\n",
              "    <tr>\n",
              "      <th>West</th>\n",
              "      <td>272264</td>\n",
              "    </tr>\n",
              "  </tbody>\n",
              "</table>\n",
              "</div>"
            ],
            "text/plain": [
              "          sales\n",
              "region         \n",
              "Central  265045\n",
              "East     178576\n",
              "South    103926\n",
              "West     272264"
            ]
          },
          "execution_count": 58,
          "metadata": {},
          "output_type": "execute_result"
        }
      ],
      "source": [
        "df.pivot_table(\n",
        "    index=['region'], \n",
        "    values=['sales'], \n",
        "    aggfunc={ 'sales': 'sum' }\n",
        ")"
      ]
    },
    {
      "cell_type": "markdown",
      "metadata": {
        "id": "l1xEp-wHKsxv"
      },
      "source": [
        "`aggfunc` can be a list of functions, and below is an example to display the `sum` and `count`"
      ]
    },
    {
      "cell_type": "code",
      "execution_count": null,
      "metadata": {
        "id": "JZMSpWvIKsxv",
        "outputId": "78ca2853-b8a0-4364-ae43-0f35634235f4"
      },
      "outputs": [
        {
          "data": {
            "text/html": [
              "<div>\n",
              "<style scoped>\n",
              "    .dataframe tbody tr th:only-of-type {\n",
              "        vertical-align: middle;\n",
              "    }\n",
              "\n",
              "    .dataframe tbody tr th {\n",
              "        vertical-align: top;\n",
              "    }\n",
              "\n",
              "    .dataframe thead tr th {\n",
              "        text-align: left;\n",
              "    }\n",
              "\n",
              "    .dataframe thead tr:last-of-type th {\n",
              "        text-align: right;\n",
              "    }\n",
              "</style>\n",
              "<table border=\"1\" class=\"dataframe\">\n",
              "  <thead>\n",
              "    <tr>\n",
              "      <th></th>\n",
              "      <th>sum</th>\n",
              "      <th>count</th>\n",
              "    </tr>\n",
              "    <tr>\n",
              "      <th></th>\n",
              "      <th>sales</th>\n",
              "      <th>sales</th>\n",
              "    </tr>\n",
              "    <tr>\n",
              "      <th>region</th>\n",
              "      <th></th>\n",
              "      <th></th>\n",
              "    </tr>\n",
              "  </thead>\n",
              "  <tbody>\n",
              "    <tr>\n",
              "      <th>Central</th>\n",
              "      <td>265045</td>\n",
              "      <td>1344</td>\n",
              "    </tr>\n",
              "    <tr>\n",
              "      <th>East</th>\n",
              "      <td>178576</td>\n",
              "      <td>888</td>\n",
              "    </tr>\n",
              "    <tr>\n",
              "      <th>South</th>\n",
              "      <td>103926</td>\n",
              "      <td>672</td>\n",
              "    </tr>\n",
              "    <tr>\n",
              "      <th>West</th>\n",
              "      <td>272264</td>\n",
              "      <td>1344</td>\n",
              "    </tr>\n",
              "  </tbody>\n",
              "</table>\n",
              "</div>"
            ],
            "text/plain": [
              "            sum count\n",
              "          sales sales\n",
              "region               \n",
              "Central  265045  1344\n",
              "East     178576   888\n",
              "South    103926   672\n",
              "West     272264  1344"
            ]
          },
          "execution_count": 59,
          "metadata": {},
          "output_type": "execute_result"
        }
      ],
      "source": [
        "df.pivot_table(\n",
        "    index=['region'], \n",
        "    values=['sales'], \n",
        "    aggfunc=['sum', 'count']\n",
        ")"
      ]
    },
    {
      "cell_type": "markdown",
      "metadata": {
        "id": "fQjzSNJ9Ksxw"
      },
      "source": [
        "### Seeing break down using columns"
      ]
    },
    {
      "cell_type": "markdown",
      "metadata": {
        "id": "9iOUp2PuKsxw"
      },
      "source": [
        "If we would like to see sales broken down by `product_category`, the columns argument allows us to do that."
      ]
    },
    {
      "cell_type": "code",
      "execution_count": null,
      "metadata": {
        "id": "UANBGKKpKsy_",
        "outputId": "e64998bf-4b9b-48ce-f0b8-d6262e8d20b3"
      },
      "outputs": [
        {
          "data": {
            "text/html": [
              "<div>\n",
              "<style scoped>\n",
              "    .dataframe tbody tr th:only-of-type {\n",
              "        vertical-align: middle;\n",
              "    }\n",
              "\n",
              "    .dataframe tbody tr th {\n",
              "        vertical-align: top;\n",
              "    }\n",
              "\n",
              "    .dataframe thead tr th {\n",
              "        text-align: left;\n",
              "    }\n",
              "\n",
              "    .dataframe thead tr:last-of-type th {\n",
              "        text-align: right;\n",
              "    }\n",
              "</style>\n",
              "<table border=\"1\" class=\"dataframe\">\n",
              "  <thead>\n",
              "    <tr>\n",
              "      <th></th>\n",
              "      <th colspan=\"4\" halign=\"left\">sales</th>\n",
              "    </tr>\n",
              "    <tr>\n",
              "      <th>product_category</th>\n",
              "      <th>Coffee</th>\n",
              "      <th>Espresso</th>\n",
              "      <th>Herbal tea</th>\n",
              "      <th>Tea</th>\n",
              "    </tr>\n",
              "    <tr>\n",
              "      <th>region</th>\n",
              "      <th></th>\n",
              "      <th></th>\n",
              "      <th></th>\n",
              "      <th></th>\n",
              "    </tr>\n",
              "  </thead>\n",
              "  <tbody>\n",
              "    <tr>\n",
              "      <th>Central</th>\n",
              "      <td>69080.0</td>\n",
              "      <td>59701.0</td>\n",
              "      <td>67888.0</td>\n",
              "      <td>68376.0</td>\n",
              "    </tr>\n",
              "    <tr>\n",
              "      <th>East</th>\n",
              "      <td>56641.0</td>\n",
              "      <td>48397.0</td>\n",
              "      <td>41361.0</td>\n",
              "      <td>32177.0</td>\n",
              "    </tr>\n",
              "    <tr>\n",
              "      <th>South</th>\n",
              "      <td>33259.0</td>\n",
              "      <td>44990.0</td>\n",
              "      <td>25677.0</td>\n",
              "      <td>NaN</td>\n",
              "    </tr>\n",
              "    <tr>\n",
              "      <th>West</th>\n",
              "      <td>57848.0</td>\n",
              "      <td>69908.0</td>\n",
              "      <td>72288.0</td>\n",
              "      <td>72220.0</td>\n",
              "    </tr>\n",
              "  </tbody>\n",
              "</table>\n",
              "</div>"
            ],
            "text/plain": [
              "                    sales                             \n",
              "product_category   Coffee Espresso Herbal tea      Tea\n",
              "region                                                \n",
              "Central           69080.0  59701.0    67888.0  68376.0\n",
              "East              56641.0  48397.0    41361.0  32177.0\n",
              "South             33259.0  44990.0    25677.0      NaN\n",
              "West              57848.0  69908.0    72288.0  72220.0"
            ]
          },
          "execution_count": 60,
          "metadata": {},
          "output_type": "execute_result"
        }
      ],
      "source": [
        "df.pivot_table(\n",
        "    index=['region'], \n",
        "    values=['sales'], \n",
        "    aggfunc='sum', \n",
        "    columns=['product_category']\n",
        ")"
      ]
    },
    {
      "cell_type": "markdown",
      "metadata": {
        "id": "wFKjiLfHKszA"
      },
      "source": [
        "### Replacing missing values"
      ]
    },
    {
      "cell_type": "markdown",
      "metadata": {
        "id": "VIh_E44_KszB"
      },
      "source": [
        "As you can see from the table above, a NaN value from the previous output is indicated. We have got that because there aren't any `Tea sales` in the `South`. If we want to replace it, we could use `fill_value` argument, for example, to set `NaN` to 0."
      ]
    },
    {
      "cell_type": "code",
      "execution_count": null,
      "metadata": {
        "id": "gf8h1FE5KszB",
        "outputId": "be749e9f-c899-4b02-9c7e-e28482d444ef"
      },
      "outputs": [
        {
          "data": {
            "text/html": [
              "<div>\n",
              "<style scoped>\n",
              "    .dataframe tbody tr th:only-of-type {\n",
              "        vertical-align: middle;\n",
              "    }\n",
              "\n",
              "    .dataframe tbody tr th {\n",
              "        vertical-align: top;\n",
              "    }\n",
              "\n",
              "    .dataframe thead tr th {\n",
              "        text-align: left;\n",
              "    }\n",
              "\n",
              "    .dataframe thead tr:last-of-type th {\n",
              "        text-align: right;\n",
              "    }\n",
              "</style>\n",
              "<table border=\"1\" class=\"dataframe\">\n",
              "  <thead>\n",
              "    <tr>\n",
              "      <th></th>\n",
              "      <th colspan=\"4\" halign=\"left\">sales</th>\n",
              "    </tr>\n",
              "    <tr>\n",
              "      <th>product_category</th>\n",
              "      <th>Coffee</th>\n",
              "      <th>Espresso</th>\n",
              "      <th>Herbal tea</th>\n",
              "      <th>Tea</th>\n",
              "    </tr>\n",
              "    <tr>\n",
              "      <th>region</th>\n",
              "      <th></th>\n",
              "      <th></th>\n",
              "      <th></th>\n",
              "      <th></th>\n",
              "    </tr>\n",
              "  </thead>\n",
              "  <tbody>\n",
              "    <tr>\n",
              "      <th>Central</th>\n",
              "      <td>69080</td>\n",
              "      <td>59701</td>\n",
              "      <td>67888</td>\n",
              "      <td>68376</td>\n",
              "    </tr>\n",
              "    <tr>\n",
              "      <th>East</th>\n",
              "      <td>56641</td>\n",
              "      <td>48397</td>\n",
              "      <td>41361</td>\n",
              "      <td>32177</td>\n",
              "    </tr>\n",
              "    <tr>\n",
              "      <th>South</th>\n",
              "      <td>33259</td>\n",
              "      <td>44990</td>\n",
              "      <td>25677</td>\n",
              "      <td>0</td>\n",
              "    </tr>\n",
              "    <tr>\n",
              "      <th>West</th>\n",
              "      <td>57848</td>\n",
              "      <td>69908</td>\n",
              "      <td>72288</td>\n",
              "      <td>72220</td>\n",
              "    </tr>\n",
              "  </tbody>\n",
              "</table>\n",
              "</div>"
            ],
            "text/plain": [
              "                  sales                           \n",
              "product_category Coffee Espresso Herbal tea    Tea\n",
              "region                                            \n",
              "Central           69080    59701      67888  68376\n",
              "East              56641    48397      41361  32177\n",
              "South             33259    44990      25677      0\n",
              "West              57848    69908      72288  72220"
            ]
          },
          "execution_count": 61,
          "metadata": {},
          "output_type": "execute_result"
        }
      ],
      "source": [
        "df.pivot_table(\n",
        "    index=['region'], \n",
        "    values=['sales'], \n",
        "    aggfunc='sum', \n",
        "    columns=['product_category'],\n",
        "    fill_value=0\n",
        ")"
      ]
    },
    {
      "cell_type": "markdown",
      "metadata": {
        "id": "SPItIWnwKszB"
      },
      "source": [
        "<font color='red' size='14'> Quiz </font>\n",
        "1. Using the `fill_value` argument, we have replaced the `NaN` value with 0 in the `coffee sale` data frame above. Can you replace it with the `mean` value. Recall that you can use the `mean()` method on the column to get the average value."
      ]
    },
    {
      "cell_type": "markdown",
      "metadata": {
        "id": "mawcN_NEKszB"
      },
      "source": [
        "### Displaying multiple values and adjusting view"
      ]
    },
    {
      "cell_type": "markdown",
      "metadata": {
        "id": "vlQhcWvyKszC"
      },
      "source": [
        "If we would like to see the sum of cost as well, we can add the `cost` column to the values list."
      ]
    },
    {
      "cell_type": "code",
      "execution_count": null,
      "metadata": {
        "id": "5uUHlKHxKszC",
        "outputId": "5be8ea93-1576-40f4-af32-170095242d2c"
      },
      "outputs": [
        {
          "data": {
            "text/html": [
              "<div>\n",
              "<style scoped>\n",
              "    .dataframe tbody tr th:only-of-type {\n",
              "        vertical-align: middle;\n",
              "    }\n",
              "\n",
              "    .dataframe tbody tr th {\n",
              "        vertical-align: top;\n",
              "    }\n",
              "\n",
              "    .dataframe thead tr th {\n",
              "        text-align: left;\n",
              "    }\n",
              "\n",
              "    .dataframe thead tr:last-of-type th {\n",
              "        text-align: right;\n",
              "    }\n",
              "</style>\n",
              "<table border=\"1\" class=\"dataframe\">\n",
              "  <thead>\n",
              "    <tr>\n",
              "      <th></th>\n",
              "      <th colspan=\"4\" halign=\"left\">cost</th>\n",
              "      <th colspan=\"4\" halign=\"left\">sales</th>\n",
              "    </tr>\n",
              "    <tr>\n",
              "      <th>product_category</th>\n",
              "      <th>Coffee</th>\n",
              "      <th>Espresso</th>\n",
              "      <th>Herbal tea</th>\n",
              "      <th>Tea</th>\n",
              "      <th>Coffee</th>\n",
              "      <th>Espresso</th>\n",
              "      <th>Herbal tea</th>\n",
              "      <th>Tea</th>\n",
              "    </tr>\n",
              "    <tr>\n",
              "      <th>region</th>\n",
              "      <th></th>\n",
              "      <th></th>\n",
              "      <th></th>\n",
              "      <th></th>\n",
              "      <th></th>\n",
              "      <th></th>\n",
              "      <th></th>\n",
              "      <th></th>\n",
              "    </tr>\n",
              "  </thead>\n",
              "  <tbody>\n",
              "    <tr>\n",
              "      <th>Central</th>\n",
              "      <td>28566</td>\n",
              "      <td>25824</td>\n",
              "      <td>29254</td>\n",
              "      <td>29464</td>\n",
              "      <td>69080</td>\n",
              "      <td>59701</td>\n",
              "      <td>67888</td>\n",
              "      <td>68376</td>\n",
              "    </tr>\n",
              "    <tr>\n",
              "      <th>East</th>\n",
              "      <td>18644</td>\n",
              "      <td>22944</td>\n",
              "      <td>21868</td>\n",
              "      <td>12398</td>\n",
              "      <td>56641</td>\n",
              "      <td>48397</td>\n",
              "      <td>41361</td>\n",
              "      <td>32177</td>\n",
              "    </tr>\n",
              "    <tr>\n",
              "      <th>South</th>\n",
              "      <td>15152</td>\n",
              "      <td>17944</td>\n",
              "      <td>10804</td>\n",
              "      <td>0</td>\n",
              "      <td>33259</td>\n",
              "      <td>44990</td>\n",
              "      <td>25677</td>\n",
              "      <td>0</td>\n",
              "    </tr>\n",
              "    <tr>\n",
              "      <th>West</th>\n",
              "      <td>28334</td>\n",
              "      <td>30288</td>\n",
              "      <td>30884</td>\n",
              "      <td>36304</td>\n",
              "      <td>57848</td>\n",
              "      <td>69908</td>\n",
              "      <td>72288</td>\n",
              "      <td>72220</td>\n",
              "    </tr>\n",
              "  </tbody>\n",
              "</table>\n",
              "</div>"
            ],
            "text/plain": [
              "                   cost                             sales                      \\\n",
              "product_category Coffee Espresso Herbal tea    Tea Coffee Espresso Herbal tea   \n",
              "region                                                                          \n",
              "Central           28566    25824      29254  29464  69080    59701      67888   \n",
              "East              18644    22944      21868  12398  56641    48397      41361   \n",
              "South             15152    17944      10804      0  33259    44990      25677   \n",
              "West              28334    30288      30884  36304  57848    69908      72288   \n",
              "\n",
              "                         \n",
              "product_category    Tea  \n",
              "region                   \n",
              "Central           68376  \n",
              "East              32177  \n",
              "South                 0  \n",
              "West              72220  "
            ]
          },
          "execution_count": 62,
          "metadata": {},
          "output_type": "execute_result"
        }
      ],
      "source": [
        "df.pivot_table(\n",
        "    index=['region'], \n",
        "    values=['sales', 'cost'], \n",
        "    aggfunc='sum', \n",
        "    columns=['product_category'], \n",
        "    fill_value=0\n",
        ")"
      ]
    },
    {
      "cell_type": "markdown",
      "metadata": {
        "id": "XKiImkC9KszC"
      },
      "source": [
        "This does work, but the visual representation does not seem to be useful when we would like to compare the cost and sales side by side. To get a better visual representation, we can move `product_category` from the columns and add to the `index`."
      ]
    },
    {
      "cell_type": "code",
      "execution_count": null,
      "metadata": {
        "id": "Et3ewdRYKszC",
        "outputId": "41665c46-200a-4cac-a2cd-85d0061071f4"
      },
      "outputs": [
        {
          "data": {
            "text/html": [
              "<div>\n",
              "<style scoped>\n",
              "    .dataframe tbody tr th:only-of-type {\n",
              "        vertical-align: middle;\n",
              "    }\n",
              "\n",
              "    .dataframe tbody tr th {\n",
              "        vertical-align: top;\n",
              "    }\n",
              "\n",
              "    .dataframe thead th {\n",
              "        text-align: right;\n",
              "    }\n",
              "</style>\n",
              "<table border=\"1\" class=\"dataframe\">\n",
              "  <thead>\n",
              "    <tr style=\"text-align: right;\">\n",
              "      <th></th>\n",
              "      <th></th>\n",
              "      <th>cost</th>\n",
              "      <th>sales</th>\n",
              "    </tr>\n",
              "    <tr>\n",
              "      <th>region</th>\n",
              "      <th>product_category</th>\n",
              "      <th></th>\n",
              "      <th></th>\n",
              "    </tr>\n",
              "  </thead>\n",
              "  <tbody>\n",
              "    <tr>\n",
              "      <th rowspan=\"4\" valign=\"top\">Central</th>\n",
              "      <th>Coffee</th>\n",
              "      <td>28566</td>\n",
              "      <td>69080</td>\n",
              "    </tr>\n",
              "    <tr>\n",
              "      <th>Espresso</th>\n",
              "      <td>25824</td>\n",
              "      <td>59701</td>\n",
              "    </tr>\n",
              "    <tr>\n",
              "      <th>Herbal tea</th>\n",
              "      <td>29254</td>\n",
              "      <td>67888</td>\n",
              "    </tr>\n",
              "    <tr>\n",
              "      <th>Tea</th>\n",
              "      <td>29464</td>\n",
              "      <td>68376</td>\n",
              "    </tr>\n",
              "    <tr>\n",
              "      <th rowspan=\"4\" valign=\"top\">East</th>\n",
              "      <th>Coffee</th>\n",
              "      <td>18644</td>\n",
              "      <td>56641</td>\n",
              "    </tr>\n",
              "    <tr>\n",
              "      <th>Espresso</th>\n",
              "      <td>22944</td>\n",
              "      <td>48397</td>\n",
              "    </tr>\n",
              "    <tr>\n",
              "      <th>Herbal tea</th>\n",
              "      <td>21868</td>\n",
              "      <td>41361</td>\n",
              "    </tr>\n",
              "    <tr>\n",
              "      <th>Tea</th>\n",
              "      <td>12398</td>\n",
              "      <td>32177</td>\n",
              "    </tr>\n",
              "    <tr>\n",
              "      <th rowspan=\"3\" valign=\"top\">South</th>\n",
              "      <th>Coffee</th>\n",
              "      <td>15152</td>\n",
              "      <td>33259</td>\n",
              "    </tr>\n",
              "    <tr>\n",
              "      <th>Espresso</th>\n",
              "      <td>17944</td>\n",
              "      <td>44990</td>\n",
              "    </tr>\n",
              "    <tr>\n",
              "      <th>Herbal tea</th>\n",
              "      <td>10804</td>\n",
              "      <td>25677</td>\n",
              "    </tr>\n",
              "    <tr>\n",
              "      <th rowspan=\"4\" valign=\"top\">West</th>\n",
              "      <th>Coffee</th>\n",
              "      <td>28334</td>\n",
              "      <td>57848</td>\n",
              "    </tr>\n",
              "    <tr>\n",
              "      <th>Espresso</th>\n",
              "      <td>30288</td>\n",
              "      <td>69908</td>\n",
              "    </tr>\n",
              "    <tr>\n",
              "      <th>Herbal tea</th>\n",
              "      <td>30884</td>\n",
              "      <td>72288</td>\n",
              "    </tr>\n",
              "    <tr>\n",
              "      <th>Tea</th>\n",
              "      <td>36304</td>\n",
              "      <td>72220</td>\n",
              "    </tr>\n",
              "  </tbody>\n",
              "</table>\n",
              "</div>"
            ],
            "text/plain": [
              "                           cost  sales\n",
              "region  product_category              \n",
              "Central Coffee            28566  69080\n",
              "        Espresso          25824  59701\n",
              "        Herbal tea        29254  67888\n",
              "        Tea               29464  68376\n",
              "East    Coffee            18644  56641\n",
              "        Espresso          22944  48397\n",
              "        Herbal tea        21868  41361\n",
              "        Tea               12398  32177\n",
              "South   Coffee            15152  33259\n",
              "        Espresso          17944  44990\n",
              "        Herbal tea        10804  25677\n",
              "West    Coffee            28334  57848\n",
              "        Espresso          30288  69908\n",
              "        Herbal tea        30884  72288\n",
              "        Tea               36304  72220"
            ]
          },
          "execution_count": 63,
          "metadata": {},
          "output_type": "execute_result"
        }
      ],
      "source": [
        "df.pivot_table(\n",
        "    index=['region', 'product_category'], \n",
        "    values=['sales', 'cost'], \n",
        "    aggfunc='sum', \n",
        "    fill_value=0\n",
        ")"
      ]
    },
    {
      "cell_type": "markdown",
      "metadata": {
        "id": "KJgQYxaPKszD"
      },
      "source": [
        "### Showing total"
      ]
    },
    {
      "cell_type": "markdown",
      "metadata": {
        "id": "IyTthLogKszD"
      },
      "source": [
        "Another common display in pivot table is to show the `total`. In Pandas `pivot_table()` , we can simply pass `margins=True`"
      ]
    },
    {
      "cell_type": "code",
      "execution_count": null,
      "metadata": {
        "id": "5cwqJEM2KszD",
        "outputId": "f008799b-97e5-471b-c4ce-e7ad673f0fab"
      },
      "outputs": [
        {
          "data": {
            "text/html": [
              "<div>\n",
              "<style scoped>\n",
              "    .dataframe tbody tr th:only-of-type {\n",
              "        vertical-align: middle;\n",
              "    }\n",
              "\n",
              "    .dataframe tbody tr th {\n",
              "        vertical-align: top;\n",
              "    }\n",
              "\n",
              "    .dataframe thead th {\n",
              "        text-align: right;\n",
              "    }\n",
              "</style>\n",
              "<table border=\"1\" class=\"dataframe\">\n",
              "  <thead>\n",
              "    <tr style=\"text-align: right;\">\n",
              "      <th></th>\n",
              "      <th></th>\n",
              "      <th>cost</th>\n",
              "      <th>sales</th>\n",
              "    </tr>\n",
              "    <tr>\n",
              "      <th>region</th>\n",
              "      <th>product_category</th>\n",
              "      <th></th>\n",
              "      <th></th>\n",
              "    </tr>\n",
              "  </thead>\n",
              "  <tbody>\n",
              "    <tr>\n",
              "      <th rowspan=\"4\" valign=\"top\">Central</th>\n",
              "      <th>Coffee</th>\n",
              "      <td>28566</td>\n",
              "      <td>69080</td>\n",
              "    </tr>\n",
              "    <tr>\n",
              "      <th>Espresso</th>\n",
              "      <td>25824</td>\n",
              "      <td>59701</td>\n",
              "    </tr>\n",
              "    <tr>\n",
              "      <th>Herbal tea</th>\n",
              "      <td>29254</td>\n",
              "      <td>67888</td>\n",
              "    </tr>\n",
              "    <tr>\n",
              "      <th>Tea</th>\n",
              "      <td>29464</td>\n",
              "      <td>68376</td>\n",
              "    </tr>\n",
              "    <tr>\n",
              "      <th rowspan=\"4\" valign=\"top\">East</th>\n",
              "      <th>Coffee</th>\n",
              "      <td>18644</td>\n",
              "      <td>56641</td>\n",
              "    </tr>\n",
              "    <tr>\n",
              "      <th>Espresso</th>\n",
              "      <td>22944</td>\n",
              "      <td>48397</td>\n",
              "    </tr>\n",
              "    <tr>\n",
              "      <th>Herbal tea</th>\n",
              "      <td>21868</td>\n",
              "      <td>41361</td>\n",
              "    </tr>\n",
              "    <tr>\n",
              "      <th>Tea</th>\n",
              "      <td>12398</td>\n",
              "      <td>32177</td>\n",
              "    </tr>\n",
              "    <tr>\n",
              "      <th rowspan=\"3\" valign=\"top\">South</th>\n",
              "      <th>Coffee</th>\n",
              "      <td>15152</td>\n",
              "      <td>33259</td>\n",
              "    </tr>\n",
              "    <tr>\n",
              "      <th>Espresso</th>\n",
              "      <td>17944</td>\n",
              "      <td>44990</td>\n",
              "    </tr>\n",
              "    <tr>\n",
              "      <th>Herbal tea</th>\n",
              "      <td>10804</td>\n",
              "      <td>25677</td>\n",
              "    </tr>\n",
              "    <tr>\n",
              "      <th rowspan=\"4\" valign=\"top\">West</th>\n",
              "      <th>Coffee</th>\n",
              "      <td>28334</td>\n",
              "      <td>57848</td>\n",
              "    </tr>\n",
              "    <tr>\n",
              "      <th>Espresso</th>\n",
              "      <td>30288</td>\n",
              "      <td>69908</td>\n",
              "    </tr>\n",
              "    <tr>\n",
              "      <th>Herbal tea</th>\n",
              "      <td>30884</td>\n",
              "      <td>72288</td>\n",
              "    </tr>\n",
              "    <tr>\n",
              "      <th>Tea</th>\n",
              "      <td>36304</td>\n",
              "      <td>72220</td>\n",
              "    </tr>\n",
              "    <tr>\n",
              "      <th>All</th>\n",
              "      <th></th>\n",
              "      <td>358672</td>\n",
              "      <td>819811</td>\n",
              "    </tr>\n",
              "  </tbody>\n",
              "</table>\n",
              "</div>"
            ],
            "text/plain": [
              "                            cost   sales\n",
              "region  product_category                \n",
              "Central Coffee             28566   69080\n",
              "        Espresso           25824   59701\n",
              "        Herbal tea         29254   67888\n",
              "        Tea                29464   68376\n",
              "East    Coffee             18644   56641\n",
              "        Espresso           22944   48397\n",
              "        Herbal tea         21868   41361\n",
              "        Tea                12398   32177\n",
              "South   Coffee             15152   33259\n",
              "        Espresso           17944   44990\n",
              "        Herbal tea         10804   25677\n",
              "West    Coffee             28334   57848\n",
              "        Espresso           30288   69908\n",
              "        Herbal tea         30884   72288\n",
              "        Tea                36304   72220\n",
              "All                       358672  819811"
            ]
          },
          "execution_count": 64,
          "metadata": {},
          "output_type": "execute_result"
        }
      ],
      "source": [
        "df.pivot_table(\n",
        "    index=['region', 'product_category'], \n",
        "    values=['sales', 'cost'], \n",
        "    aggfunc='sum', \n",
        "    fill_value=0, \n",
        "    margins=True\n",
        ")"
      ]
    },
    {
      "cell_type": "markdown",
      "metadata": {
        "id": "VQdqnkXhKszE"
      },
      "source": [
        "### Generating a monthly report"
      ]
    },
    {
      "cell_type": "markdown",
      "metadata": {
        "id": "KTEGNkq1KszE"
      },
      "source": [
        "We can generate monthly report, for example for managers, as follows\n",
        "\n",
        "* defines a `groupby` instruction using `Grouper()` with `key='order_date'` and `freq='M'`\n",
        "* defines a condition to filter the data by `year`, for example 2010\n",
        "* Use `Pandas` method chaining to chain the filtering and `pivot_table()`"
      ]
    },
    {
      "cell_type": "code",
      "execution_count": null,
      "metadata": {
        "id": "k4Z__v3IKszE",
        "outputId": "80aba75a-0fe1-4cbd-91d4-daea95f7fe1c"
      },
      "outputs": [
        {
          "name": "stdout",
          "output_type": "stream",
          "text": [
            "TimeGrouper(key='order_date', freq=<MonthEnd>, axis=0, sort=True, closed='right', label='right', how='mean', convention='e', origin='start_day')\n",
            "0        True\n",
            "1        True\n",
            "2        True\n",
            "3        True\n",
            "4        True\n",
            "        ...  \n",
            "4243    False\n",
            "4244    False\n",
            "4245    False\n",
            "4246    False\n",
            "4247    False\n",
            "Name: order_date, Length: 4248, dtype: bool\n"
          ]
        }
      ],
      "source": [
        "month_gp = pd.Grouper(key='order_date',freq='M')\n",
        "print (month_gp)\n",
        "cond = df[\"order_date\"].dt.year == 2010\n",
        "print(cond)"
      ]
    },
    {
      "cell_type": "code",
      "execution_count": null,
      "metadata": {
        "id": "93LEqJFaKszF",
        "outputId": "f4fdb94c-7678-4855-dc71-be9bfa7b8bb4"
      },
      "outputs": [
        {
          "data": {
            "text/html": [
              "<div>\n",
              "<style scoped>\n",
              "    .dataframe tbody tr th:only-of-type {\n",
              "        vertical-align: middle;\n",
              "    }\n",
              "\n",
              "    .dataframe tbody tr th {\n",
              "        vertical-align: top;\n",
              "    }\n",
              "\n",
              "    .dataframe thead tr th {\n",
              "        text-align: left;\n",
              "    }\n",
              "\n",
              "    .dataframe thead tr:last-of-type th {\n",
              "        text-align: right;\n",
              "    }\n",
              "</style>\n",
              "<table border=\"1\" class=\"dataframe\">\n",
              "  <thead>\n",
              "    <tr>\n",
              "      <th></th>\n",
              "      <th></th>\n",
              "      <th colspan=\"12\" halign=\"left\">sum</th>\n",
              "    </tr>\n",
              "    <tr>\n",
              "      <th></th>\n",
              "      <th></th>\n",
              "      <th colspan=\"12\" halign=\"left\">sales</th>\n",
              "    </tr>\n",
              "    <tr>\n",
              "      <th></th>\n",
              "      <th>order_date</th>\n",
              "      <th>2010-01-31</th>\n",
              "      <th>2010-02-28</th>\n",
              "      <th>2010-03-31</th>\n",
              "      <th>2010-04-30</th>\n",
              "      <th>2010-05-31</th>\n",
              "      <th>2010-06-30</th>\n",
              "      <th>2010-07-31</th>\n",
              "      <th>2010-08-31</th>\n",
              "      <th>2010-09-30</th>\n",
              "      <th>2010-10-31</th>\n",
              "      <th>2010-11-30</th>\n",
              "      <th>2010-12-31</th>\n",
              "    </tr>\n",
              "    <tr>\n",
              "      <th>region</th>\n",
              "      <th>product_category</th>\n",
              "      <th></th>\n",
              "      <th></th>\n",
              "      <th></th>\n",
              "      <th></th>\n",
              "      <th></th>\n",
              "      <th></th>\n",
              "      <th></th>\n",
              "      <th></th>\n",
              "      <th></th>\n",
              "      <th></th>\n",
              "      <th></th>\n",
              "      <th></th>\n",
              "    </tr>\n",
              "  </thead>\n",
              "  <tbody>\n",
              "    <tr>\n",
              "      <th rowspan=\"4\" valign=\"top\">Central</th>\n",
              "      <th>Coffee</th>\n",
              "      <td>2663</td>\n",
              "      <td>2708</td>\n",
              "      <td>2703</td>\n",
              "      <td>2815</td>\n",
              "      <td>2878</td>\n",
              "      <td>3008</td>\n",
              "      <td>3148</td>\n",
              "      <td>3012</td>\n",
              "      <td>2734</td>\n",
              "      <td>2694</td>\n",
              "      <td>2632</td>\n",
              "      <td>2813</td>\n",
              "    </tr>\n",
              "    <tr>\n",
              "      <th>Espresso</th>\n",
              "      <td>2370</td>\n",
              "      <td>2432</td>\n",
              "      <td>2467</td>\n",
              "      <td>2446</td>\n",
              "      <td>2497</td>\n",
              "      <td>2497</td>\n",
              "      <td>2556</td>\n",
              "      <td>2554</td>\n",
              "      <td>2394</td>\n",
              "      <td>2391</td>\n",
              "      <td>2282</td>\n",
              "      <td>2320</td>\n",
              "    </tr>\n",
              "    <tr>\n",
              "      <th>Herbal tea</th>\n",
              "      <td>2664</td>\n",
              "      <td>2704</td>\n",
              "      <td>2691</td>\n",
              "      <td>2735</td>\n",
              "      <td>2795</td>\n",
              "      <td>2908</td>\n",
              "      <td>2976</td>\n",
              "      <td>2961</td>\n",
              "      <td>2747</td>\n",
              "      <td>2734</td>\n",
              "      <td>2631</td>\n",
              "      <td>2669</td>\n",
              "    </tr>\n",
              "    <tr>\n",
              "      <th>Tea</th>\n",
              "      <td>2649</td>\n",
              "      <td>2659</td>\n",
              "      <td>2702</td>\n",
              "      <td>2774</td>\n",
              "      <td>2840</td>\n",
              "      <td>2863</td>\n",
              "      <td>2912</td>\n",
              "      <td>2909</td>\n",
              "      <td>2851</td>\n",
              "      <td>2762</td>\n",
              "      <td>2670</td>\n",
              "      <td>2860</td>\n",
              "    </tr>\n",
              "    <tr>\n",
              "      <th rowspan=\"4\" valign=\"top\">East</th>\n",
              "      <th>Coffee</th>\n",
              "      <td>2105</td>\n",
              "      <td>2061</td>\n",
              "      <td>2126</td>\n",
              "      <td>2258</td>\n",
              "      <td>2347</td>\n",
              "      <td>2625</td>\n",
              "      <td>2735</td>\n",
              "      <td>2673</td>\n",
              "      <td>2362</td>\n",
              "      <td>2094</td>\n",
              "      <td>2066</td>\n",
              "      <td>2288</td>\n",
              "    </tr>\n",
              "    <tr>\n",
              "      <th>Espresso</th>\n",
              "      <td>1853</td>\n",
              "      <td>1966</td>\n",
              "      <td>1907</td>\n",
              "      <td>1935</td>\n",
              "      <td>1896</td>\n",
              "      <td>2071</td>\n",
              "      <td>1992</td>\n",
              "      <td>1984</td>\n",
              "      <td>1887</td>\n",
              "      <td>2124</td>\n",
              "      <td>2076</td>\n",
              "      <td>1981</td>\n",
              "    </tr>\n",
              "    <tr>\n",
              "      <th>Herbal tea</th>\n",
              "      <td>1609</td>\n",
              "      <td>1621</td>\n",
              "      <td>1638</td>\n",
              "      <td>1753</td>\n",
              "      <td>1779</td>\n",
              "      <td>1795</td>\n",
              "      <td>1926</td>\n",
              "      <td>1677</td>\n",
              "      <td>1539</td>\n",
              "      <td>1544</td>\n",
              "      <td>1605</td>\n",
              "      <td>1755</td>\n",
              "    </tr>\n",
              "    <tr>\n",
              "      <th>Tea</th>\n",
              "      <td>1213</td>\n",
              "      <td>1272</td>\n",
              "      <td>1250</td>\n",
              "      <td>1267</td>\n",
              "      <td>1319</td>\n",
              "      <td>1404</td>\n",
              "      <td>1395</td>\n",
              "      <td>1469</td>\n",
              "      <td>1337</td>\n",
              "      <td>1339</td>\n",
              "      <td>1231</td>\n",
              "      <td>1249</td>\n",
              "    </tr>\n",
              "    <tr>\n",
              "      <th rowspan=\"3\" valign=\"top\">South</th>\n",
              "      <th>Coffee</th>\n",
              "      <td>1207</td>\n",
              "      <td>1260</td>\n",
              "      <td>1265</td>\n",
              "      <td>1280</td>\n",
              "      <td>1369</td>\n",
              "      <td>1429</td>\n",
              "      <td>1489</td>\n",
              "      <td>1579</td>\n",
              "      <td>1389</td>\n",
              "      <td>1341</td>\n",
              "      <td>1294</td>\n",
              "      <td>1378</td>\n",
              "    </tr>\n",
              "    <tr>\n",
              "      <th>Espresso</th>\n",
              "      <td>1770</td>\n",
              "      <td>1803</td>\n",
              "      <td>1781</td>\n",
              "      <td>1790</td>\n",
              "      <td>1849</td>\n",
              "      <td>1896</td>\n",
              "      <td>1923</td>\n",
              "      <td>1923</td>\n",
              "      <td>1844</td>\n",
              "      <td>1820</td>\n",
              "      <td>1796</td>\n",
              "      <td>1813</td>\n",
              "    </tr>\n",
              "    <tr>\n",
              "      <th>Herbal tea</th>\n",
              "      <td>999</td>\n",
              "      <td>1019</td>\n",
              "      <td>1009</td>\n",
              "      <td>995</td>\n",
              "      <td>978</td>\n",
              "      <td>1016</td>\n",
              "      <td>1036</td>\n",
              "      <td>1139</td>\n",
              "      <td>1033</td>\n",
              "      <td>1119</td>\n",
              "      <td>1115</td>\n",
              "      <td>1100</td>\n",
              "    </tr>\n",
              "    <tr>\n",
              "      <th rowspan=\"4\" valign=\"top\">West</th>\n",
              "      <th>Coffee</th>\n",
              "      <td>2339</td>\n",
              "      <td>2298</td>\n",
              "      <td>2313</td>\n",
              "      <td>2332</td>\n",
              "      <td>2351</td>\n",
              "      <td>2495</td>\n",
              "      <td>2541</td>\n",
              "      <td>2523</td>\n",
              "      <td>2359</td>\n",
              "      <td>2234</td>\n",
              "      <td>2228</td>\n",
              "      <td>2293</td>\n",
              "    </tr>\n",
              "    <tr>\n",
              "      <th>Espresso</th>\n",
              "      <td>2723</td>\n",
              "      <td>2759</td>\n",
              "      <td>2796</td>\n",
              "      <td>2798</td>\n",
              "      <td>2829</td>\n",
              "      <td>2897</td>\n",
              "      <td>2992</td>\n",
              "      <td>3077</td>\n",
              "      <td>2816</td>\n",
              "      <td>2857</td>\n",
              "      <td>2788</td>\n",
              "      <td>2868</td>\n",
              "    </tr>\n",
              "    <tr>\n",
              "      <th>Herbal tea</th>\n",
              "      <td>2602</td>\n",
              "      <td>2702</td>\n",
              "      <td>2739</td>\n",
              "      <td>2884</td>\n",
              "      <td>2965</td>\n",
              "      <td>3133</td>\n",
              "      <td>3380</td>\n",
              "      <td>3386</td>\n",
              "      <td>2850</td>\n",
              "      <td>2879</td>\n",
              "      <td>2806</td>\n",
              "      <td>3065</td>\n",
              "    </tr>\n",
              "    <tr>\n",
              "      <th>Tea</th>\n",
              "      <td>2789</td>\n",
              "      <td>2828</td>\n",
              "      <td>2858</td>\n",
              "      <td>2881</td>\n",
              "      <td>3000</td>\n",
              "      <td>3088</td>\n",
              "      <td>3160</td>\n",
              "      <td>3163</td>\n",
              "      <td>2950</td>\n",
              "      <td>2917</td>\n",
              "      <td>2783</td>\n",
              "      <td>2921</td>\n",
              "    </tr>\n",
              "  </tbody>\n",
              "</table>\n",
              "</div>"
            ],
            "text/plain": [
              "                                sum                                   \\\n",
              "                              sales                                    \n",
              "order_date               2010-01-31 2010-02-28 2010-03-31 2010-04-30   \n",
              "region  product_category                                               \n",
              "Central Coffee                 2663       2708       2703       2815   \n",
              "        Espresso               2370       2432       2467       2446   \n",
              "        Herbal tea             2664       2704       2691       2735   \n",
              "        Tea                    2649       2659       2702       2774   \n",
              "East    Coffee                 2105       2061       2126       2258   \n",
              "        Espresso               1853       1966       1907       1935   \n",
              "        Herbal tea             1609       1621       1638       1753   \n",
              "        Tea                    1213       1272       1250       1267   \n",
              "South   Coffee                 1207       1260       1265       1280   \n",
              "        Espresso               1770       1803       1781       1790   \n",
              "        Herbal tea              999       1019       1009        995   \n",
              "West    Coffee                 2339       2298       2313       2332   \n",
              "        Espresso               2723       2759       2796       2798   \n",
              "        Herbal tea             2602       2702       2739       2884   \n",
              "        Tea                    2789       2828       2858       2881   \n",
              "\n",
              "                                                                      \\\n",
              "                                                                       \n",
              "order_date               2010-05-31 2010-06-30 2010-07-31 2010-08-31   \n",
              "region  product_category                                               \n",
              "Central Coffee                 2878       3008       3148       3012   \n",
              "        Espresso               2497       2497       2556       2554   \n",
              "        Herbal tea             2795       2908       2976       2961   \n",
              "        Tea                    2840       2863       2912       2909   \n",
              "East    Coffee                 2347       2625       2735       2673   \n",
              "        Espresso               1896       2071       1992       1984   \n",
              "        Herbal tea             1779       1795       1926       1677   \n",
              "        Tea                    1319       1404       1395       1469   \n",
              "South   Coffee                 1369       1429       1489       1579   \n",
              "        Espresso               1849       1896       1923       1923   \n",
              "        Herbal tea              978       1016       1036       1139   \n",
              "West    Coffee                 2351       2495       2541       2523   \n",
              "        Espresso               2829       2897       2992       3077   \n",
              "        Herbal tea             2965       3133       3380       3386   \n",
              "        Tea                    3000       3088       3160       3163   \n",
              "\n",
              "                                                                      \n",
              "                                                                      \n",
              "order_date               2010-09-30 2010-10-31 2010-11-30 2010-12-31  \n",
              "region  product_category                                              \n",
              "Central Coffee                 2734       2694       2632       2813  \n",
              "        Espresso               2394       2391       2282       2320  \n",
              "        Herbal tea             2747       2734       2631       2669  \n",
              "        Tea                    2851       2762       2670       2860  \n",
              "East    Coffee                 2362       2094       2066       2288  \n",
              "        Espresso               1887       2124       2076       1981  \n",
              "        Herbal tea             1539       1544       1605       1755  \n",
              "        Tea                    1337       1339       1231       1249  \n",
              "South   Coffee                 1389       1341       1294       1378  \n",
              "        Espresso               1844       1820       1796       1813  \n",
              "        Herbal tea             1033       1119       1115       1100  \n",
              "West    Coffee                 2359       2234       2228       2293  \n",
              "        Espresso               2816       2857       2788       2868  \n",
              "        Herbal tea             2850       2879       2806       3065  \n",
              "        Tea                    2950       2917       2783       2921  "
            ]
          },
          "execution_count": 66,
          "metadata": {},
          "output_type": "execute_result"
        }
      ],
      "source": [
        "df[cond].pivot_table(index=['region','product_category'],\n",
        "        columns=[month_gp],\n",
        "        values=['sales'],\n",
        "        aggfunc=['sum'])"
      ]
    },
    {
      "cell_type": "markdown",
      "metadata": {
        "id": "GKO9lA22KszF"
      },
      "source": [
        "### Pandas crosstab(), the basics"
      ]
    },
    {
      "cell_type": "markdown",
      "metadata": {
        "id": "Gh9bQ9wqKszF"
      },
      "source": [
        "`crosstab()`  can be used to `group` two or more variables and perform `calculations` for a given value for each group."
      ]
    },
    {
      "cell_type": "code",
      "execution_count": null,
      "metadata": {
        "id": "2RD59gcWKszG",
        "outputId": "a15d49c5-bd94-4a1a-91b3-447b7610c3db"
      },
      "outputs": [
        {
          "data": {
            "text/html": [
              "<div>\n",
              "<style scoped>\n",
              "    .dataframe tbody tr th:only-of-type {\n",
              "        vertical-align: middle;\n",
              "    }\n",
              "\n",
              "    .dataframe tbody tr th {\n",
              "        vertical-align: top;\n",
              "    }\n",
              "\n",
              "    .dataframe thead th {\n",
              "        text-align: right;\n",
              "    }\n",
              "</style>\n",
              "<table border=\"1\" class=\"dataframe\">\n",
              "  <thead>\n",
              "    <tr style=\"text-align: right;\">\n",
              "      <th></th>\n",
              "      <th>Symbol</th>\n",
              "      <th>ProductionYear</th>\n",
              "      <th>PrvsClose</th>\n",
              "      <th>Close</th>\n",
              "      <th>High</th>\n",
              "      <th>Low</th>\n",
              "      <th>Change</th>\n",
              "      <th>Vol_in_Ton</th>\n",
              "      <th>WarehouseName</th>\n",
              "    </tr>\n",
              "  </thead>\n",
              "  <tbody>\n",
              "    <tr>\n",
              "      <th>0</th>\n",
              "      <td>WLMQ2</td>\n",
              "      <td>2012</td>\n",
              "      <td>1331</td>\n",
              "      <td>1323</td>\n",
              "      <td>1331</td>\n",
              "      <td>1320</td>\n",
              "      <td>8</td>\n",
              "      <td>36.01</td>\n",
              "      <td>Jimma</td>\n",
              "    </tr>\n",
              "    <tr>\n",
              "      <th>1</th>\n",
              "      <td>USK7</td>\n",
              "      <td>2011</td>\n",
              "      <td>1016</td>\n",
              "      <td>1018</td>\n",
              "      <td>1018</td>\n",
              "      <td>1018</td>\n",
              "      <td>2</td>\n",
              "      <td>12.75</td>\n",
              "      <td>Bonga</td>\n",
              "    </tr>\n",
              "    <tr>\n",
              "      <th>2</th>\n",
              "      <td>USDE5</td>\n",
              "      <td>2012</td>\n",
              "      <td>1116</td>\n",
              "      <td>1090</td>\n",
              "      <td>1090</td>\n",
              "      <td>1090</td>\n",
              "      <td>26</td>\n",
              "      <td>6.00</td>\n",
              "      <td>WolayitaSodo</td>\n",
              "    </tr>\n",
              "    <tr>\n",
              "      <th>3</th>\n",
              "      <td>UKW9</td>\n",
              "      <td>2011</td>\n",
              "      <td>947</td>\n",
              "      <td>966</td>\n",
              "      <td>966</td>\n",
              "      <td>966</td>\n",
              "      <td>19</td>\n",
              "      <td>5.10</td>\n",
              "      <td>Gimbi</td>\n",
              "    </tr>\n",
              "    <tr>\n",
              "      <th>4</th>\n",
              "      <td>UKW7</td>\n",
              "      <td>2011</td>\n",
              "      <td>1074</td>\n",
              "      <td>1075</td>\n",
              "      <td>1087</td>\n",
              "      <td>1066</td>\n",
              "      <td>1</td>\n",
              "      <td>27.91</td>\n",
              "      <td>Gimbi</td>\n",
              "    </tr>\n",
              "    <tr>\n",
              "      <th>...</th>\n",
              "      <td>...</td>\n",
              "      <td>...</td>\n",
              "      <td>...</td>\n",
              "      <td>...</td>\n",
              "      <td>...</td>\n",
              "      <td>...</td>\n",
              "      <td>...</td>\n",
              "      <td>...</td>\n",
              "      <td>...</td>\n",
              "    </tr>\n",
              "    <tr>\n",
              "      <th>34</th>\n",
              "      <td>LUBPAA5</td>\n",
              "      <td>2010</td>\n",
              "      <td>738</td>\n",
              "      <td>702</td>\n",
              "      <td>738</td>\n",
              "      <td>680</td>\n",
              "      <td>36</td>\n",
              "      <td>56.10</td>\n",
              "      <td>SarisCoffee</td>\n",
              "    </tr>\n",
              "    <tr>\n",
              "      <th>35</th>\n",
              "      <td>LUBPAA4</td>\n",
              "      <td>2010</td>\n",
              "      <td>756</td>\n",
              "      <td>740</td>\n",
              "      <td>795</td>\n",
              "      <td>680</td>\n",
              "      <td>16</td>\n",
              "      <td>56.93</td>\n",
              "      <td>SarisCoffee</td>\n",
              "    </tr>\n",
              "    <tr>\n",
              "      <th>36</th>\n",
              "      <td>LUBPAA3</td>\n",
              "      <td>2010</td>\n",
              "      <td>1028</td>\n",
              "      <td>1030</td>\n",
              "      <td>1131</td>\n",
              "      <td>925</td>\n",
              "      <td>2</td>\n",
              "      <td>97.33</td>\n",
              "      <td>SarisCoffee</td>\n",
              "    </tr>\n",
              "    <tr>\n",
              "      <th>37</th>\n",
              "      <td>LUBPAA2</td>\n",
              "      <td>2010</td>\n",
              "      <td>1224</td>\n",
              "      <td>1219</td>\n",
              "      <td>1219</td>\n",
              "      <td>1219</td>\n",
              "      <td>5</td>\n",
              "      <td>17.85</td>\n",
              "      <td>SarisCoffee</td>\n",
              "    </tr>\n",
              "    <tr>\n",
              "      <th>38</th>\n",
              "      <td>LUBPAA1</td>\n",
              "      <td>2010</td>\n",
              "      <td>1315</td>\n",
              "      <td>1356</td>\n",
              "      <td>1356</td>\n",
              "      <td>1356</td>\n",
              "      <td>41</td>\n",
              "      <td>7.65</td>\n",
              "      <td>SarisCoffee</td>\n",
              "    </tr>\n",
              "  </tbody>\n",
              "</table>\n",
              "<p>172 rows × 9 columns</p>\n",
              "</div>"
            ],
            "text/plain": [
              "     Symbol  ProductionYear  PrvsClose  Close  High   Low  Change  Vol_in_Ton  \\\n",
              "0     WLMQ2            2012       1331   1323  1331  1320       8       36.01   \n",
              "1      USK7            2011       1016   1018  1018  1018       2       12.75   \n",
              "2     USDE5            2012       1116   1090  1090  1090      26        6.00   \n",
              "3      UKW9            2011        947    966   966   966      19        5.10   \n",
              "4      UKW7            2011       1074   1075  1087  1066       1       27.91   \n",
              "..      ...             ...        ...    ...   ...   ...     ...         ...   \n",
              "34  LUBPAA5            2010        738    702   738   680      36       56.10   \n",
              "35  LUBPAA4            2010        756    740   795   680      16       56.93   \n",
              "36  LUBPAA3            2010       1028   1030  1131   925       2       97.33   \n",
              "37  LUBPAA2            2010       1224   1219  1219  1219       5       17.85   \n",
              "38  LUBPAA1            2010       1315   1356  1356  1356      41        7.65   \n",
              "\n",
              "   WarehouseName  \n",
              "0          Jimma  \n",
              "1          Bonga  \n",
              "2   WolayitaSodo  \n",
              "3          Gimbi  \n",
              "4          Gimbi  \n",
              "..           ...  \n",
              "34   SarisCoffee  \n",
              "35   SarisCoffee  \n",
              "36   SarisCoffee  \n",
              "37   SarisCoffee  \n",
              "38   SarisCoffee  \n",
              "\n",
              "[172 rows x 9 columns]"
            ]
          },
          "execution_count": 67,
          "metadata": {},
          "output_type": "execute_result"
        }
      ],
      "source": [
        "df1 = pd.read_csv('./ece/csv/Coffee-2019-11-20.xls.csv')\n",
        "df2 = pd.read_csv('./ece/csv/Coffee-2019-11-19.xls.csv')\n",
        "df3 = pd.read_csv('./ece/csv/Coffee-2019-11-21.xls.csv')\n",
        "df4 = pd.read_csv('./ece/csv/Coffee-2019-11-22.xls.csv')\n",
        "df = pd.concat([df1,df2,df3,df4])\n",
        "df"
      ]
    },
    {
      "cell_type": "code",
      "execution_count": null,
      "metadata": {
        "id": "GEjqBMQtKszG",
        "outputId": "8d7272b9-ae1f-4855-a03f-00accf3f4c2c"
      },
      "outputs": [
        {
          "data": {
            "text/html": [
              "<div>\n",
              "<style scoped>\n",
              "    .dataframe tbody tr th:only-of-type {\n",
              "        vertical-align: middle;\n",
              "    }\n",
              "\n",
              "    .dataframe tbody tr th {\n",
              "        vertical-align: top;\n",
              "    }\n",
              "\n",
              "    .dataframe thead th {\n",
              "        text-align: right;\n",
              "    }\n",
              "</style>\n",
              "<table border=\"1\" class=\"dataframe\">\n",
              "  <thead>\n",
              "    <tr style=\"text-align: right;\">\n",
              "      <th>WarehouseName</th>\n",
              "      <th>Bedelle</th>\n",
              "      <th>Bonga</th>\n",
              "      <th>Bule Hora</th>\n",
              "      <th>DireDawa</th>\n",
              "      <th>Gimbi</th>\n",
              "      <th>Hawassa</th>\n",
              "      <th>Jimma</th>\n",
              "      <th>SarisCoffee</th>\n",
              "      <th>WolayitaSodo</th>\n",
              "    </tr>\n",
              "    <tr>\n",
              "      <th>ProductionYear</th>\n",
              "      <th></th>\n",
              "      <th></th>\n",
              "      <th></th>\n",
              "      <th></th>\n",
              "      <th></th>\n",
              "      <th></th>\n",
              "      <th></th>\n",
              "      <th></th>\n",
              "      <th></th>\n",
              "    </tr>\n",
              "  </thead>\n",
              "  <tbody>\n",
              "    <tr>\n",
              "      <th>2010</th>\n",
              "      <td>0</td>\n",
              "      <td>0</td>\n",
              "      <td>0</td>\n",
              "      <td>2</td>\n",
              "      <td>0</td>\n",
              "      <td>0</td>\n",
              "      <td>0</td>\n",
              "      <td>30</td>\n",
              "      <td>0</td>\n",
              "    </tr>\n",
              "    <tr>\n",
              "      <th>2011</th>\n",
              "      <td>10</td>\n",
              "      <td>36</td>\n",
              "      <td>2</td>\n",
              "      <td>10</td>\n",
              "      <td>33</td>\n",
              "      <td>1</td>\n",
              "      <td>18</td>\n",
              "      <td>0</td>\n",
              "      <td>0</td>\n",
              "    </tr>\n",
              "    <tr>\n",
              "      <th>2012</th>\n",
              "      <td>0</td>\n",
              "      <td>6</td>\n",
              "      <td>0</td>\n",
              "      <td>0</td>\n",
              "      <td>0</td>\n",
              "      <td>0</td>\n",
              "      <td>4</td>\n",
              "      <td>0</td>\n",
              "      <td>8</td>\n",
              "    </tr>\n",
              "  </tbody>\n",
              "</table>\n",
              "</div>"
            ],
            "text/plain": [
              "WarehouseName   Bedelle  Bonga  Bule Hora  DireDawa  Gimbi  Hawassa  Jimma  \\\n",
              "ProductionYear                                                               \n",
              "2010                  0      0          0         2      0        0      0   \n",
              "2011                 10     36          2        10     33        1     18   \n",
              "2012                  0      6          0         0      0        0      4   \n",
              "\n",
              "WarehouseName   SarisCoffee  WolayitaSodo  \n",
              "ProductionYear                             \n",
              "2010                     30             0  \n",
              "2011                      0             0  \n",
              "2012                      0             8  "
            ]
          },
          "execution_count": 68,
          "metadata": {},
          "output_type": "execute_result"
        }
      ],
      "source": [
        "# index by production year and compute the frequency of whaehoseName per year\n",
        "pd.crosstab(index=df['ProductionYear'], columns=df['WarehouseName'])"
      ]
    },
    {
      "cell_type": "code",
      "execution_count": null,
      "metadata": {
        "id": "CGU2Qs72KszH",
        "outputId": "f35109e9-4668-4a2a-e3af-80833100d24c"
      },
      "outputs": [
        {
          "data": {
            "text/html": [
              "<div>\n",
              "<style scoped>\n",
              "    .dataframe tbody tr th:only-of-type {\n",
              "        vertical-align: middle;\n",
              "    }\n",
              "\n",
              "    .dataframe tbody tr th {\n",
              "        vertical-align: top;\n",
              "    }\n",
              "\n",
              "    .dataframe thead th {\n",
              "        text-align: right;\n",
              "    }\n",
              "</style>\n",
              "<table border=\"1\" class=\"dataframe\">\n",
              "  <thead>\n",
              "    <tr style=\"text-align: right;\">\n",
              "      <th>ProductionYear</th>\n",
              "      <th>2010</th>\n",
              "      <th>2011</th>\n",
              "      <th>2012</th>\n",
              "      <th>All</th>\n",
              "    </tr>\n",
              "    <tr>\n",
              "      <th>WarehouseName</th>\n",
              "      <th></th>\n",
              "      <th></th>\n",
              "      <th></th>\n",
              "      <th></th>\n",
              "    </tr>\n",
              "  </thead>\n",
              "  <tbody>\n",
              "    <tr>\n",
              "      <th>Bedelle</th>\n",
              "      <td>0.0</td>\n",
              "      <td>10674.0</td>\n",
              "      <td>0.0</td>\n",
              "      <td>10674</td>\n",
              "    </tr>\n",
              "    <tr>\n",
              "      <th>Bonga</th>\n",
              "      <td>0.0</td>\n",
              "      <td>36120.0</td>\n",
              "      <td>6684.0</td>\n",
              "      <td>42804</td>\n",
              "    </tr>\n",
              "    <tr>\n",
              "      <th>Bule Hora</th>\n",
              "      <td>0.0</td>\n",
              "      <td>1245.0</td>\n",
              "      <td>0.0</td>\n",
              "      <td>1245</td>\n",
              "    </tr>\n",
              "    <tr>\n",
              "      <th>DireDawa</th>\n",
              "      <td>1350.0</td>\n",
              "      <td>19730.0</td>\n",
              "      <td>0.0</td>\n",
              "      <td>21080</td>\n",
              "    </tr>\n",
              "    <tr>\n",
              "      <th>Gimbi</th>\n",
              "      <td>0.0</td>\n",
              "      <td>35150.0</td>\n",
              "      <td>0.0</td>\n",
              "      <td>35150</td>\n",
              "    </tr>\n",
              "    <tr>\n",
              "      <th>Hawassa</th>\n",
              "      <td>0.0</td>\n",
              "      <td>1250.0</td>\n",
              "      <td>0.0</td>\n",
              "      <td>1250</td>\n",
              "    </tr>\n",
              "    <tr>\n",
              "      <th>Jimma</th>\n",
              "      <td>0.0</td>\n",
              "      <td>16800.0</td>\n",
              "      <td>5188.0</td>\n",
              "      <td>21988</td>\n",
              "    </tr>\n",
              "    <tr>\n",
              "      <th>SarisCoffee</th>\n",
              "      <td>33580.0</td>\n",
              "      <td>0.0</td>\n",
              "      <td>0.0</td>\n",
              "      <td>33580</td>\n",
              "    </tr>\n",
              "    <tr>\n",
              "      <th>WolayitaSodo</th>\n",
              "      <td>0.0</td>\n",
              "      <td>0.0</td>\n",
              "      <td>8781.0</td>\n",
              "      <td>8781</td>\n",
              "    </tr>\n",
              "    <tr>\n",
              "      <th>All</th>\n",
              "      <td>34930.0</td>\n",
              "      <td>120969.0</td>\n",
              "      <td>20653.0</td>\n",
              "      <td>176552</td>\n",
              "    </tr>\n",
              "  </tbody>\n",
              "</table>\n",
              "</div>"
            ],
            "text/plain": [
              "ProductionYear     2010      2011     2012     All\n",
              "WarehouseName                                     \n",
              "Bedelle             0.0   10674.0      0.0   10674\n",
              "Bonga               0.0   36120.0   6684.0   42804\n",
              "Bule Hora           0.0    1245.0      0.0    1245\n",
              "DireDawa         1350.0   19730.0      0.0   21080\n",
              "Gimbi               0.0   35150.0      0.0   35150\n",
              "Hawassa             0.0    1250.0      0.0    1250\n",
              "Jimma               0.0   16800.0   5188.0   21988\n",
              "SarisCoffee     33580.0       0.0      0.0   33580\n",
              "WolayitaSodo        0.0       0.0   8781.0    8781\n",
              "All             34930.0  120969.0  20653.0  176552"
            ]
          },
          "execution_count": 69,
          "metadata": {},
          "output_type": "execute_result"
        }
      ],
      "source": [
        "# Index by WarehouseName and group by ProductionYear and compute the sum of the Close, if NaN, fill it with 0\n",
        "pd.crosstab(index=df['WarehouseName'],\n",
        "            columns=df['ProductionYear'],\n",
        "            values=df['Close'],\n",
        "            aggfunc=np.sum,\n",
        "           margins=True).round(0).fillna(0)"
      ]
    },
    {
      "cell_type": "markdown",
      "metadata": {
        "id": "B4TKXXHYssxs"
      },
      "source": [
        "---"
      ]
    },
    {
      "cell_type": "markdown",
      "metadata": {
        "id": "Ji6s0DNUdzrv"
      },
      "source": [
        "# References\n",
        "1. [Pandas and ML](https://github.com/BindiChen/machine-learning)\n",
        "1. [Data Analysis and Visualization Using Python]()\n",
        "1. [Scipy Lecture Notes](https://scipy-lectures.org/_downloads/ScipyLectures-simple.pdf)\n",
        "1. [An introduction to machine learning with scikit-learn](https://scikit-learn.org/stable/tutorial/basic/tutorial.html)"
      ]
    }
  ],
  "metadata": {
    "celltoolbar": "Slideshow",
    "colab": {
      "provenance": [],
      "toc_visible": true,
      "include_colab_link": true
    },
    "kernelspec": {
      "display_name": "Python 3",
      "language": "python",
      "name": "python3"
    },
    "language_info": {
      "codemirror_mode": {
        "name": "ipython",
        "version": 3
      },
      "file_extension": ".py",
      "mimetype": "text/x-python",
      "name": "python",
      "nbconvert_exporter": "python",
      "pygments_lexer": "ipython3",
      "version": "3.8.8"
    }
  },
  "nbformat": 4,
  "nbformat_minor": 0
}